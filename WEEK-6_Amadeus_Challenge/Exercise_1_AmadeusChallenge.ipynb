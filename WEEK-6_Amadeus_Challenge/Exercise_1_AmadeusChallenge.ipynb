{
 "cells": [
  {
   "cell_type": "markdown",
   "metadata": {},
   "source": [
    "# Exercise 1: Count the number of lines in Python for each file"
   ]
  },
  {
   "cell_type": "markdown",
   "metadata": {},
   "source": [
    "## Moving to folder data and clean it"
   ]
  },
  {
   "cell_type": "code",
   "execution_count": 1,
   "metadata": {},
   "outputs": [
    {
     "data": {
      "text/plain": [
       "'/home/gonzalo/Escritorio'"
      ]
     },
     "execution_count": 1,
     "metadata": {},
     "output_type": "execute_result"
    }
   ],
   "source": [
    "pwd"
   ]
  },
  {
   "cell_type": "code",
   "execution_count": 2,
   "metadata": {},
   "outputs": [
    {
     "name": "stdout",
     "output_type": "stream",
     "text": [
      "/home/gonzalo/Data/challenge\n"
     ]
    }
   ],
   "source": [
    "cd /home/gonzalo/Data/challenge/"
   ]
  },
  {
   "cell_type": "code",
   "execution_count": 3,
   "metadata": {},
   "outputs": [
    {
     "data": {
      "text/plain": [
       "'/home/gonzalo/Data/challenge'"
      ]
     },
     "execution_count": 3,
     "metadata": {},
     "output_type": "execute_result"
    }
   ],
   "source": [
    "pwd"
   ]
  },
  {
   "cell_type": "code",
   "execution_count": 4,
   "metadata": {},
   "outputs": [
    {
     "name": "stdout",
     "output_type": "stream",
     "text": [
      "total 1094060\r\n",
      "-rwxr-x--- 1 gonzalo 554970628 mar 13  2018 \u001b[0m\u001b[01;32mbookings.csv.bz2\u001b[0m*\r\n",
      "-rwxrwxrwx 1 gonzalo  56437955 ene 26 12:16 \u001b[01;32mbooking_wo_duplicates.csv.bz2\u001b[0m*\r\n",
      "-rwxrwxrwx 1 gonzalo   4232732 ene 25 17:18 \u001b[01;32msample_bookings.csv\u001b[0m*\r\n",
      "-rwxrwxrwx 1 gonzalo    244720 ene 25 17:19 \u001b[01;32msample_searches.csv.bz2\u001b[0m*\r\n",
      "-rwxr-x--- 1 gonzalo 483188920 mar 13  2018 \u001b[01;32msearches.csv.bz2\u001b[0m*\r\n",
      "-rwxrwxrwx 1 gonzalo  10013467 ene 26 12:29 \u001b[01;32msearches_wo_duplicates.csv.bz2\u001b[0m*\r\n",
      "-rw-r--r-- 1 gonzalo  11203614 ene 26 13:46 \u001b[01;31msearch_with_booking.csv.bz2\u001b[0m\r\n",
      "-rw-r--r-- 1 gonzalo       476 ene 25 21:23 top_airport.csv\r\n"
     ]
    }
   ],
   "source": [
    "% ll"
   ]
  },
  {
   "cell_type": "code",
   "execution_count": 5,
   "metadata": {},
   "outputs": [],
   "source": [
    "! rm booking_wo_duplicates.csv.bz2 sample_bookings.csv sample_searches.csv.bz2 searches_wo_duplicates.csv.bz2 search_with_booking.csv.bz2 top_airport.csv\n"
   ]
  },
  {
   "cell_type": "code",
   "execution_count": 6,
   "metadata": {
    "scrolled": false
   },
   "outputs": [
    {
     "name": "stdout",
     "output_type": "stream",
     "text": [
      "total 1013840\r\n",
      "-rwxr-x--- 1 gonzalo 554970628 mar 13  2018 \u001b[0m\u001b[01;32mbookings.csv.bz2\u001b[0m*\r\n",
      "-rwxr-x--- 1 gonzalo 483188920 mar 13  2018 \u001b[01;32msearches.csv.bz2\u001b[0m*\r\n"
     ]
    }
   ],
   "source": [
    "% ll"
   ]
  },
  {
   "cell_type": "code",
   "execution_count": 15,
   "metadata": {
    "scrolled": true
   },
   "outputs": [
    {
     "name": "stdout",
     "output_type": "stream",
     "text": [
      "act_date           ^source^pos_ctry^pos_iata^pos_oid  ^rloc          ^cre_date           ^duration^distance^dep_port^dep_city^dep_ctry^arr_port^arr_city^arr_ctry^lst_port^lst_city^lst_ctry^brd_port^brd_city^brd_ctry^off_port^off_city^off_ctry^mkt_port^mkt_city^mkt_ctry^intl^route          ^carrier^bkg_class^cab_class^brd_time           ^off_time           ^pax^year^month^oid      \r\n",
      "2013-03-05 00:00:00^1A    ^DE      ^a68dd7ae953c8acfb187a1af2dcbe123^1a11ae49fcbf545fd2afc1a24d88d2b7^ea65900e72d71f4626378e2ebd298267^2013-02-22 00:00:00^1708^0^ZRH     ^ZRH     ^CH      ^LHR     ^LON     ^GB      ^ZRH     ^ZRH     ^CH      ^LHR     ^LON     ^GB      ^ZRH     ^ZRH     ^CH      ^LHRZRH  ^LONZRH  ^CHGB    ^1^LHRZRH         ^VI^T        ^Y        ^2013-03-07 08:50:00^2013-03-07 11:33:37^-1^2013^3^NULL     \r\n",
      "\r\n",
      "bzcat: I/O or other error, bailing out.  Possible reason follows.\r\n",
      "bzcat: Broken pipe\r\n",
      "\tInput file = bookings.csv.bz2, output file = (stdout)\r\n"
     ]
    }
   ],
   "source": [
    "! bzcat bookings.csv.bz2 | head -2"
   ]
  },
  {
   "cell_type": "code",
   "execution_count": 16,
   "metadata": {
    "scrolled": true
   },
   "outputs": [
    {
     "name": "stdout",
     "output_type": "stream",
     "text": [
      "Date^Time^TxnCode^OfficeID^Country^Origin^Destination^RoundTrip^NbSegments^Seg1Departure^Seg1Arrival^Seg1Date^Seg1Carrier^Seg1BookingCode^Seg2Departure^Seg2Arrival^Seg2Date^Seg2Carrier^Seg2BookingCode^Seg3Departure^Seg3Arrival^Seg3Date^Seg3Carrier^Seg3BookingCode^Seg4Departure^Seg4Arrival^Seg4Date^Seg4Carrier^Seg4BookingCode^Seg5Departure^Seg5Arrival^Seg5Date^Seg5Carrier^Seg5BookingCode^Seg6Departure^Seg6Arrival^Seg6Date^Seg6Carrier^Seg6BookingCode^From^IsPublishedForNeg^IsFromInternet^IsFromVista^TerminalID^InternetOffice\r\n",
      "2013-01-01^20:25:57^MPT^624d8c3ac0b3a7ca03e3c167e0f48327^DE^TXL^AUH^1^2^TXL^AUH^2013-01-26^D2^^AUH^TXL^2013-02-02^D2^^^^^^^^^^^^^^^^^^^^^^1ASIWS^0^0^0^d41d8cd98f00b204e9800998ecf8427e^FRA\r\n",
      "\r\n",
      "bzcat: I/O or other error, bailing out.  Possible reason follows.\r\n",
      "bzcat: Broken pipe\r\n",
      "\tInput file = searches.csv.bz2, output file = (stdout)\r\n"
     ]
    }
   ],
   "source": [
    "! bzcat searches.csv.bz2 | head -2"
   ]
  },
  {
   "cell_type": "markdown",
   "metadata": {},
   "source": [
    "## Create samples in order to work easier with them"
   ]
  },
  {
   "cell_type": "code",
   "execution_count": 8,
   "metadata": {},
   "outputs": [],
   "source": [
    "import pandas as pd\n",
    "import os"
   ]
  },
  {
   "cell_type": "code",
   "execution_count": 11,
   "metadata": {},
   "outputs": [
    {
     "data": {
      "text/plain": [
       "['bookings.csv.bz2', 'searches.csv.bz2']"
      ]
     },
     "execution_count": 11,
     "metadata": {},
     "output_type": "execute_result"
    }
   ],
   "source": [
    "list_of_documents = os.listdir('.')\n",
    "list_of_documents"
   ]
  },
  {
   "cell_type": "code",
   "execution_count": 18,
   "metadata": {},
   "outputs": [
    {
     "data": {
      "text/html": [
       "<div>\n",
       "<style scoped>\n",
       "    .dataframe tbody tr th:only-of-type {\n",
       "        vertical-align: middle;\n",
       "    }\n",
       "\n",
       "    .dataframe tbody tr th {\n",
       "        vertical-align: top;\n",
       "    }\n",
       "\n",
       "    .dataframe thead th {\n",
       "        text-align: right;\n",
       "    }\n",
       "</style>\n",
       "<table border=\"1\" class=\"dataframe\">\n",
       "  <thead>\n",
       "    <tr style=\"text-align: right;\">\n",
       "      <th></th>\n",
       "      <th>act_date</th>\n",
       "      <th>source</th>\n",
       "      <th>pos_ctry</th>\n",
       "      <th>pos_iata</th>\n",
       "      <th>pos_oid</th>\n",
       "      <th>rloc</th>\n",
       "      <th>cre_date</th>\n",
       "      <th>duration</th>\n",
       "      <th>distance</th>\n",
       "      <th>dep_port</th>\n",
       "      <th>...</th>\n",
       "      <th>route</th>\n",
       "      <th>carrier</th>\n",
       "      <th>bkg_class</th>\n",
       "      <th>cab_class</th>\n",
       "      <th>brd_time</th>\n",
       "      <th>off_time</th>\n",
       "      <th>pax</th>\n",
       "      <th>year</th>\n",
       "      <th>month</th>\n",
       "      <th>oid</th>\n",
       "    </tr>\n",
       "  </thead>\n",
       "  <tbody>\n",
       "    <tr>\n",
       "      <th>5411</th>\n",
       "      <td>2013-03-11 00:00:00</td>\n",
       "      <td>1A</td>\n",
       "      <td>FR</td>\n",
       "      <td>2334c1467da16e9dcfd0ac179941b3b2</td>\n",
       "      <td>e787f494ce7fe482936a95765627b57d</td>\n",
       "      <td>c7a09141ccd49f5d715b526847c30dd4</td>\n",
       "      <td>2013-03-11 00:00:00</td>\n",
       "      <td>47470</td>\n",
       "      <td>0</td>\n",
       "      <td>CDG</td>\n",
       "      <td>...</td>\n",
       "      <td>FIHBRUCDG</td>\n",
       "      <td>DX</td>\n",
       "      <td>E</td>\n",
       "      <td>Y</td>\n",
       "      <td>2013-06-15 20:25:00</td>\n",
       "      <td>2013-06-16 07:40:44</td>\n",
       "      <td>1</td>\n",
       "      <td>2013</td>\n",
       "      <td>3</td>\n",
       "      <td>PARA12263</td>\n",
       "    </tr>\n",
       "    <tr>\n",
       "      <th>2770</th>\n",
       "      <td>2013-03-18 00:00:00</td>\n",
       "      <td>1V</td>\n",
       "      <td>JP</td>\n",
       "      <td>75ad6fea47c9fd4ba9fb7a9aef158288</td>\n",
       "      <td>2459058088c7503fb6a7c02885e772ef</td>\n",
       "      <td>174eb4ea3a98fe60cbba9a0e911a852e</td>\n",
       "      <td>2013-03-18 00:00:00</td>\n",
       "      <td>14288</td>\n",
       "      <td>0</td>\n",
       "      <td>NRT</td>\n",
       "      <td>...</td>\n",
       "      <td>FCOMUC</td>\n",
       "      <td>VR</td>\n",
       "      <td>Z</td>\n",
       "      <td>C</td>\n",
       "      <td>2013-05-07 12:05:00</td>\n",
       "      <td>2013-05-07 13:44:31</td>\n",
       "      <td>1</td>\n",
       "      <td>2013</td>\n",
       "      <td>3</td>\n",
       "      <td>NULL</td>\n",
       "    </tr>\n",
       "    <tr>\n",
       "      <th>5865</th>\n",
       "      <td>2013-03-25 00:00:00</td>\n",
       "      <td>1P</td>\n",
       "      <td>MX</td>\n",
       "      <td>9c3f0abd29454092c1a91e33af912d84</td>\n",
       "      <td>94807d2cc40b27f71fb1891f9da93e52</td>\n",
       "      <td>34a7b4f803a0ce3ba98f09fb13317659</td>\n",
       "      <td>2013-03-25 00:00:00</td>\n",
       "      <td>6355</td>\n",
       "      <td>0</td>\n",
       "      <td>MEX</td>\n",
       "      <td>...</td>\n",
       "      <td>HMOMEX</td>\n",
       "      <td>KW</td>\n",
       "      <td>K</td>\n",
       "      <td>Y</td>\n",
       "      <td>2013-04-05 12:43:00</td>\n",
       "      <td>2013-04-05 16:25:12</td>\n",
       "      <td>3</td>\n",
       "      <td>2013</td>\n",
       "      <td>3</td>\n",
       "      <td>NULL</td>\n",
       "    </tr>\n",
       "    <tr>\n",
       "      <th>129</th>\n",
       "      <td>2013-03-05 00:00:00</td>\n",
       "      <td>1S</td>\n",
       "      <td>CA</td>\n",
       "      <td>cb58cd5ade1840e4ab06e007586091aa</td>\n",
       "      <td>30e54d5fd8a08c8c5c0b7086d4d8f56c</td>\n",
       "      <td>c45de47c67dc9aa02dca77233859ef01</td>\n",
       "      <td>2013-03-05 00:00:00</td>\n",
       "      <td>19713</td>\n",
       "      <td>0</td>\n",
       "      <td>YYZ</td>\n",
       "      <td>...</td>\n",
       "      <td>TLVYYZ</td>\n",
       "      <td>VJ</td>\n",
       "      <td>N</td>\n",
       "      <td>Y</td>\n",
       "      <td>2013-09-01 00:50:00</td>\n",
       "      <td>2013-09-01 05:33:42</td>\n",
       "      <td>1</td>\n",
       "      <td>2013</td>\n",
       "      <td>3</td>\n",
       "      <td>NULL</td>\n",
       "    </tr>\n",
       "    <tr>\n",
       "      <th>8445</th>\n",
       "      <td>2013-03-28 00:00:00</td>\n",
       "      <td>1V</td>\n",
       "      <td>JP</td>\n",
       "      <td>bf63ae88f00b6d456b678aa5db045114</td>\n",
       "      <td>f0bdcdbd8412855399afd3c2ed38e861</td>\n",
       "      <td>5b4d7385def42e4aef12737ca118e275</td>\n",
       "      <td>2013-03-22 00:00:00</td>\n",
       "      <td>24666</td>\n",
       "      <td>0</td>\n",
       "      <td>NRT</td>\n",
       "      <td>...</td>\n",
       "      <td>TPENRT</td>\n",
       "      <td>XR</td>\n",
       "      <td>C</td>\n",
       "      <td>C</td>\n",
       "      <td>2013-05-03 08:45:00</td>\n",
       "      <td>2013-05-03 13:06:51</td>\n",
       "      <td>1</td>\n",
       "      <td>2013</td>\n",
       "      <td>3</td>\n",
       "      <td>NULL</td>\n",
       "    </tr>\n",
       "  </tbody>\n",
       "</table>\n",
       "<p>5 rows × 38 columns</p>\n",
       "</div>"
      ],
      "text/plain": [
       "      act_date             source  pos_ctry                          pos_iata  \\\n",
       "5411  2013-03-11 00:00:00  1A      FR        2334c1467da16e9dcfd0ac179941b3b2   \n",
       "2770  2013-03-18 00:00:00  1V      JP        75ad6fea47c9fd4ba9fb7a9aef158288   \n",
       "5865  2013-03-25 00:00:00  1P      MX        9c3f0abd29454092c1a91e33af912d84   \n",
       "129   2013-03-05 00:00:00  1S      CA        cb58cd5ade1840e4ab06e007586091aa   \n",
       "8445  2013-03-28 00:00:00  1V      JP        bf63ae88f00b6d456b678aa5db045114   \n",
       "\n",
       "                             pos_oid                      rloc            \\\n",
       "5411  e787f494ce7fe482936a95765627b57d  c7a09141ccd49f5d715b526847c30dd4   \n",
       "2770  2459058088c7503fb6a7c02885e772ef  174eb4ea3a98fe60cbba9a0e911a852e   \n",
       "5865  94807d2cc40b27f71fb1891f9da93e52  34a7b4f803a0ce3ba98f09fb13317659   \n",
       "129   30e54d5fd8a08c8c5c0b7086d4d8f56c  c45de47c67dc9aa02dca77233859ef01   \n",
       "8445  f0bdcdbd8412855399afd3c2ed38e861  5b4d7385def42e4aef12737ca118e275   \n",
       "\n",
       "      cre_date             duration  distance  dep_port    ...      \\\n",
       "5411  2013-03-11 00:00:00     47470         0  CDG         ...       \n",
       "2770  2013-03-18 00:00:00     14288         0  NRT         ...       \n",
       "5865  2013-03-25 00:00:00      6355         0  MEX         ...       \n",
       "129   2013-03-05 00:00:00     19713         0  YYZ         ...       \n",
       "8445  2013-03-22 00:00:00     24666         0  NRT         ...       \n",
       "\n",
       "      route           carrier  bkg_class  cab_class  brd_time             \\\n",
       "5411     FIHBRUCDG         DX  E          Y          2013-06-15 20:25:00   \n",
       "2770     FCOMUC            VR  Z          C          2013-05-07 12:05:00   \n",
       "5865     HMOMEX            KW  K          Y          2013-04-05 12:43:00   \n",
       "129   TLVYYZ               VJ  N          Y          2013-09-01 00:50:00   \n",
       "8445  TPENRT               XR  C          C          2013-05-03 08:45:00   \n",
       "\n",
       "      off_time            pax  year month  oid        \n",
       "5411  2013-06-16 07:40:44   1  2013     3  PARA12263  \n",
       "2770  2013-05-07 13:44:31   1  2013     3  NULL       \n",
       "5865  2013-04-05 16:25:12   3  2013     3  NULL       \n",
       "129   2013-09-01 05:33:42   1  2013     3  NULL       \n",
       "8445  2013-05-03 13:06:51   1  2013     3  NULL       \n",
       "\n",
       "[5 rows x 38 columns]"
      ]
     },
     "execution_count": 18,
     "metadata": {},
     "output_type": "execute_result"
    }
   ],
   "source": [
    "b_sample = pd.read_csv(list_of_documents[0], sep='^', nrows=10000)\n",
    "b_sample.sample(5)"
   ]
  },
  {
   "cell_type": "code",
   "execution_count": 19,
   "metadata": {},
   "outputs": [
    {
     "data": {
      "text/html": [
       "<div>\n",
       "<style scoped>\n",
       "    .dataframe tbody tr th:only-of-type {\n",
       "        vertical-align: middle;\n",
       "    }\n",
       "\n",
       "    .dataframe tbody tr th {\n",
       "        vertical-align: top;\n",
       "    }\n",
       "\n",
       "    .dataframe thead th {\n",
       "        text-align: right;\n",
       "    }\n",
       "</style>\n",
       "<table border=\"1\" class=\"dataframe\">\n",
       "  <thead>\n",
       "    <tr style=\"text-align: right;\">\n",
       "      <th></th>\n",
       "      <th>Date</th>\n",
       "      <th>Time</th>\n",
       "      <th>TxnCode</th>\n",
       "      <th>OfficeID</th>\n",
       "      <th>Country</th>\n",
       "      <th>Origin</th>\n",
       "      <th>Destination</th>\n",
       "      <th>RoundTrip</th>\n",
       "      <th>NbSegments</th>\n",
       "      <th>Seg1Departure</th>\n",
       "      <th>...</th>\n",
       "      <th>Seg6Arrival</th>\n",
       "      <th>Seg6Date</th>\n",
       "      <th>Seg6Carrier</th>\n",
       "      <th>Seg6BookingCode</th>\n",
       "      <th>From</th>\n",
       "      <th>IsPublishedForNeg</th>\n",
       "      <th>IsFromInternet</th>\n",
       "      <th>IsFromVista</th>\n",
       "      <th>TerminalID</th>\n",
       "      <th>InternetOffice</th>\n",
       "    </tr>\n",
       "  </thead>\n",
       "  <tbody>\n",
       "    <tr>\n",
       "      <th>3138</th>\n",
       "      <td>2013-01-04</td>\n",
       "      <td>13:45:27</td>\n",
       "      <td>MPT</td>\n",
       "      <td>f60e2ae7a4338f72f4b7c36b30a527ec</td>\n",
       "      <td>SE</td>\n",
       "      <td>STO</td>\n",
       "      <td>ZAG</td>\n",
       "      <td>1</td>\n",
       "      <td>2</td>\n",
       "      <td>STO</td>\n",
       "      <td>...</td>\n",
       "      <td>NaN</td>\n",
       "      <td>NaN</td>\n",
       "      <td>NaN</td>\n",
       "      <td>NaN</td>\n",
       "      <td>1ASIWS</td>\n",
       "      <td>0</td>\n",
       "      <td>0</td>\n",
       "      <td>0</td>\n",
       "      <td>d41d8cd98f00b204e9800998ecf8427e</td>\n",
       "      <td>STO</td>\n",
       "    </tr>\n",
       "    <tr>\n",
       "      <th>5263</th>\n",
       "      <td>2013-01-06</td>\n",
       "      <td>08:41:57</td>\n",
       "      <td>FFP</td>\n",
       "      <td>53aea156edeed571bbc473c82b01ac4b</td>\n",
       "      <td>BR</td>\n",
       "      <td>REC</td>\n",
       "      <td>BEL</td>\n",
       "      <td>0</td>\n",
       "      <td>1</td>\n",
       "      <td>REC</td>\n",
       "      <td>...</td>\n",
       "      <td>NaN</td>\n",
       "      <td>NaN</td>\n",
       "      <td>NaN</td>\n",
       "      <td>NaN</td>\n",
       "      <td>1ASIWS</td>\n",
       "      <td>0</td>\n",
       "      <td>0</td>\n",
       "      <td>0</td>\n",
       "      <td>d41d8cd98f00b204e9800998ecf8427e</td>\n",
       "      <td>SAO</td>\n",
       "    </tr>\n",
       "    <tr>\n",
       "      <th>883</th>\n",
       "      <td>2013-01-01</td>\n",
       "      <td>18:29:06</td>\n",
       "      <td>MPT</td>\n",
       "      <td>440642a9bdaeb6287f826cefd73255e8</td>\n",
       "      <td>US</td>\n",
       "      <td>WAS</td>\n",
       "      <td>BUE</td>\n",
       "      <td>1</td>\n",
       "      <td>2</td>\n",
       "      <td>WAS</td>\n",
       "      <td>...</td>\n",
       "      <td>NaN</td>\n",
       "      <td>NaN</td>\n",
       "      <td>NaN</td>\n",
       "      <td>NaN</td>\n",
       "      <td>1ASIWS</td>\n",
       "      <td>0</td>\n",
       "      <td>0</td>\n",
       "      <td>0</td>\n",
       "      <td>d41d8cd98f00b204e9800998ecf8427e</td>\n",
       "      <td>HPN</td>\n",
       "    </tr>\n",
       "    <tr>\n",
       "      <th>6662</th>\n",
       "      <td>2013-01-07</td>\n",
       "      <td>04:33:14</td>\n",
       "      <td>MPT</td>\n",
       "      <td>e8741eaf2fa2f71f931475d18fa72096</td>\n",
       "      <td>US</td>\n",
       "      <td>AMM</td>\n",
       "      <td>KWI</td>\n",
       "      <td>1</td>\n",
       "      <td>2</td>\n",
       "      <td>AMM</td>\n",
       "      <td>...</td>\n",
       "      <td>NaN</td>\n",
       "      <td>NaN</td>\n",
       "      <td>NaN</td>\n",
       "      <td>NaN</td>\n",
       "      <td>1ASIWS</td>\n",
       "      <td>0</td>\n",
       "      <td>0</td>\n",
       "      <td>0</td>\n",
       "      <td>d41d8cd98f00b204e9800998ecf8427e</td>\n",
       "      <td>SEA</td>\n",
       "    </tr>\n",
       "    <tr>\n",
       "      <th>1076</th>\n",
       "      <td>2013-01-02</td>\n",
       "      <td>12:43:38</td>\n",
       "      <td>MPT</td>\n",
       "      <td>440642a9bdaeb6287f826cefd73255e8</td>\n",
       "      <td>US</td>\n",
       "      <td>NYC</td>\n",
       "      <td>ZRH</td>\n",
       "      <td>1</td>\n",
       "      <td>2</td>\n",
       "      <td>NYC</td>\n",
       "      <td>...</td>\n",
       "      <td>NaN</td>\n",
       "      <td>NaN</td>\n",
       "      <td>NaN</td>\n",
       "      <td>NaN</td>\n",
       "      <td>1ASIWS</td>\n",
       "      <td>0</td>\n",
       "      <td>0</td>\n",
       "      <td>0</td>\n",
       "      <td>d41d8cd98f00b204e9800998ecf8427e</td>\n",
       "      <td>HPN</td>\n",
       "    </tr>\n",
       "  </tbody>\n",
       "</table>\n",
       "<p>5 rows × 45 columns</p>\n",
       "</div>"
      ],
      "text/plain": [
       "            Date      Time TxnCode                          OfficeID Country  \\\n",
       "3138  2013-01-04  13:45:27     MPT  f60e2ae7a4338f72f4b7c36b30a527ec      SE   \n",
       "5263  2013-01-06  08:41:57     FFP  53aea156edeed571bbc473c82b01ac4b      BR   \n",
       "883   2013-01-01  18:29:06     MPT  440642a9bdaeb6287f826cefd73255e8      US   \n",
       "6662  2013-01-07  04:33:14     MPT  e8741eaf2fa2f71f931475d18fa72096      US   \n",
       "1076  2013-01-02  12:43:38     MPT  440642a9bdaeb6287f826cefd73255e8      US   \n",
       "\n",
       "     Origin Destination  RoundTrip  NbSegments Seg1Departure      ...        \\\n",
       "3138    STO         ZAG          1           2           STO      ...         \n",
       "5263    REC         BEL          0           1           REC      ...         \n",
       "883     WAS         BUE          1           2           WAS      ...         \n",
       "6662    AMM         KWI          1           2           AMM      ...         \n",
       "1076    NYC         ZRH          1           2           NYC      ...         \n",
       "\n",
       "     Seg6Arrival Seg6Date Seg6Carrier Seg6BookingCode    From  \\\n",
       "3138         NaN      NaN         NaN             NaN  1ASIWS   \n",
       "5263         NaN      NaN         NaN             NaN  1ASIWS   \n",
       "883          NaN      NaN         NaN             NaN  1ASIWS   \n",
       "6662         NaN      NaN         NaN             NaN  1ASIWS   \n",
       "1076         NaN      NaN         NaN             NaN  1ASIWS   \n",
       "\n",
       "     IsPublishedForNeg IsFromInternet IsFromVista  \\\n",
       "3138                 0              0           0   \n",
       "5263                 0              0           0   \n",
       "883                  0              0           0   \n",
       "6662                 0              0           0   \n",
       "1076                 0              0           0   \n",
       "\n",
       "                            TerminalID InternetOffice  \n",
       "3138  d41d8cd98f00b204e9800998ecf8427e            STO  \n",
       "5263  d41d8cd98f00b204e9800998ecf8427e            SAO  \n",
       "883   d41d8cd98f00b204e9800998ecf8427e            HPN  \n",
       "6662  d41d8cd98f00b204e9800998ecf8427e            SEA  \n",
       "1076  d41d8cd98f00b204e9800998ecf8427e            HPN  \n",
       "\n",
       "[5 rows x 45 columns]"
      ]
     },
     "execution_count": 19,
     "metadata": {},
     "output_type": "execute_result"
    }
   ],
   "source": [
    "s_sample = pd.read_csv(list_of_documents[1], sep='^', nrows=10000)\n",
    "s_sample.sample(5)"
   ]
  },
  {
   "cell_type": "code",
   "execution_count": 34,
   "metadata": {},
   "outputs": [],
   "source": [
    "#Code that we already have\n",
    "b_sample = pd.read_csv(list_of_documents[0], sep='^', nrows=10000)\n",
    "s_sample = pd.read_csv(list_of_documents[1], sep='^', nrows=10000)"
   ]
  },
  {
   "cell_type": "markdown",
   "metadata": {},
   "source": [
    "## Algorithm to count rows for the documents"
   ]
  },
  {
   "cell_type": "code",
   "execution_count": 37,
   "metadata": {},
   "outputs": [
    {
     "data": {
      "text/plain": [
       "10000"
      ]
     },
     "execution_count": 37,
     "metadata": {},
     "output_type": "execute_result"
    }
   ],
   "source": [
    "b_sample.shape[0]"
   ]
  },
  {
   "cell_type": "code",
   "execution_count": 38,
   "metadata": {},
   "outputs": [
    {
     "name": "stdout",
     "output_type": "stream",
     "text": [
      "The sample dataframe of bookings.csv.bz2 has 10000 rows\n"
     ]
    }
   ],
   "source": [
    "b_sample = pd.read_csv(list_of_documents[0], sep='^', nrows=10000, chunksize=100)\n",
    "count = 0\n",
    "for i, chunk in enumerate(b_sample):\n",
    "    count += chunk.shape[0]\n",
    "print('The sample dataframe of %s has %i rows' % (list_of_documents[0], count))"
   ]
  },
  {
   "cell_type": "markdown",
   "metadata": {},
   "source": [
    "## Apply to BigData documents"
   ]
  },
  {
   "cell_type": "code",
   "execution_count": 39,
   "metadata": {},
   "outputs": [
    {
     "name": "stdout",
     "output_type": "stream",
     "text": [
      "The document bookings.csv.bz2 has 10000010 rows\n"
     ]
    }
   ],
   "source": [
    "b = pd.read_csv(list_of_documents[0], sep='^', chunksize=500000, low_memory=False)\n",
    "count = 0\n",
    "for i, chunk in enumerate(b):\n",
    "    count += chunk.shape[0]\n",
    "print('The document %s has %i rows' % (list_of_documents[0], count))"
   ]
  },
  {
   "cell_type": "markdown",
   "metadata": {},
   "source": [
    "# Final Algorithm for calculating rows of BigData documents"
   ]
  },
  {
   "cell_type": "code",
   "execution_count": 41,
   "metadata": {},
   "outputs": [
    {
     "name": "stdout",
     "output_type": "stream",
     "text": [
      "The document bookings.csv.bz2 has 10000010 rows\n",
      "The document searches.csv.bz2 has 20390198 rows\n"
     ]
    }
   ],
   "source": [
    "#Import libraries\n",
    "import pandas as pd\n",
    "import os\n",
    "\n",
    "#finding names of documents as a list\n",
    "documents_list = os.listdir('.')\n",
    "\n",
    "#Loop for each document of the list of documents\n",
    "for name_document in documents_list:\n",
    "    document = pd.read_csv(name_document, sep='^', chunksize=500000, low_memory=False)\n",
    "    count = 0\n",
    "    for i, chunk in enumerate(document):\n",
    "        count += chunk.shape[0]\n",
    "    print('The document %s has %i rows' % (name_document, count))"
   ]
  }
 ],
 "metadata": {
  "kernelspec": {
   "display_name": "Python 3",
   "language": "python",
   "name": "python3"
  },
  "language_info": {
   "codemirror_mode": {
    "name": "ipython",
    "version": 3
   },
   "file_extension": ".py",
   "mimetype": "text/x-python",
   "name": "python",
   "nbconvert_exporter": "python",
   "pygments_lexer": "ipython3",
   "version": "3.7.0"
  }
 },
 "nbformat": 4,
 "nbformat_minor": 2
}
