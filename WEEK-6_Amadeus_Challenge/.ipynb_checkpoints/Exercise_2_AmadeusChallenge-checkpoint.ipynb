{
 "cells": [
  {
   "cell_type": "markdown",
   "metadata": {},
   "source": [
    "# Top arrival airports"
   ]
  },
  {
   "cell_type": "markdown",
   "metadata": {},
   "source": [
    "### Prepare booking sample"
   ]
  },
  {
   "cell_type": "code",
   "execution_count": 1,
   "metadata": {},
   "outputs": [
    {
     "name": "stdout",
     "output_type": "stream",
     "text": [
      "/home/gonzalo/Data/challenge\n"
     ]
    }
   ],
   "source": [
    "cd /home/gonzalo/Data/challenge/"
   ]
  },
  {
   "cell_type": "code",
   "execution_count": 2,
   "metadata": {},
   "outputs": [
    {
     "data": {
      "text/plain": [
       "'/home/gonzalo/Data/challenge'"
      ]
     },
     "execution_count": 2,
     "metadata": {},
     "output_type": "execute_result"
    }
   ],
   "source": [
    "pwd"
   ]
  },
  {
   "cell_type": "code",
   "execution_count": 3,
   "metadata": {},
   "outputs": [
    {
     "name": "stdout",
     "output_type": "stream",
     "text": [
      "total 1018216\r\n",
      "-rwxr-x--- 1 gonzalo 554970628 mar 13  2018 \u001b[0m\u001b[01;32mbookings.csv.bz2\u001b[0m*\r\n",
      "-rwxrwxrwx 1 gonzalo   4232732 ene 25 17:18 \u001b[01;32msample_bookings.csv\u001b[0m*\r\n",
      "-rwxrwxrwx 1 gonzalo    244720 ene 25 17:19 \u001b[01;32msample_searches.csv.bz2\u001b[0m*\r\n",
      "-rwxr-x--- 1 gonzalo 483188920 mar 13  2018 \u001b[01;32msearches.csv.bz2\u001b[0m*\r\n"
     ]
    }
   ],
   "source": [
    "% ll"
   ]
  },
  {
   "cell_type": "markdown",
   "metadata": {},
   "source": [
    "### Get familiar with data"
   ]
  },
  {
   "cell_type": "code",
   "execution_count": 4,
   "metadata": {},
   "outputs": [],
   "source": [
    "import pandas as pd"
   ]
  },
  {
   "cell_type": "code",
   "execution_count": null,
   "metadata": {},
   "outputs": [],
   "source": []
  },
  {
   "cell_type": "code",
   "execution_count": 9,
   "metadata": {
    "scrolled": true
   },
   "outputs": [
    {
     "name": "stdout",
     "output_type": "stream",
     "text": [
      "379962\n"
     ]
    }
   ],
   "source": [
    "booking = pd.read_csv('sample_bookings.csv', sep='^')\n",
    "print(booking.size)"
   ]
  },
  {
   "cell_type": "code",
   "execution_count": 10,
   "metadata": {},
   "outputs": [
    {
     "name": "stdout",
     "output_type": "stream",
     "text": [
      "379962\n"
     ]
    }
   ],
   "source": [
    "#Otra forma de hacerlo sin hacer el sample\n",
    "\n",
    "booking = pd.read_csv('sample_bookings.csv', sep='^', nrows=10000)\n",
    "print(booking.size)"
   ]
  },
  {
   "cell_type": "code",
   "execution_count": 12,
   "metadata": {},
   "outputs": [
    {
     "data": {
      "text/plain": [
       "pandas.core.frame.DataFrame"
      ]
     },
     "execution_count": 12,
     "metadata": {},
     "output_type": "execute_result"
    }
   ],
   "source": [
    "type(booking)"
   ]
  },
  {
   "cell_type": "code",
   "execution_count": 22,
   "metadata": {},
   "outputs": [],
   "source": [
    "pd.set_option('display.max_columns', None)"
   ]
  },
  {
   "cell_type": "code",
   "execution_count": 25,
   "metadata": {},
   "outputs": [
    {
     "data": {
      "text/html": [
       "<div>\n",
       "<style scoped>\n",
       "    .dataframe tbody tr th:only-of-type {\n",
       "        vertical-align: middle;\n",
       "    }\n",
       "\n",
       "    .dataframe tbody tr th {\n",
       "        vertical-align: top;\n",
       "    }\n",
       "\n",
       "    .dataframe thead th {\n",
       "        text-align: right;\n",
       "    }\n",
       "</style>\n",
       "<table border=\"1\" class=\"dataframe\">\n",
       "  <thead>\n",
       "    <tr style=\"text-align: right;\">\n",
       "      <th></th>\n",
       "      <th>act_date</th>\n",
       "      <th>source</th>\n",
       "      <th>pos_ctry</th>\n",
       "      <th>pos_iata</th>\n",
       "      <th>pos_oid</th>\n",
       "      <th>rloc</th>\n",
       "      <th>cre_date</th>\n",
       "      <th>duration</th>\n",
       "      <th>distance</th>\n",
       "      <th>dep_port</th>\n",
       "      <th>dep_city</th>\n",
       "      <th>dep_ctry</th>\n",
       "      <th>arr_port</th>\n",
       "      <th>arr_city</th>\n",
       "      <th>arr_ctry</th>\n",
       "      <th>lst_port</th>\n",
       "      <th>lst_city</th>\n",
       "      <th>lst_ctry</th>\n",
       "      <th>brd_port</th>\n",
       "      <th>brd_city</th>\n",
       "      <th>brd_ctry</th>\n",
       "      <th>off_port</th>\n",
       "      <th>off_city</th>\n",
       "      <th>off_ctry</th>\n",
       "      <th>mkt_port</th>\n",
       "      <th>mkt_city</th>\n",
       "      <th>mkt_ctry</th>\n",
       "      <th>intl</th>\n",
       "      <th>route</th>\n",
       "      <th>carrier</th>\n",
       "      <th>bkg_class</th>\n",
       "      <th>cab_class</th>\n",
       "      <th>brd_time</th>\n",
       "      <th>off_time</th>\n",
       "      <th>pax</th>\n",
       "      <th>year</th>\n",
       "      <th>month</th>\n",
       "      <th>oid</th>\n",
       "    </tr>\n",
       "  </thead>\n",
       "  <tbody>\n",
       "    <tr>\n",
       "      <th>3157</th>\n",
       "      <td>2013-03-04 00:00:00</td>\n",
       "      <td>1V</td>\n",
       "      <td>US</td>\n",
       "      <td>254ec21001bbfe5a0f02057351d624fd</td>\n",
       "      <td>e028c558a1b45b1a732853b36de45837</td>\n",
       "      <td>5c9b04780dedd543372adbf6c9fcd1d4</td>\n",
       "      <td>2013-03-04 00:00:00</td>\n",
       "      <td>14327</td>\n",
       "      <td>0</td>\n",
       "      <td>BOS</td>\n",
       "      <td>BOS</td>\n",
       "      <td>US</td>\n",
       "      <td>PVG</td>\n",
       "      <td>SHA</td>\n",
       "      <td>CN</td>\n",
       "      <td>BOS</td>\n",
       "      <td>BOS</td>\n",
       "      <td>US</td>\n",
       "      <td>NRT</td>\n",
       "      <td>TYO</td>\n",
       "      <td>JP</td>\n",
       "      <td>BOS</td>\n",
       "      <td>BOS</td>\n",
       "      <td>US</td>\n",
       "      <td>BOSNRT</td>\n",
       "      <td>BOSTYO</td>\n",
       "      <td>JPUS</td>\n",
       "      <td>1</td>\n",
       "      <td>NRTBOS</td>\n",
       "      <td>TV</td>\n",
       "      <td>X</td>\n",
       "      <td>Y</td>\n",
       "      <td>2013-04-23 11:20:00</td>\n",
       "      <td>2013-04-23 11:47:06</td>\n",
       "      <td>1</td>\n",
       "      <td>2013</td>\n",
       "      <td>3</td>\n",
       "      <td>NULL</td>\n",
       "    </tr>\n",
       "    <tr>\n",
       "      <th>8324</th>\n",
       "      <td>2013-03-03 00:00:00</td>\n",
       "      <td>1P</td>\n",
       "      <td>PK</td>\n",
       "      <td>f7f275cdb08eb51823c57847fe03cc3c</td>\n",
       "      <td>5206f584cc88e1040e08fae5314f55ca</td>\n",
       "      <td>dd29cb67e926b6c7c38a25bc25f8390f</td>\n",
       "      <td>2013-02-20 00:00:00</td>\n",
       "      <td>250</td>\n",
       "      <td>2876</td>\n",
       "      <td>JED</td>\n",
       "      <td>JED</td>\n",
       "      <td>SA</td>\n",
       "      <td>KHI</td>\n",
       "      <td>KHI</td>\n",
       "      <td>PK</td>\n",
       "      <td>KHI</td>\n",
       "      <td>KHI</td>\n",
       "      <td>PK</td>\n",
       "      <td>JED</td>\n",
       "      <td>JED</td>\n",
       "      <td>SA</td>\n",
       "      <td>KHI</td>\n",
       "      <td>KHI</td>\n",
       "      <td>PK</td>\n",
       "      <td>JEDKHI</td>\n",
       "      <td>JEDKHI</td>\n",
       "      <td>PKSA</td>\n",
       "      <td>1</td>\n",
       "      <td>JEDKHI</td>\n",
       "      <td>DG</td>\n",
       "      <td>T</td>\n",
       "      <td>Y</td>\n",
       "      <td>2013-04-10 14:00:00</td>\n",
       "      <td>2013-04-10 20:10:59</td>\n",
       "      <td>-2</td>\n",
       "      <td>2013</td>\n",
       "      <td>3</td>\n",
       "      <td>NULL</td>\n",
       "    </tr>\n",
       "    <tr>\n",
       "      <th>6118</th>\n",
       "      <td>2013-03-28 00:00:00</td>\n",
       "      <td>1S</td>\n",
       "      <td>GB</td>\n",
       "      <td>8099fbbe7f224996a696749b6b2fa36d</td>\n",
       "      <td>f5c368a57aa98f27e35b90599780c58a</td>\n",
       "      <td>87d967fe6cbba76ba54e84ebda876faf</td>\n",
       "      <td>2013-03-28 00:00:00</td>\n",
       "      <td>1658</td>\n",
       "      <td>0</td>\n",
       "      <td>LHR</td>\n",
       "      <td>LON</td>\n",
       "      <td>GB</td>\n",
       "      <td>DUS</td>\n",
       "      <td>DUS</td>\n",
       "      <td>DE</td>\n",
       "      <td>LHR</td>\n",
       "      <td>LON</td>\n",
       "      <td>GB</td>\n",
       "      <td>LHR</td>\n",
       "      <td>LON</td>\n",
       "      <td>GB</td>\n",
       "      <td>DUS</td>\n",
       "      <td>DUS</td>\n",
       "      <td>DE</td>\n",
       "      <td>DUSLHR</td>\n",
       "      <td>DUSLON</td>\n",
       "      <td>DEGB</td>\n",
       "      <td>1</td>\n",
       "      <td>LHRDUS</td>\n",
       "      <td>LK</td>\n",
       "      <td>L</td>\n",
       "      <td>Y</td>\n",
       "      <td>2013-04-11 17:25:00</td>\n",
       "      <td>2013-04-11 19:48:24</td>\n",
       "      <td>1</td>\n",
       "      <td>2013</td>\n",
       "      <td>3</td>\n",
       "      <td>NULL</td>\n",
       "    </tr>\n",
       "    <tr>\n",
       "      <th>1429</th>\n",
       "      <td>2013-03-30 00:00:00</td>\n",
       "      <td>1G</td>\n",
       "      <td>AE</td>\n",
       "      <td>a10b798b26c0dd4cbe1653588488054f</td>\n",
       "      <td>051c915aa85c805eff9c1e7ee7173e91</td>\n",
       "      <td>51db4ac06a7ecdc83042d564830f3a72</td>\n",
       "      <td>2013-03-30 00:00:00</td>\n",
       "      <td>138382</td>\n",
       "      <td>0</td>\n",
       "      <td>DXB</td>\n",
       "      <td>DXB</td>\n",
       "      <td>AE</td>\n",
       "      <td>HYD</td>\n",
       "      <td>HYD</td>\n",
       "      <td>IN</td>\n",
       "      <td>DXB</td>\n",
       "      <td>DXB</td>\n",
       "      <td>AE</td>\n",
       "      <td>HYD</td>\n",
       "      <td>HYD</td>\n",
       "      <td>IN</td>\n",
       "      <td>DXB</td>\n",
       "      <td>DXB</td>\n",
       "      <td>AE</td>\n",
       "      <td>DXBHYD</td>\n",
       "      <td>DXBHYD</td>\n",
       "      <td>AEIN</td>\n",
       "      <td>1</td>\n",
       "      <td>HYDDXB</td>\n",
       "      <td>OU</td>\n",
       "      <td>M</td>\n",
       "      <td>Y</td>\n",
       "      <td>2013-09-09 21:50:00</td>\n",
       "      <td>2013-09-10 00:07:39</td>\n",
       "      <td>2</td>\n",
       "      <td>2013</td>\n",
       "      <td>3</td>\n",
       "      <td>NULL</td>\n",
       "    </tr>\n",
       "    <tr>\n",
       "      <th>9857</th>\n",
       "      <td>2013-03-29 00:00:00</td>\n",
       "      <td>1V</td>\n",
       "      <td>US</td>\n",
       "      <td>ba8a6b068b8c924e60aa68a95ac2afac</td>\n",
       "      <td>94396e7126fcbfb964e66eeea78aa47f</td>\n",
       "      <td>9682ab13b4af63dd2d07f2742551fbe0</td>\n",
       "      <td>2013-03-29 00:00:00</td>\n",
       "      <td>2408</td>\n",
       "      <td>10492</td>\n",
       "      <td>CMH</td>\n",
       "      <td>CMH</td>\n",
       "      <td>US</td>\n",
       "      <td>NRT</td>\n",
       "      <td>TYO</td>\n",
       "      <td>JP</td>\n",
       "      <td>NRT</td>\n",
       "      <td>TYO</td>\n",
       "      <td>JP</td>\n",
       "      <td>CMH</td>\n",
       "      <td>CMH</td>\n",
       "      <td>US</td>\n",
       "      <td>ORD</td>\n",
       "      <td>CHI</td>\n",
       "      <td>US</td>\n",
       "      <td>CMHORD</td>\n",
       "      <td>CHICMH</td>\n",
       "      <td>USUS</td>\n",
       "      <td>0</td>\n",
       "      <td>CMHORD</td>\n",
       "      <td>KK</td>\n",
       "      <td>Y</td>\n",
       "      <td>Y</td>\n",
       "      <td>2013-03-29 08:45:00</td>\n",
       "      <td>2013-03-29 09:06:32</td>\n",
       "      <td>1</td>\n",
       "      <td>2013</td>\n",
       "      <td>3</td>\n",
       "      <td>NULL</td>\n",
       "    </tr>\n",
       "  </tbody>\n",
       "</table>\n",
       "</div>"
      ],
      "text/plain": [
       "      act_date             source  pos_ctry                          pos_iata  \\\n",
       "3157  2013-03-04 00:00:00  1V      US        254ec21001bbfe5a0f02057351d624fd   \n",
       "8324  2013-03-03 00:00:00  1P      PK        f7f275cdb08eb51823c57847fe03cc3c   \n",
       "6118  2013-03-28 00:00:00  1S      GB        8099fbbe7f224996a696749b6b2fa36d   \n",
       "1429  2013-03-30 00:00:00  1G      AE        a10b798b26c0dd4cbe1653588488054f   \n",
       "9857  2013-03-29 00:00:00  1V      US        ba8a6b068b8c924e60aa68a95ac2afac   \n",
       "\n",
       "                             pos_oid                      rloc            \\\n",
       "3157  e028c558a1b45b1a732853b36de45837  5c9b04780dedd543372adbf6c9fcd1d4   \n",
       "8324  5206f584cc88e1040e08fae5314f55ca  dd29cb67e926b6c7c38a25bc25f8390f   \n",
       "6118  f5c368a57aa98f27e35b90599780c58a  87d967fe6cbba76ba54e84ebda876faf   \n",
       "1429  051c915aa85c805eff9c1e7ee7173e91  51db4ac06a7ecdc83042d564830f3a72   \n",
       "9857  94396e7126fcbfb964e66eeea78aa47f  9682ab13b4af63dd2d07f2742551fbe0   \n",
       "\n",
       "      cre_date             duration  distance  dep_port  dep_city  dep_ctry  \\\n",
       "3157  2013-03-04 00:00:00     14327         0  BOS       BOS       US         \n",
       "8324  2013-02-20 00:00:00       250      2876  JED       JED       SA         \n",
       "6118  2013-03-28 00:00:00      1658         0  LHR       LON       GB         \n",
       "1429  2013-03-30 00:00:00    138382         0  DXB       DXB       AE         \n",
       "9857  2013-03-29 00:00:00      2408     10492  CMH       CMH       US         \n",
       "\n",
       "      arr_port  arr_city  arr_ctry  lst_port  lst_city  lst_ctry  brd_port  \\\n",
       "3157  PVG       SHA       CN        BOS       BOS       US        NRT        \n",
       "8324  KHI       KHI       PK        KHI       KHI       PK        JED        \n",
       "6118  DUS       DUS       DE        LHR       LON       GB        LHR        \n",
       "1429  HYD       HYD       IN        DXB       DXB       AE        HYD        \n",
       "9857  NRT       TYO       JP        NRT       TYO       JP        CMH        \n",
       "\n",
       "      brd_city  brd_ctry  off_port  off_city  off_ctry  mkt_port  mkt_city  \\\n",
       "3157  TYO       JP        BOS       BOS       US        BOSNRT    BOSTYO     \n",
       "8324  JED       SA        KHI       KHI       PK        JEDKHI    JEDKHI     \n",
       "6118  LON       GB        DUS       DUS       DE        DUSLHR    DUSLON     \n",
       "1429  HYD       IN        DXB       DXB       AE        DXBHYD    DXBHYD     \n",
       "9857  CMH       US        ORD       CHI       US        CMHORD    CHICMH     \n",
       "\n",
       "      mkt_ctry  intl  route           carrier  bkg_class  cab_class  \\\n",
       "3157  JPUS         1     NRTBOS            TV  X          Y           \n",
       "8324  PKSA         1  JEDKHI               DG  T          Y           \n",
       "6118  DEGB         1     LHRDUS            LK  L          Y           \n",
       "1429  AEIN         1  HYDDXB               OU  M          Y           \n",
       "9857  USUS         0     CMHORD            KK  Y          Y           \n",
       "\n",
       "      brd_time             off_time             pax  year  month  oid        \n",
       "3157  2013-04-23 11:20:00  2013-04-23 11:47:06    1  2013      3  NULL       \n",
       "8324  2013-04-10 14:00:00  2013-04-10 20:10:59   -2  2013      3  NULL       \n",
       "6118  2013-04-11 17:25:00  2013-04-11 19:48:24    1  2013      3  NULL       \n",
       "1429  2013-09-09 21:50:00  2013-09-10 00:07:39    2  2013      3  NULL       \n",
       "9857  2013-03-29 08:45:00  2013-03-29 09:06:32    1  2013      3  NULL       "
      ]
     },
     "execution_count": 25,
     "metadata": {},
     "output_type": "execute_result"
    }
   ],
   "source": [
    "booking.sample(5)"
   ]
  },
  {
   "cell_type": "code",
   "execution_count": 26,
   "metadata": {
    "scrolled": true
   },
   "outputs": [
    {
     "data": {
      "text/plain": [
       "act_date               9999\n",
       "source                 9999\n",
       "pos_ctry               9999\n",
       "pos_iata               9999\n",
       "pos_oid                9999\n",
       "rloc                   9999\n",
       "cre_date               9999\n",
       "duration               9999\n",
       "distance               9999\n",
       "dep_port               9999\n",
       "dep_city               9999\n",
       "dep_ctry               9999\n",
       "arr_port               9999\n",
       "arr_city               9999\n",
       "arr_ctry               9999\n",
       "lst_port               9999\n",
       "lst_city               9999\n",
       "lst_ctry               9999\n",
       "brd_port               9999\n",
       "brd_city               9999\n",
       "brd_ctry               9999\n",
       "off_port               9999\n",
       "off_city               9999\n",
       "off_ctry               9999\n",
       "mkt_port               9999\n",
       "mkt_city               9999\n",
       "mkt_ctry               9999\n",
       "intl                   9999\n",
       "route                  9999\n",
       "carrier                9999\n",
       "bkg_class              9999\n",
       "cab_class              9999\n",
       "brd_time               9999\n",
       "off_time               9999\n",
       "pax                    9999\n",
       "year                   9999\n",
       "month                  9999\n",
       "oid                    9999\n",
       "dtype: int64"
      ]
     },
     "execution_count": 26,
     "metadata": {},
     "output_type": "execute_result"
    }
   ],
   "source": [
    "booking.count()"
   ]
  },
  {
   "cell_type": "code",
   "execution_count": 28,
   "metadata": {},
   "outputs": [
    {
     "data": {
      "text/html": [
       "<div>\n",
       "<style scoped>\n",
       "    .dataframe tbody tr th:only-of-type {\n",
       "        vertical-align: middle;\n",
       "    }\n",
       "\n",
       "    .dataframe tbody tr th {\n",
       "        vertical-align: top;\n",
       "    }\n",
       "\n",
       "    .dataframe thead th {\n",
       "        text-align: right;\n",
       "    }\n",
       "</style>\n",
       "<table border=\"1\" class=\"dataframe\">\n",
       "  <thead>\n",
       "    <tr style=\"text-align: right;\">\n",
       "      <th></th>\n",
       "      <th>duration</th>\n",
       "      <th>distance</th>\n",
       "      <th>intl</th>\n",
       "      <th>pax</th>\n",
       "      <th>year</th>\n",
       "      <th>month</th>\n",
       "    </tr>\n",
       "  </thead>\n",
       "  <tbody>\n",
       "    <tr>\n",
       "      <th>count</th>\n",
       "      <td>9999.000000</td>\n",
       "      <td>9999.000000</td>\n",
       "      <td>9999.000000</td>\n",
       "      <td>9999.000000</td>\n",
       "      <td>9999.0</td>\n",
       "      <td>9999.0</td>\n",
       "    </tr>\n",
       "    <tr>\n",
       "      <th>mean</th>\n",
       "      <td>20209.746075</td>\n",
       "      <td>455.608861</td>\n",
       "      <td>0.596260</td>\n",
       "      <td>0.516152</td>\n",
       "      <td>2013.0</td>\n",
       "      <td>3.0</td>\n",
       "    </tr>\n",
       "    <tr>\n",
       "      <th>std</th>\n",
       "      <td>42243.233482</td>\n",
       "      <td>1738.891068</td>\n",
       "      <td>0.490671</td>\n",
       "      <td>1.783970</td>\n",
       "      <td>0.0</td>\n",
       "      <td>0.0</td>\n",
       "    </tr>\n",
       "    <tr>\n",
       "      <th>min</th>\n",
       "      <td>59.000000</td>\n",
       "      <td>0.000000</td>\n",
       "      <td>0.000000</td>\n",
       "      <td>-25.000000</td>\n",
       "      <td>2013.0</td>\n",
       "      <td>3.0</td>\n",
       "    </tr>\n",
       "    <tr>\n",
       "      <th>25%</th>\n",
       "      <td>3339.000000</td>\n",
       "      <td>0.000000</td>\n",
       "      <td>0.000000</td>\n",
       "      <td>-1.000000</td>\n",
       "      <td>2013.0</td>\n",
       "      <td>3.0</td>\n",
       "    </tr>\n",
       "    <tr>\n",
       "      <th>50%</th>\n",
       "      <td>7721.000000</td>\n",
       "      <td>0.000000</td>\n",
       "      <td>1.000000</td>\n",
       "      <td>1.000000</td>\n",
       "      <td>2013.0</td>\n",
       "      <td>3.0</td>\n",
       "    </tr>\n",
       "    <tr>\n",
       "      <th>75%</th>\n",
       "      <td>19077.000000</td>\n",
       "      <td>0.000000</td>\n",
       "      <td>1.000000</td>\n",
       "      <td>1.000000</td>\n",
       "      <td>2013.0</td>\n",
       "      <td>3.0</td>\n",
       "    </tr>\n",
       "    <tr>\n",
       "      <th>max</th>\n",
       "      <td>488131.000000</td>\n",
       "      <td>18481.000000</td>\n",
       "      <td>1.000000</td>\n",
       "      <td>25.000000</td>\n",
       "      <td>2013.0</td>\n",
       "      <td>3.0</td>\n",
       "    </tr>\n",
       "  </tbody>\n",
       "</table>\n",
       "</div>"
      ],
      "text/plain": [
       "            duration      distance         intl          pax    year   month\n",
       "count    9999.000000   9999.000000  9999.000000  9999.000000  9999.0  9999.0\n",
       "mean    20209.746075    455.608861     0.596260     0.516152  2013.0     3.0\n",
       "std     42243.233482   1738.891068     0.490671     1.783970     0.0     0.0\n",
       "min        59.000000      0.000000     0.000000   -25.000000  2013.0     3.0\n",
       "25%      3339.000000      0.000000     0.000000    -1.000000  2013.0     3.0\n",
       "50%      7721.000000      0.000000     1.000000     1.000000  2013.0     3.0\n",
       "75%     19077.000000      0.000000     1.000000     1.000000  2013.0     3.0\n",
       "max    488131.000000  18481.000000     1.000000    25.000000  2013.0     3.0"
      ]
     },
     "execution_count": 28,
     "metadata": {},
     "output_type": "execute_result"
    }
   ],
   "source": [
    "booking.describe()"
   ]
  },
  {
   "cell_type": "code",
   "execution_count": 30,
   "metadata": {},
   "outputs": [
    {
     "data": {
      "text/plain": [
       "(9999, 38)"
      ]
     },
     "execution_count": 30,
     "metadata": {},
     "output_type": "execute_result"
    }
   ],
   "source": [
    "booking.shape"
   ]
  },
  {
   "cell_type": "code",
   "execution_count": 32,
   "metadata": {},
   "outputs": [
    {
     "name": "stdout",
     "output_type": "stream",
     "text": [
      "<class 'pandas.core.frame.DataFrame'>\n",
      "RangeIndex: 9999 entries, 0 to 9998\n",
      "Data columns (total 38 columns):\n",
      "act_date               9999 non-null object\n",
      "source                 9999 non-null object\n",
      "pos_ctry               9999 non-null object\n",
      "pos_iata               9999 non-null object\n",
      "pos_oid                9999 non-null object\n",
      "rloc                   9999 non-null object\n",
      "cre_date               9999 non-null object\n",
      "duration               9999 non-null int64\n",
      "distance               9999 non-null int64\n",
      "dep_port               9999 non-null object\n",
      "dep_city               9999 non-null object\n",
      "dep_ctry               9999 non-null object\n",
      "arr_port               9999 non-null object\n",
      "arr_city               9999 non-null object\n",
      "arr_ctry               9999 non-null object\n",
      "lst_port               9999 non-null object\n",
      "lst_city               9999 non-null object\n",
      "lst_ctry               9999 non-null object\n",
      "brd_port               9999 non-null object\n",
      "brd_city               9999 non-null object\n",
      "brd_ctry               9999 non-null object\n",
      "off_port               9999 non-null object\n",
      "off_city               9999 non-null object\n",
      "off_ctry               9999 non-null object\n",
      "mkt_port               9999 non-null object\n",
      "mkt_city               9999 non-null object\n",
      "mkt_ctry               9999 non-null object\n",
      "intl                   9999 non-null int64\n",
      "route                  9999 non-null object\n",
      "carrier                9999 non-null object\n",
      "bkg_class              9999 non-null object\n",
      "cab_class              9999 non-null object\n",
      "brd_time               9999 non-null object\n",
      "off_time               9999 non-null object\n",
      "pax                    9999 non-null int64\n",
      "year                   9999 non-null int64\n",
      "month                  9999 non-null int64\n",
      "oid                    9999 non-null object\n",
      "dtypes: int64(6), object(32)\n",
      "memory usage: 2.9+ MB\n"
     ]
    }
   ],
   "source": [
    "booking.info()"
   ]
  },
  {
   "cell_type": "code",
   "execution_count": 38,
   "metadata": {
    "scrolled": false
   },
   "outputs": [
    {
     "data": {
      "text/plain": [
       "Index(['act_date', 'source', 'pos_ctry', 'pos_iata', 'pos_oid', 'rloc',\n",
       "       'cre_date', 'duration', 'distance', 'dep_port', 'dep_city', 'dep_ctry',\n",
       "       'arr_port', 'arr_city', 'arr_ctry', 'lst_port', 'lst_city', 'lst_ctry',\n",
       "       'brd_port', 'brd_city', 'brd_ctry', 'off_port', 'off_city', 'off_ctry',\n",
       "       'mkt_port', 'mkt_city', 'mkt_ctry', 'intl', 'route', 'carrier',\n",
       "       'bkg_class', 'cab_class', 'brd_time', 'off_time', 'pax', 'year',\n",
       "       'month', 'oid'],\n",
       "      dtype='object')"
      ]
     },
     "execution_count": 38,
     "metadata": {},
     "output_type": "execute_result"
    }
   ],
   "source": [
    "new_columns = booking.columns.str.strip()\n",
    "new_columns"
   ]
  },
  {
   "cell_type": "code",
   "execution_count": 39,
   "metadata": {},
   "outputs": [],
   "source": [
    "booking.columns = new_columns"
   ]
  },
  {
   "cell_type": "code",
   "execution_count": 41,
   "metadata": {},
   "outputs": [
    {
     "data": {
      "text/plain": [
       "['act_date',\n",
       " 'source',\n",
       " 'pos_ctry',\n",
       " 'pos_iata',\n",
       " 'pos_oid',\n",
       " 'rloc',\n",
       " 'cre_date',\n",
       " 'duration',\n",
       " 'distance',\n",
       " 'dep_port',\n",
       " 'dep_city',\n",
       " 'dep_ctry',\n",
       " 'arr_port',\n",
       " 'arr_city',\n",
       " 'arr_ctry',\n",
       " 'lst_port',\n",
       " 'lst_city',\n",
       " 'lst_ctry',\n",
       " 'brd_port',\n",
       " 'brd_city',\n",
       " 'brd_ctry',\n",
       " 'off_port',\n",
       " 'off_city',\n",
       " 'off_ctry',\n",
       " 'mkt_port',\n",
       " 'mkt_city',\n",
       " 'mkt_ctry',\n",
       " 'intl',\n",
       " 'route',\n",
       " 'carrier',\n",
       " 'bkg_class',\n",
       " 'cab_class',\n",
       " 'brd_time',\n",
       " 'off_time',\n",
       " 'pax',\n",
       " 'year',\n",
       " 'month',\n",
       " 'oid']"
      ]
     },
     "execution_count": 41,
     "metadata": {},
     "output_type": "execute_result"
    }
   ],
   "source": [
    "list(booking.columns)"
   ]
  },
  {
   "cell_type": "markdown",
   "metadata": {},
   "source": [
    "### Select the columns of interest"
   ]
  },
  {
   "cell_type": "code",
   "execution_count": 42,
   "metadata": {},
   "outputs": [],
   "source": [
    "columns_selected = ['arr_port', 'pax', 'act_date']"
   ]
  },
  {
   "cell_type": "code",
   "execution_count": 44,
   "metadata": {
    "scrolled": true
   },
   "outputs": [],
   "source": [
    "booking = pd.read_csv('sample_bookings.csv', sep='^', usecols=['year', 'pax', 'arr_port'])"
   ]
  },
  {
   "cell_type": "code",
   "execution_count": 47,
   "metadata": {},
   "outputs": [
    {
     "data": {
      "text/html": [
       "<div>\n",
       "<style scoped>\n",
       "    .dataframe tbody tr th:only-of-type {\n",
       "        vertical-align: middle;\n",
       "    }\n",
       "\n",
       "    .dataframe tbody tr th {\n",
       "        vertical-align: top;\n",
       "    }\n",
       "\n",
       "    .dataframe thead th {\n",
       "        text-align: right;\n",
       "    }\n",
       "</style>\n",
       "<table border=\"1\" class=\"dataframe\">\n",
       "  <thead>\n",
       "    <tr style=\"text-align: right;\">\n",
       "      <th></th>\n",
       "      <th>arr_port</th>\n",
       "      <th>pax</th>\n",
       "      <th>year</th>\n",
       "    </tr>\n",
       "  </thead>\n",
       "  <tbody>\n",
       "    <tr>\n",
       "      <th>8687</th>\n",
       "      <td>HYD</td>\n",
       "      <td>1</td>\n",
       "      <td>2013</td>\n",
       "    </tr>\n",
       "    <tr>\n",
       "      <th>706</th>\n",
       "      <td>MAA</td>\n",
       "      <td>-1</td>\n",
       "      <td>2013</td>\n",
       "    </tr>\n",
       "    <tr>\n",
       "      <th>3332</th>\n",
       "      <td>GUM</td>\n",
       "      <td>-2</td>\n",
       "      <td>2013</td>\n",
       "    </tr>\n",
       "    <tr>\n",
       "      <th>9068</th>\n",
       "      <td>EDI</td>\n",
       "      <td>1</td>\n",
       "      <td>2013</td>\n",
       "    </tr>\n",
       "    <tr>\n",
       "      <th>5536</th>\n",
       "      <td>IKA</td>\n",
       "      <td>-1</td>\n",
       "      <td>2013</td>\n",
       "    </tr>\n",
       "  </tbody>\n",
       "</table>\n",
       "</div>"
      ],
      "text/plain": [
       "      arr_port  pax  year\n",
       "8687  HYD         1  2013\n",
       "706   MAA        -1  2013\n",
       "3332  GUM        -2  2013\n",
       "9068  EDI         1  2013\n",
       "5536  IKA        -1  2013"
      ]
     },
     "execution_count": 47,
     "metadata": {},
     "output_type": "execute_result"
    }
   ],
   "source": [
    "booking.sample(5)"
   ]
  },
  {
   "cell_type": "markdown",
   "metadata": {},
   "source": [
    "### What to do with NaN"
   ]
  },
  {
   "cell_type": "code",
   "execution_count": 49,
   "metadata": {},
   "outputs": [],
   "source": [
    "booking = booking.dropna()"
   ]
  },
  {
   "cell_type": "markdown",
   "metadata": {},
   "source": [
    "### Ready to code"
   ]
  },
  {
   "cell_type": "code",
   "execution_count": 89,
   "metadata": {},
   "outputs": [],
   "source": [
    "booking = pd.read_csv('sample_bookings.csv', sep='^', usecols=['year', 'pax', 'arr_port'])\n",
    "booking = booking.dropna()"
   ]
  },
  {
   "cell_type": "markdown",
   "metadata": {},
   "source": [
    "### Make a plan"
   ]
  },
  {
   "cell_type": "code",
   "execution_count": 86,
   "metadata": {},
   "outputs": [],
   "source": [
    "# 1. filtrar 2013\n",
    "# 2. del de year column\n",
    "# 3. groupby arr_airport\n",
    "#     airport --> pax\n",
    "# 4. sumar\n",
    "# 5. sorted_value\n",
    "# 6. head de las 10"
   ]
  },
  {
   "cell_type": "markdown",
   "metadata": {},
   "source": [
    "### Keep coding"
   ]
  },
  {
   "cell_type": "code",
   "execution_count": 91,
   "metadata": {},
   "outputs": [
    {
     "data": {
      "text/plain": [
       "arr_port\n",
       "HKG         112\n",
       "LGA          95\n",
       "ORD          94\n",
       "JFK          92\n",
       "SFO          91\n",
       "LAX          91\n",
       "MCO          90\n",
       "DCA          82\n",
       "DEN          79\n",
       "LHR          76\n",
       "Name: pax, dtype: int64"
      ]
     },
     "execution_count": 91,
     "metadata": {},
     "output_type": "execute_result"
    }
   ],
   "source": [
    "booking = pd.read_csv('sample_bookings.csv', sep='^', usecols=['year', 'pax', 'arr_port'])\n",
    "booking = booking.dropna()\n",
    "booking = booking[booking['year'] == 2013]\n",
    "del booking['year']\n",
    "by_airport = booking.groupby(['arr_port'])['pax'].sum().sort_values(ascending=False).head(10)\n",
    "by_airport"
   ]
  },
  {
   "cell_type": "markdown",
   "metadata": {},
   "source": [
    "### Adjust the code for BigData"
   ]
  },
  {
   "cell_type": "code",
   "execution_count": 98,
   "metadata": {},
   "outputs": [
    {
     "data": {
      "text/plain": [
       "<pandas.io.parsers.TextFileReader at 0x7fc1b8fc0da0>"
      ]
     },
     "execution_count": 98,
     "metadata": {},
     "output_type": "execute_result"
    }
   ],
   "source": [
    "booking = pd.read_csv('sample_bookings.csv', sep='^', usecols=['year', 'pax', 'arr_port'], iterator=True)\n",
    "booking"
   ]
  },
  {
   "cell_type": "code",
   "execution_count": 99,
   "metadata": {},
   "outputs": [
    {
     "data": {
      "text/plain": [
       "(6000, 3)"
      ]
     },
     "execution_count": 99,
     "metadata": {},
     "output_type": "execute_result"
    }
   ],
   "source": [
    "booking0 = booking.get_chunk(6000)\n",
    "booking0.shape"
   ]
  },
  {
   "cell_type": "code",
   "execution_count": 100,
   "metadata": {},
   "outputs": [
    {
     "data": {
      "text/plain": [
       "(3000, 3)"
      ]
     },
     "execution_count": 100,
     "metadata": {},
     "output_type": "execute_result"
    }
   ],
   "source": [
    "booking1 = booking.get_chunk(3000)\n",
    "booking1.shape"
   ]
  },
  {
   "cell_type": "code",
   "execution_count": 101,
   "metadata": {},
   "outputs": [
    {
     "data": {
      "text/plain": [
       "(999, 3)"
      ]
     },
     "execution_count": 101,
     "metadata": {},
     "output_type": "execute_result"
    }
   ],
   "source": [
    "booking2 = booking.get_chunk(3000)\n",
    "booking2.shape"
   ]
  },
  {
   "cell_type": "code",
   "execution_count": 103,
   "metadata": {
    "scrolled": true
   },
   "outputs": [
    {
     "ename": "StopIteration",
     "evalue": "",
     "output_type": "error",
     "traceback": [
      "\u001b[0;31m---------------------------------------------------------------------------\u001b[0m",
      "\u001b[0;31mStopIteration\u001b[0m                             Traceback (most recent call last)",
      "\u001b[0;32m<ipython-input-103-1959c83ad492>\u001b[0m in \u001b[0;36m<module>\u001b[0;34m()\u001b[0m\n\u001b[1;32m      1\u001b[0m \u001b[0;31m#Cuando ya no quedan, da error\u001b[0m\u001b[0;34m\u001b[0m\u001b[0;34m\u001b[0m\u001b[0m\n\u001b[0;32m----> 2\u001b[0;31m \u001b[0mbooking3\u001b[0m \u001b[0;34m=\u001b[0m \u001b[0mbooking\u001b[0m\u001b[0;34m.\u001b[0m\u001b[0mget_chunk\u001b[0m\u001b[0;34m(\u001b[0m\u001b[0;36m1\u001b[0m\u001b[0;34m)\u001b[0m\u001b[0;34m\u001b[0m\u001b[0m\n\u001b[0m\u001b[1;32m      3\u001b[0m \u001b[0mbooking3\u001b[0m\u001b[0;34m.\u001b[0m\u001b[0mshape\u001b[0m\u001b[0;34m\u001b[0m\u001b[0m\n",
      "\u001b[0;32m~/anaconda3/lib/python3.7/site-packages/pandas/io/parsers.py\u001b[0m in \u001b[0;36mget_chunk\u001b[0;34m(self, size)\u001b[0m\n\u001b[1;32m   1068\u001b[0m                 \u001b[0;32mraise\u001b[0m \u001b[0mStopIteration\u001b[0m\u001b[0;34m\u001b[0m\u001b[0m\n\u001b[1;32m   1069\u001b[0m             \u001b[0msize\u001b[0m \u001b[0;34m=\u001b[0m \u001b[0mmin\u001b[0m\u001b[0;34m(\u001b[0m\u001b[0msize\u001b[0m\u001b[0;34m,\u001b[0m \u001b[0mself\u001b[0m\u001b[0;34m.\u001b[0m\u001b[0mnrows\u001b[0m \u001b[0;34m-\u001b[0m \u001b[0mself\u001b[0m\u001b[0;34m.\u001b[0m\u001b[0m_currow\u001b[0m\u001b[0;34m)\u001b[0m\u001b[0;34m\u001b[0m\u001b[0m\n\u001b[0;32m-> 1070\u001b[0;31m         \u001b[0;32mreturn\u001b[0m \u001b[0mself\u001b[0m\u001b[0;34m.\u001b[0m\u001b[0mread\u001b[0m\u001b[0;34m(\u001b[0m\u001b[0mnrows\u001b[0m\u001b[0;34m=\u001b[0m\u001b[0msize\u001b[0m\u001b[0;34m)\u001b[0m\u001b[0;34m\u001b[0m\u001b[0m\n\u001b[0m\u001b[1;32m   1071\u001b[0m \u001b[0;34m\u001b[0m\u001b[0m\n\u001b[1;32m   1072\u001b[0m \u001b[0;34m\u001b[0m\u001b[0m\n",
      "\u001b[0;32m~/anaconda3/lib/python3.7/site-packages/pandas/io/parsers.py\u001b[0m in \u001b[0;36mread\u001b[0;34m(self, nrows)\u001b[0m\n\u001b[1;32m   1034\u001b[0m                 \u001b[0;32mraise\u001b[0m \u001b[0mValueError\u001b[0m\u001b[0;34m(\u001b[0m\u001b[0;34m'skipfooter not supported for iteration'\u001b[0m\u001b[0;34m)\u001b[0m\u001b[0;34m\u001b[0m\u001b[0m\n\u001b[1;32m   1035\u001b[0m \u001b[0;34m\u001b[0m\u001b[0m\n\u001b[0;32m-> 1036\u001b[0;31m         \u001b[0mret\u001b[0m \u001b[0;34m=\u001b[0m \u001b[0mself\u001b[0m\u001b[0;34m.\u001b[0m\u001b[0m_engine\u001b[0m\u001b[0;34m.\u001b[0m\u001b[0mread\u001b[0m\u001b[0;34m(\u001b[0m\u001b[0mnrows\u001b[0m\u001b[0;34m)\u001b[0m\u001b[0;34m\u001b[0m\u001b[0m\n\u001b[0m\u001b[1;32m   1037\u001b[0m \u001b[0;34m\u001b[0m\u001b[0m\n\u001b[1;32m   1038\u001b[0m         \u001b[0;31m# May alter columns / col_dict\u001b[0m\u001b[0;34m\u001b[0m\u001b[0;34m\u001b[0m\u001b[0m\n",
      "\u001b[0;32m~/anaconda3/lib/python3.7/site-packages/pandas/io/parsers.py\u001b[0m in \u001b[0;36mread\u001b[0;34m(self, nrows)\u001b[0m\n\u001b[1;32m   1846\u001b[0m     \u001b[0;32mdef\u001b[0m \u001b[0mread\u001b[0m\u001b[0;34m(\u001b[0m\u001b[0mself\u001b[0m\u001b[0;34m,\u001b[0m \u001b[0mnrows\u001b[0m\u001b[0;34m=\u001b[0m\u001b[0;32mNone\u001b[0m\u001b[0;34m)\u001b[0m\u001b[0;34m:\u001b[0m\u001b[0;34m\u001b[0m\u001b[0m\n\u001b[1;32m   1847\u001b[0m         \u001b[0;32mtry\u001b[0m\u001b[0;34m:\u001b[0m\u001b[0;34m\u001b[0m\u001b[0m\n\u001b[0;32m-> 1848\u001b[0;31m             \u001b[0mdata\u001b[0m \u001b[0;34m=\u001b[0m \u001b[0mself\u001b[0m\u001b[0;34m.\u001b[0m\u001b[0m_reader\u001b[0m\u001b[0;34m.\u001b[0m\u001b[0mread\u001b[0m\u001b[0;34m(\u001b[0m\u001b[0mnrows\u001b[0m\u001b[0;34m)\u001b[0m\u001b[0;34m\u001b[0m\u001b[0m\n\u001b[0m\u001b[1;32m   1849\u001b[0m         \u001b[0;32mexcept\u001b[0m \u001b[0mStopIteration\u001b[0m\u001b[0;34m:\u001b[0m\u001b[0;34m\u001b[0m\u001b[0m\n\u001b[1;32m   1850\u001b[0m             \u001b[0;32mif\u001b[0m \u001b[0mself\u001b[0m\u001b[0;34m.\u001b[0m\u001b[0m_first_chunk\u001b[0m\u001b[0;34m:\u001b[0m\u001b[0;34m\u001b[0m\u001b[0m\n",
      "\u001b[0;32mpandas/_libs/parsers.pyx\u001b[0m in \u001b[0;36mpandas._libs.parsers.TextReader.read\u001b[0;34m()\u001b[0m\n",
      "\u001b[0;32mpandas/_libs/parsers.pyx\u001b[0m in \u001b[0;36mpandas._libs.parsers.TextReader._read_low_memory\u001b[0;34m()\u001b[0m\n",
      "\u001b[0;31mStopIteration\u001b[0m: "
     ]
    }
   ],
   "source": [
    "#Cuando ya no quedan, da error\n",
    "booking3 = booking.get_chunk(1)\n",
    "booking3.shape"
   ]
  },
  {
   "cell_type": "markdown",
   "metadata": {},
   "source": [
    "### Otra forma de hacerlo, es diciendole el chunksize"
   ]
  },
  {
   "cell_type": "code",
   "execution_count": 107,
   "metadata": {},
   "outputs": [],
   "source": [
    "booking = pd.read_csv('sample_bookings.csv', sep='^', usecols=['year', 'pax', 'arr_port'], chunksize=1000)"
   ]
  },
  {
   "cell_type": "code",
   "execution_count": 108,
   "metadata": {},
   "outputs": [
    {
     "data": {
      "text/plain": [
       "pandas.io.parsers.TextFileReader"
      ]
     },
     "execution_count": 108,
     "metadata": {},
     "output_type": "execute_result"
    }
   ],
   "source": [
    "type(booking)"
   ]
  },
  {
   "cell_type": "code",
   "execution_count": 109,
   "metadata": {},
   "outputs": [],
   "source": [
    "booking0 = next(booking)"
   ]
  },
  {
   "cell_type": "code",
   "execution_count": 110,
   "metadata": {},
   "outputs": [
    {
     "data": {
      "text/plain": [
       "pandas.core.frame.DataFrame"
      ]
     },
     "execution_count": 110,
     "metadata": {},
     "output_type": "execute_result"
    }
   ],
   "source": [
    "type(booking0)"
   ]
  },
  {
   "cell_type": "code",
   "execution_count": 112,
   "metadata": {},
   "outputs": [
    {
     "name": "stdout",
     "output_type": "stream",
     "text": [
      "   arr_port  pax  year\n",
      "0  LHR        -1  2013\n",
      "1  CLT         1  2013\n",
      "2  CLT         1  2013\n",
      "3  SVO         1  2013\n",
      "4  SVO         1  2013\n",
      "----------------\n",
      "      arr_port  pax  year\n",
      "1000  TPE         3  2013\n",
      "1001  TPE         3  2013\n",
      "1002  TPE        -3  2013\n",
      "1003  TPE         3  2013\n",
      "1004  TPE        -3  2013\n",
      "----------------\n",
      "      arr_port  pax  year\n",
      "2000  LHE         1  2013\n",
      "2001  HBE        -1  2013\n",
      "2002  HBE         1  2013\n",
      "2003  HBE        -1  2013\n",
      "2004  ICN        -1  2013\n",
      "----------------\n",
      "      arr_port  pax  year\n",
      "3000  DEN         1  2013\n",
      "3001  LAX         1  2013\n",
      "3002  LAX         1  2013\n",
      "3003  BUF         2  2013\n",
      "3004  PVG         1  2013\n",
      "----------------\n"
     ]
    }
   ],
   "source": [
    "#Hacemos un loop para que lo haga en el fichero entero\n",
    "booking = pd.read_csv('sample_bookings.csv', sep='^', usecols=['year', 'pax', 'arr_port'], chunksize=1000)\n",
    "for i, chunk in enumerate(booking):\n",
    "    print(chunk.head())\n",
    "    print(\"----------------\")\n",
    "    if i==3:\n",
    "        break"
   ]
  },
  {
   "cell_type": "code",
   "execution_count": 123,
   "metadata": {},
   "outputs": [
    {
     "data": {
      "text/plain": [
       "(2078, 1)"
      ]
     },
     "execution_count": 123,
     "metadata": {},
     "output_type": "execute_result"
    }
   ],
   "source": [
    "booking = pd.read_csv('sample_bookings.csv', sep='^', usecols=['year', 'pax', 'arr_port'], chunksize=1000)\n",
    "\n",
    "sum_all_chunks = pd.DataFrame()\n",
    "\n",
    "for i, chunk in enumerate(booking):\n",
    "    b = chunk.dropna()\n",
    "    b = b[b['year'] == 2013]\n",
    "    del b['year']\n",
    "    arr_ports = b.groupby('arr_port')\n",
    "    chunk_airports = arr_ports.sum()\n",
    "    sum_all_chunks = sum_all_chunks.append(chunk_airports)\n",
    "\n",
    "sum_all_chunks.shape"
   ]
  },
  {
   "cell_type": "code",
   "execution_count": 115,
   "metadata": {
    "scrolled": true
   },
   "outputs": [
    {
     "data": {
      "text/html": [
       "<div>\n",
       "<style scoped>\n",
       "    .dataframe tbody tr th:only-of-type {\n",
       "        vertical-align: middle;\n",
       "    }\n",
       "\n",
       "    .dataframe tbody tr th {\n",
       "        vertical-align: top;\n",
       "    }\n",
       "\n",
       "    .dataframe thead th {\n",
       "        text-align: right;\n",
       "    }\n",
       "</style>\n",
       "<table border=\"1\" class=\"dataframe\">\n",
       "  <thead>\n",
       "    <tr style=\"text-align: right;\">\n",
       "      <th></th>\n",
       "      <th>pax</th>\n",
       "    </tr>\n",
       "    <tr>\n",
       "      <th>arr_port</th>\n",
       "      <th></th>\n",
       "    </tr>\n",
       "  </thead>\n",
       "  <tbody>\n",
       "    <tr>\n",
       "      <th>ACC</th>\n",
       "      <td>6</td>\n",
       "    </tr>\n",
       "    <tr>\n",
       "      <th>ADD</th>\n",
       "      <td>2</td>\n",
       "    </tr>\n",
       "    <tr>\n",
       "      <th>AGP</th>\n",
       "      <td>6</td>\n",
       "    </tr>\n",
       "    <tr>\n",
       "      <th>ALA</th>\n",
       "      <td>2</td>\n",
       "    </tr>\n",
       "    <tr>\n",
       "      <th>ALC</th>\n",
       "      <td>4</td>\n",
       "    </tr>\n",
       "  </tbody>\n",
       "</table>\n",
       "</div>"
      ],
      "text/plain": [
       "          pax\n",
       "arr_port     \n",
       "ACC         6\n",
       "ADD         2\n",
       "AGP         6\n",
       "ALA         2\n",
       "ALC         4"
      ]
     },
     "execution_count": 115,
     "metadata": {},
     "output_type": "execute_result"
    }
   ],
   "source": [
    "sum_all_chunks.head()"
   ]
  },
  {
   "cell_type": "code",
   "execution_count": 126,
   "metadata": {},
   "outputs": [
    {
     "data": {
      "text/html": [
       "<div>\n",
       "<style scoped>\n",
       "    .dataframe tbody tr th:only-of-type {\n",
       "        vertical-align: middle;\n",
       "    }\n",
       "\n",
       "    .dataframe tbody tr th {\n",
       "        vertical-align: top;\n",
       "    }\n",
       "\n",
       "    .dataframe thead th {\n",
       "        text-align: right;\n",
       "    }\n",
       "</style>\n",
       "<table border=\"1\" class=\"dataframe\">\n",
       "  <thead>\n",
       "    <tr style=\"text-align: right;\">\n",
       "      <th></th>\n",
       "      <th>pax</th>\n",
       "    </tr>\n",
       "    <tr>\n",
       "      <th>arr_port</th>\n",
       "      <th></th>\n",
       "    </tr>\n",
       "  </thead>\n",
       "  <tbody>\n",
       "    <tr>\n",
       "      <th>ACC</th>\n",
       "      <td>6</td>\n",
       "    </tr>\n",
       "    <tr>\n",
       "      <th>ADD</th>\n",
       "      <td>2</td>\n",
       "    </tr>\n",
       "    <tr>\n",
       "      <th>AGP</th>\n",
       "      <td>6</td>\n",
       "    </tr>\n",
       "    <tr>\n",
       "      <th>ALA</th>\n",
       "      <td>2</td>\n",
       "    </tr>\n",
       "    <tr>\n",
       "      <th>ALC</th>\n",
       "      <td>4</td>\n",
       "    </tr>\n",
       "  </tbody>\n",
       "</table>\n",
       "</div>"
      ],
      "text/plain": [
       "          pax\n",
       "arr_port     \n",
       "ACC         6\n",
       "ADD         2\n",
       "AGP         6\n",
       "ALA         2\n",
       "ALC         4"
      ]
     },
     "execution_count": 126,
     "metadata": {},
     "output_type": "execute_result"
    }
   ],
   "source": [
    "sum_all_chunks.head()"
   ]
  },
  {
   "cell_type": "code",
   "execution_count": 129,
   "metadata": {},
   "outputs": [
    {
     "data": {
      "text/html": [
       "<div>\n",
       "<style scoped>\n",
       "    .dataframe tbody tr th:only-of-type {\n",
       "        vertical-align: middle;\n",
       "    }\n",
       "\n",
       "    .dataframe tbody tr th {\n",
       "        vertical-align: top;\n",
       "    }\n",
       "\n",
       "    .dataframe thead th {\n",
       "        text-align: right;\n",
       "    }\n",
       "</style>\n",
       "<table border=\"1\" class=\"dataframe\">\n",
       "  <thead>\n",
       "    <tr style=\"text-align: right;\">\n",
       "      <th></th>\n",
       "      <th>pax</th>\n",
       "    </tr>\n",
       "    <tr>\n",
       "      <th>arr_port</th>\n",
       "      <th></th>\n",
       "    </tr>\n",
       "  </thead>\n",
       "  <tbody>\n",
       "    <tr>\n",
       "      <th>HKG</th>\n",
       "      <td>112</td>\n",
       "    </tr>\n",
       "    <tr>\n",
       "      <th>LGA</th>\n",
       "      <td>95</td>\n",
       "    </tr>\n",
       "    <tr>\n",
       "      <th>ORD</th>\n",
       "      <td>94</td>\n",
       "    </tr>\n",
       "    <tr>\n",
       "      <th>JFK</th>\n",
       "      <td>92</td>\n",
       "    </tr>\n",
       "    <tr>\n",
       "      <th>LAX</th>\n",
       "      <td>91</td>\n",
       "    </tr>\n",
       "  </tbody>\n",
       "</table>\n",
       "</div>"
      ],
      "text/plain": [
       "          pax\n",
       "arr_port     \n",
       "HKG       112\n",
       "LGA        95\n",
       "ORD        94\n",
       "JFK        92\n",
       "LAX        91"
      ]
     },
     "execution_count": 129,
     "metadata": {},
     "output_type": "execute_result"
    }
   ],
   "source": [
    "sum_all_chunks.reset_index().groupby('arr_port').sum().sort_values('pax',ascending=False).head()"
   ]
  },
  {
   "cell_type": "markdown",
   "metadata": {},
   "source": [
    "### Codigo final"
   ]
  },
  {
   "cell_type": "code",
   "execution_count": 133,
   "metadata": {
    "scrolled": true
   },
   "outputs": [
    {
     "data": {
      "text/html": [
       "<div>\n",
       "<style scoped>\n",
       "    .dataframe tbody tr th:only-of-type {\n",
       "        vertical-align: middle;\n",
       "    }\n",
       "\n",
       "    .dataframe tbody tr th {\n",
       "        vertical-align: top;\n",
       "    }\n",
       "\n",
       "    .dataframe thead th {\n",
       "        text-align: right;\n",
       "    }\n",
       "</style>\n",
       "<table border=\"1\" class=\"dataframe\">\n",
       "  <thead>\n",
       "    <tr style=\"text-align: right;\">\n",
       "      <th></th>\n",
       "      <th>pax</th>\n",
       "    </tr>\n",
       "    <tr>\n",
       "      <th>arr_port</th>\n",
       "      <th></th>\n",
       "    </tr>\n",
       "  </thead>\n",
       "  <tbody>\n",
       "    <tr>\n",
       "      <th>LHR</th>\n",
       "      <td>88809.0</td>\n",
       "    </tr>\n",
       "    <tr>\n",
       "      <th>MCO</th>\n",
       "      <td>70930.0</td>\n",
       "    </tr>\n",
       "    <tr>\n",
       "      <th>LAX</th>\n",
       "      <td>70530.0</td>\n",
       "    </tr>\n",
       "    <tr>\n",
       "      <th>LAS</th>\n",
       "      <td>69630.0</td>\n",
       "    </tr>\n",
       "    <tr>\n",
       "      <th>JFK</th>\n",
       "      <td>66270.0</td>\n",
       "    </tr>\n",
       "    <tr>\n",
       "      <th>CDG</th>\n",
       "      <td>64490.0</td>\n",
       "    </tr>\n",
       "    <tr>\n",
       "      <th>BKK</th>\n",
       "      <td>59460.0</td>\n",
       "    </tr>\n",
       "    <tr>\n",
       "      <th>MIA</th>\n",
       "      <td>58150.0</td>\n",
       "    </tr>\n",
       "    <tr>\n",
       "      <th>SFO</th>\n",
       "      <td>58000.0</td>\n",
       "    </tr>\n",
       "    <tr>\n",
       "      <th>DXB</th>\n",
       "      <td>55590.0</td>\n",
       "    </tr>\n",
       "  </tbody>\n",
       "</table>\n",
       "</div>"
      ],
      "text/plain": [
       "              pax\n",
       "arr_port         \n",
       "LHR       88809.0\n",
       "MCO       70930.0\n",
       "LAX       70530.0\n",
       "LAS       69630.0\n",
       "JFK       66270.0\n",
       "CDG       64490.0\n",
       "BKK       59460.0\n",
       "MIA       58150.0\n",
       "SFO       58000.0\n",
       "DXB       55590.0"
      ]
     },
     "execution_count": 133,
     "metadata": {},
     "output_type": "execute_result"
    }
   ],
   "source": [
    "booking = pd.read_csv('bookings.csv.bz2', sep='^', usecols=['year', 'pax', 'arr_port'], chunksize=300000)\n",
    "\n",
    "sum_all_chunks = pd.DataFrame()\n",
    "\n",
    "for i, chunk in enumerate(booking):\n",
    "    b = chunk.dropna()\n",
    "    b = b[b['year'] == 2013]\n",
    "    del b['year']\n",
    "    arr_ports = b.groupby('arr_port')\n",
    "    chunk_airports = arr_ports.sum()\n",
    "    sum_all_chunks = sum_all_chunks.append(chunk_airports)\n",
    "\n",
    "top_airport = sum_all_chunks.reset_index().groupby('arr_port').sum().sort_values('pax',ascending=False).head(10)\n",
    "top_airport"
   ]
  },
  {
   "cell_type": "markdown",
   "metadata": {},
   "source": [
    "### Bonus points"
   ]
  },
  {
   "cell_type": "code",
   "execution_count": 135,
   "metadata": {},
   "outputs": [],
   "source": [
    "from GeoBases import GeoBase"
   ]
  },
  {
   "cell_type": "code",
   "execution_count": 136,
   "metadata": {},
   "outputs": [],
   "source": [
    "geoDict = GeoBase(data='ori_por', verbose=False)"
   ]
  },
  {
   "cell_type": "code",
   "execution_count": 137,
   "metadata": {},
   "outputs": [
    {
     "data": {
      "text/plain": [
       "GeoBases.GeoBaseModule.GeoBase"
      ]
     },
     "execution_count": 137,
     "metadata": {},
     "output_type": "execute_result"
    }
   ],
   "source": [
    "type(geoDict)"
   ]
  },
  {
   "cell_type": "code",
   "execution_count": 139,
   "metadata": {},
   "outputs": [
    {
     "data": {
      "text/plain": [
       "['AAA', 'AAA@1', 'AAB', 'AAC', 'AAC@1', 'AAE', 'AAE@1', 'AAF', 'AAF@1', 'AAG']"
      ]
     },
     "execution_count": 139,
     "metadata": {},
     "output_type": "execute_result"
    }
   ],
   "source": [
    "geoDict.keys()[:10]"
   ]
  },
  {
   "cell_type": "code",
   "execution_count": 140,
   "metadata": {},
   "outputs": [
    {
     "data": {
      "text/plain": [
       "['__key__',\n",
       " '__dup__',\n",
       " '__par__',\n",
       " '__lno__',\n",
       " 'iata_code',\n",
       " 'icao_code',\n",
       " 'faa_code',\n",
       " 'is_geonames',\n",
       " 'geoname_id',\n",
       " 'valid_id',\n",
       " 'name',\n",
       " 'asciiname',\n",
       " 'lat',\n",
       " 'lng',\n",
       " 'fclass',\n",
       " 'fcode',\n",
       " 'page_rank',\n",
       " 'date_from',\n",
       " 'date_until',\n",
       " 'comment',\n",
       " 'country_code',\n",
       " 'cc2',\n",
       " 'country_name',\n",
       " 'continent_name',\n",
       " 'adm1_code',\n",
       " 'adm1_name_utf',\n",
       " 'adm1_name_ascii',\n",
       " 'adm2_code',\n",
       " 'adm2_name_utf',\n",
       " 'adm2_name_ascii',\n",
       " 'adm3_code',\n",
       " 'adm4_code',\n",
       " 'population',\n",
       " 'elevation',\n",
       " 'gtopo30',\n",
       " 'timezone',\n",
       " 'gmt_offset',\n",
       " 'dst_offset',\n",
       " 'raw_offset',\n",
       " 'moddate',\n",
       " 'city_code',\n",
       " 'city_name_utf',\n",
       " 'city_name_ascii',\n",
       " 'tvl_por_list@raw',\n",
       " 'tvl_por_list',\n",
       " 'state_code',\n",
       " 'location_type@raw',\n",
       " 'location_type',\n",
       " 'wiki_link',\n",
       " 'alt_name_section@raw',\n",
       " 'alt_name_section',\n",
       " '__gar__']"
      ]
     },
     "execution_count": 140,
     "metadata": {},
     "output_type": "execute_result"
    }
   ],
   "source": [
    "geoDict.fields"
   ]
  },
  {
   "cell_type": "code",
   "execution_count": 141,
   "metadata": {},
   "outputs": [
    {
     "data": {
      "text/plain": [
       "{'__key__': 'MAD',\n",
       " '__dup__': ['MAD@1'],\n",
       " '__par__': [],\n",
       " '__lno__': 7379,\n",
       " '__gar__': [],\n",
       " 'iata_code': 'MAD',\n",
       " 'icao_code': 'LEMD',\n",
       " 'faa_code': '',\n",
       " 'is_geonames': 'Y',\n",
       " 'geoname_id': '6299345',\n",
       " 'valid_id': '',\n",
       " 'name': 'Madrid / Barajas',\n",
       " 'asciiname': 'Madrid / Barajas',\n",
       " 'lat': '40.493556',\n",
       " 'lng': '-3.566764',\n",
       " 'fclass': 'S',\n",
       " 'fcode': 'AIRP',\n",
       " 'page_rank': '0.392784873731',\n",
       " 'date_from': '',\n",
       " 'date_until': '',\n",
       " 'comment': '',\n",
       " 'country_code': 'ES',\n",
       " 'cc2': '',\n",
       " 'country_name': 'Spain',\n",
       " 'continent_name': 'Europe',\n",
       " 'adm1_code': '29',\n",
       " 'adm1_name_utf': 'Madrid',\n",
       " 'adm1_name_ascii': 'Madrid',\n",
       " 'adm2_code': 'M',\n",
       " 'adm2_name_utf': 'Provincia de Madrid',\n",
       " 'adm2_name_ascii': 'Provincia de Madrid',\n",
       " 'adm3_code': '28079',\n",
       " 'adm4_code': '',\n",
       " 'population': '0',\n",
       " 'elevation': '609',\n",
       " 'gtopo30': '575',\n",
       " 'timezone': 'Europe/Madrid',\n",
       " 'gmt_offset': '1.0',\n",
       " 'dst_offset': '2.0',\n",
       " 'raw_offset': '1.0',\n",
       " 'moddate': '2012-03-04',\n",
       " 'city_code': 'MAD',\n",
       " 'city_name_utf': 'Madrid',\n",
       " 'city_name_ascii': 'Madrid',\n",
       " 'tvl_por_list@raw': '',\n",
       " 'tvl_por_list': (),\n",
       " 'state_code': '',\n",
       " 'location_type@raw': 'A',\n",
       " 'location_type': ('A',),\n",
       " 'wiki_link': 'http://en.wikipedia.org/wiki/Madrid-Barajas_Airport',\n",
       " 'alt_name_section@raw': 'es|Aeropuerto de Madrid|=es|Barajas|=de|Flughafen Madrid|p',\n",
       " 'alt_name_section': (('es', 'Aeropuerto de Madrid', ''),\n",
       "  ('es', 'Barajas', ''),\n",
       "  ('de', 'Flughafen Madrid', 'p'))}"
      ]
     },
     "execution_count": 141,
     "metadata": {},
     "output_type": "execute_result"
    }
   ],
   "source": [
    "geoDict.get('MAD')"
   ]
  },
  {
   "cell_type": "code",
   "execution_count": 142,
   "metadata": {
    "scrolled": true
   },
   "outputs": [
    {
     "data": {
      "text/plain": [
       "'London Heathrow Airport'"
      ]
     },
     "execution_count": 142,
     "metadata": {},
     "output_type": "execute_result"
    }
   ],
   "source": [
    "geoDict.get('LHR')['name']"
   ]
  },
  {
   "cell_type": "code",
   "execution_count": 177,
   "metadata": {
    "scrolled": true
   },
   "outputs": [],
   "source": [
    "top_airport = top_airport[['arr_port', 'pax']]"
   ]
  },
  {
   "cell_type": "code",
   "execution_count": 180,
   "metadata": {},
   "outputs": [],
   "source": [
    "def get_name_airport(iata_code):\n",
    "    return geoDict.get(iata_code.strip())['name']"
   ]
  },
  {
   "cell_type": "code",
   "execution_count": 181,
   "metadata": {},
   "outputs": [
    {
     "name": "stderr",
     "output_type": "stream",
     "text": [
      "/home/gonzalo/anaconda3/lib/python3.7/site-packages/ipykernel_launcher.py:1: SettingWithCopyWarning: \n",
      "A value is trying to be set on a copy of a slice from a DataFrame.\n",
      "Try using .loc[row_indexer,col_indexer] = value instead\n",
      "\n",
      "See the caveats in the documentation: http://pandas.pydata.org/pandas-docs/stable/indexing.html#indexing-view-versus-copy\n",
      "  \"\"\"Entry point for launching an IPython kernel.\n"
     ]
    }
   ],
   "source": [
    "top_airport['Name'] = top_airport['arr_port'].map(get_name_airport)"
   ]
  },
  {
   "cell_type": "code",
   "execution_count": 182,
   "metadata": {
    "scrolled": true
   },
   "outputs": [
    {
     "data": {
      "text/html": [
       "<div>\n",
       "<style scoped>\n",
       "    .dataframe tbody tr th:only-of-type {\n",
       "        vertical-align: middle;\n",
       "    }\n",
       "\n",
       "    .dataframe tbody tr th {\n",
       "        vertical-align: top;\n",
       "    }\n",
       "\n",
       "    .dataframe thead th {\n",
       "        text-align: right;\n",
       "    }\n",
       "</style>\n",
       "<table border=\"1\" class=\"dataframe\">\n",
       "  <thead>\n",
       "    <tr style=\"text-align: right;\">\n",
       "      <th></th>\n",
       "      <th>arr_port</th>\n",
       "      <th>pax</th>\n",
       "      <th>Name</th>\n",
       "    </tr>\n",
       "  </thead>\n",
       "  <tbody>\n",
       "    <tr>\n",
       "      <th>0</th>\n",
       "      <td>LHR</td>\n",
       "      <td>88809.0</td>\n",
       "      <td>London Heathrow Airport</td>\n",
       "    </tr>\n",
       "    <tr>\n",
       "      <th>1</th>\n",
       "      <td>MCO</td>\n",
       "      <td>70930.0</td>\n",
       "      <td>Orlando International Airport</td>\n",
       "    </tr>\n",
       "    <tr>\n",
       "      <th>2</th>\n",
       "      <td>LAX</td>\n",
       "      <td>70530.0</td>\n",
       "      <td>Los Angeles International Airport</td>\n",
       "    </tr>\n",
       "    <tr>\n",
       "      <th>3</th>\n",
       "      <td>LAS</td>\n",
       "      <td>69630.0</td>\n",
       "      <td>Mc Carran International Airport</td>\n",
       "    </tr>\n",
       "    <tr>\n",
       "      <th>4</th>\n",
       "      <td>JFK</td>\n",
       "      <td>66270.0</td>\n",
       "      <td>John F Kennedy International Airport</td>\n",
       "    </tr>\n",
       "    <tr>\n",
       "      <th>5</th>\n",
       "      <td>CDG</td>\n",
       "      <td>64490.0</td>\n",
       "      <td>Paris - Charles-de-Gaulle</td>\n",
       "    </tr>\n",
       "    <tr>\n",
       "      <th>6</th>\n",
       "      <td>BKK</td>\n",
       "      <td>59460.0</td>\n",
       "      <td>Suvarnabhumi</td>\n",
       "    </tr>\n",
       "    <tr>\n",
       "      <th>7</th>\n",
       "      <td>MIA</td>\n",
       "      <td>58150.0</td>\n",
       "      <td>Miami International Airport</td>\n",
       "    </tr>\n",
       "    <tr>\n",
       "      <th>8</th>\n",
       "      <td>SFO</td>\n",
       "      <td>58000.0</td>\n",
       "      <td>San Francisco International Airport</td>\n",
       "    </tr>\n",
       "    <tr>\n",
       "      <th>9</th>\n",
       "      <td>DXB</td>\n",
       "      <td>55590.0</td>\n",
       "      <td>Dubai International Airport</td>\n",
       "    </tr>\n",
       "  </tbody>\n",
       "</table>\n",
       "</div>"
      ],
      "text/plain": [
       "   arr_port      pax                                  Name\n",
       "0  LHR       88809.0               London Heathrow Airport\n",
       "1  MCO       70930.0         Orlando International Airport\n",
       "2  LAX       70530.0     Los Angeles International Airport\n",
       "3  LAS       69630.0       Mc Carran International Airport\n",
       "4  JFK       66270.0  John F Kennedy International Airport\n",
       "5  CDG       64490.0             Paris - Charles-de-Gaulle\n",
       "6  BKK       59460.0                          Suvarnabhumi\n",
       "7  MIA       58150.0           Miami International Airport\n",
       "8  SFO       58000.0   San Francisco International Airport\n",
       "9  DXB       55590.0           Dubai International Airport"
      ]
     },
     "execution_count": 182,
     "metadata": {},
     "output_type": "execute_result"
    }
   ],
   "source": [
    "top_airport"
   ]
  },
  {
   "cell_type": "code",
   "execution_count": 183,
   "metadata": {},
   "outputs": [],
   "source": [
    "top_airport.to_csv('top_airport.csv', sep='^', index=False)"
   ]
  },
  {
   "cell_type": "code",
   "execution_count": 184,
   "metadata": {},
   "outputs": [
    {
     "name": "stdout",
     "output_type": "stream",
     "text": [
      "arr_port^pax^Name\r\n",
      "LHR     ^88809.0^London Heathrow Airport\r\n",
      "MCO     ^70930.0^Orlando International Airport\r\n",
      "LAX     ^70530.0^Los Angeles International Airport\r\n",
      "LAS     ^69630.0^Mc Carran International Airport\r\n",
      "JFK     ^66270.0^John F Kennedy International Airport\r\n",
      "CDG     ^64490.0^Paris - Charles-de-Gaulle\r\n",
      "BKK     ^59460.0^Suvarnabhumi\r\n",
      "MIA     ^58150.0^Miami International Airport\r\n",
      "SFO     ^58000.0^San Francisco International Airport\r\n",
      "DXB     ^55590.0^Dubai International Airport\r\n"
     ]
    }
   ],
   "source": [
    "! cat top_airport.csv"
   ]
  }
 ],
 "metadata": {
  "kernelspec": {
   "display_name": "Python 3",
   "language": "python",
   "name": "python3"
  },
  "language_info": {
   "codemirror_mode": {
    "name": "ipython",
    "version": 3
   },
   "file_extension": ".py",
   "mimetype": "text/x-python",
   "name": "python",
   "nbconvert_exporter": "python",
   "pygments_lexer": "ipython3",
   "version": "3.7.0"
  }
 },
 "nbformat": 4,
 "nbformat_minor": 2
}
