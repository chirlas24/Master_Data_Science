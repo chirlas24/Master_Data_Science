{
 "cells": [
  {
   "cell_type": "markdown",
   "metadata": {},
   "source": [
    "## Plot the monthly number of searches for flights arriving at Málaga, Madrid or Barcelona\n",
    "\n",
    "For the arriving airport, you can use the Destination column in the searches file. \n",
    "\n",
    "Plot a curve for Málaga, another one for Madrid, and another one for Barcelona, in the same figure.\n"
   ]
  },
  {
   "cell_type": "raw",
   "metadata": {},
   "source": [
    "Get familiar with data\n",
    "Select the columns of interest\n",
    "What to do with NaN?\n",
    "\n",
    "Make action plan\n",
    "Develop the code that works with a sample\n",
    "\n",
    "Adjust the code to work with Big data\n",
    "Test big data approach on a sample\n",
    "\n",
    "Run program with big data"
   ]
  },
  {
   "cell_type": "markdown",
   "metadata": {},
   "source": [
    "## 1) Get familiar with data"
   ]
  },
  {
   "cell_type": "code",
   "execution_count": 1,
   "metadata": {},
   "outputs": [],
   "source": [
    "import pandas as pd"
   ]
  },
  {
   "cell_type": "code",
   "execution_count": 3,
   "metadata": {},
   "outputs": [
    {
     "name": "stdout",
     "output_type": "stream",
     "text": [
      "/home/dsc/Data/challenge\n"
     ]
    }
   ],
   "source": [
    "cd ../../Data/challenge/"
   ]
  },
  {
   "cell_type": "code",
   "execution_count": 4,
   "metadata": {},
   "outputs": [
    {
     "name": "stdout",
     "output_type": "stream",
     "text": [
      "total 1018820\r\n",
      "-rwxr-x--- 1 dsc dsc 554970628 mar 13  2018 \u001b[0m\u001b[01;32mbookings.csv.bz2\u001b[0m*\r\n",
      "-rw-r--r-- 1 dsc dsc   4232732 ene 25 17:53 bookings_sample.csv\r\n",
      "-rwxrwxrwx 1 dsc dsc    535893 ene 25 17:18 \u001b[01;32mbookings_sample.csv.bz2\u001b[0m*\r\n",
      "-rwxr-x--- 1 dsc dsc 483188920 mar 13  2018 \u001b[01;32msearches.csv.bz2\u001b[0m*\r\n",
      "-rwxrwxrwx 1 dsc dsc    244720 ene 25 17:19 \u001b[01;32msearches_sample.csv.bz2\u001b[0m*\r\n",
      "-rw-r--r-- 1 dsc dsc     80140 ene 25 21:22 top_airports.csv\r\n"
     ]
    }
   ],
   "source": [
    "ls -l"
   ]
  },
  {
   "cell_type": "code",
   "execution_count": 5,
   "metadata": {},
   "outputs": [],
   "source": [
    "s=pd.read_csv('./searches_sample.csv.bz2', sep='^')\n",
    "#s=pd.read_csv('./searches.csv.bz2', sep='^', nrows=10000)\n"
   ]
  },
  {
   "cell_type": "code",
   "execution_count": 6,
   "metadata": {},
   "outputs": [
    {
     "data": {
      "text/html": [
       "<div>\n",
       "<style scoped>\n",
       "    .dataframe tbody tr th:only-of-type {\n",
       "        vertical-align: middle;\n",
       "    }\n",
       "\n",
       "    .dataframe tbody tr th {\n",
       "        vertical-align: top;\n",
       "    }\n",
       "\n",
       "    .dataframe thead th {\n",
       "        text-align: right;\n",
       "    }\n",
       "</style>\n",
       "<table border=\"1\" class=\"dataframe\">\n",
       "  <thead>\n",
       "    <tr style=\"text-align: right;\">\n",
       "      <th></th>\n",
       "      <th>Date</th>\n",
       "      <th>Time</th>\n",
       "      <th>TxnCode</th>\n",
       "      <th>OfficeID</th>\n",
       "      <th>Country</th>\n",
       "      <th>Origin</th>\n",
       "      <th>Destination</th>\n",
       "      <th>RoundTrip</th>\n",
       "      <th>NbSegments</th>\n",
       "      <th>Seg1Departure</th>\n",
       "      <th>...</th>\n",
       "      <th>Seg6Arrival</th>\n",
       "      <th>Seg6Date</th>\n",
       "      <th>Seg6Carrier</th>\n",
       "      <th>Seg6BookingCode</th>\n",
       "      <th>From</th>\n",
       "      <th>IsPublishedForNeg</th>\n",
       "      <th>IsFromInternet</th>\n",
       "      <th>IsFromVista</th>\n",
       "      <th>TerminalID</th>\n",
       "      <th>InternetOffice</th>\n",
       "    </tr>\n",
       "  </thead>\n",
       "  <tbody>\n",
       "    <tr>\n",
       "      <th>1079</th>\n",
       "      <td>2013-01-02</td>\n",
       "      <td>00:34:29</td>\n",
       "      <td>CAL</td>\n",
       "      <td>cb028e2166a95168fee7d483a463ae54</td>\n",
       "      <td>DE</td>\n",
       "      <td>MUC</td>\n",
       "      <td>BLQ</td>\n",
       "      <td>1</td>\n",
       "      <td>2</td>\n",
       "      <td>MUC</td>\n",
       "      <td>...</td>\n",
       "      <td>NaN</td>\n",
       "      <td>NaN</td>\n",
       "      <td>NaN</td>\n",
       "      <td>NaN</td>\n",
       "      <td>1ASIWS</td>\n",
       "      <td>0</td>\n",
       "      <td>0</td>\n",
       "      <td>0</td>\n",
       "      <td>d41d8cd98f00b204e9800998ecf8427e</td>\n",
       "      <td>FRA</td>\n",
       "    </tr>\n",
       "    <tr>\n",
       "      <th>7755</th>\n",
       "      <td>2013-01-08</td>\n",
       "      <td>08:53:17</td>\n",
       "      <td>MPT</td>\n",
       "      <td>788e52ddaa551032c69ba37cc316233f</td>\n",
       "      <td>FR</td>\n",
       "      <td>DKR</td>\n",
       "      <td>BES</td>\n",
       "      <td>0</td>\n",
       "      <td>1</td>\n",
       "      <td>DKR</td>\n",
       "      <td>...</td>\n",
       "      <td>NaN</td>\n",
       "      <td>NaN</td>\n",
       "      <td>NaN</td>\n",
       "      <td>NaN</td>\n",
       "      <td>1ASI</td>\n",
       "      <td>0</td>\n",
       "      <td>0</td>\n",
       "      <td>0</td>\n",
       "      <td>d41d8cd98f00b204e9800998ecf8427e</td>\n",
       "      <td>PAR</td>\n",
       "    </tr>\n",
       "    <tr>\n",
       "      <th>9289</th>\n",
       "      <td>2013-01-10</td>\n",
       "      <td>17:27:24</td>\n",
       "      <td>MPT</td>\n",
       "      <td>b695299cc14ddcd1e31f1c922b3e258c</td>\n",
       "      <td>US</td>\n",
       "      <td>EWR</td>\n",
       "      <td>BZE</td>\n",
       "      <td>1</td>\n",
       "      <td>2</td>\n",
       "      <td>EWR</td>\n",
       "      <td>...</td>\n",
       "      <td>NaN</td>\n",
       "      <td>NaN</td>\n",
       "      <td>NaN</td>\n",
       "      <td>NaN</td>\n",
       "      <td>1ASI</td>\n",
       "      <td>0</td>\n",
       "      <td>0</td>\n",
       "      <td>0</td>\n",
       "      <td>d41d8cd98f00b204e9800998ecf8427e</td>\n",
       "      <td>SJC</td>\n",
       "    </tr>\n",
       "    <tr>\n",
       "      <th>722</th>\n",
       "      <td>2013-01-01</td>\n",
       "      <td>16:22:49</td>\n",
       "      <td>MPT</td>\n",
       "      <td>909e0b385888f1305839025d209a5a93</td>\n",
       "      <td>GB</td>\n",
       "      <td>BOH</td>\n",
       "      <td>FAO</td>\n",
       "      <td>1</td>\n",
       "      <td>2</td>\n",
       "      <td>BOH</td>\n",
       "      <td>...</td>\n",
       "      <td>NaN</td>\n",
       "      <td>NaN</td>\n",
       "      <td>NaN</td>\n",
       "      <td>NaN</td>\n",
       "      <td>1ASI</td>\n",
       "      <td>0</td>\n",
       "      <td>0</td>\n",
       "      <td>0</td>\n",
       "      <td>d41d8cd98f00b204e9800998ecf8427e</td>\n",
       "      <td>LON</td>\n",
       "    </tr>\n",
       "    <tr>\n",
       "      <th>4571</th>\n",
       "      <td>2013-01-05</td>\n",
       "      <td>00:02:52</td>\n",
       "      <td>MPT</td>\n",
       "      <td>77f83f983d7f1236f0beedff2410c509</td>\n",
       "      <td>GB</td>\n",
       "      <td>LON</td>\n",
       "      <td>DEL</td>\n",
       "      <td>1</td>\n",
       "      <td>2</td>\n",
       "      <td>LON</td>\n",
       "      <td>...</td>\n",
       "      <td>NaN</td>\n",
       "      <td>NaN</td>\n",
       "      <td>NaN</td>\n",
       "      <td>NaN</td>\n",
       "      <td>1ASI</td>\n",
       "      <td>0</td>\n",
       "      <td>0</td>\n",
       "      <td>0</td>\n",
       "      <td>d41d8cd98f00b204e9800998ecf8427e</td>\n",
       "      <td>LON</td>\n",
       "    </tr>\n",
       "  </tbody>\n",
       "</table>\n",
       "<p>5 rows × 45 columns</p>\n",
       "</div>"
      ],
      "text/plain": [
       "            Date      Time TxnCode                          OfficeID Country  \\\n",
       "1079  2013-01-02  00:34:29     CAL  cb028e2166a95168fee7d483a463ae54      DE   \n",
       "7755  2013-01-08  08:53:17     MPT  788e52ddaa551032c69ba37cc316233f      FR   \n",
       "9289  2013-01-10  17:27:24     MPT  b695299cc14ddcd1e31f1c922b3e258c      US   \n",
       "722   2013-01-01  16:22:49     MPT  909e0b385888f1305839025d209a5a93      GB   \n",
       "4571  2013-01-05  00:02:52     MPT  77f83f983d7f1236f0beedff2410c509      GB   \n",
       "\n",
       "     Origin Destination  RoundTrip  NbSegments Seg1Departure      ...        \\\n",
       "1079    MUC         BLQ          1           2           MUC      ...         \n",
       "7755    DKR         BES          0           1           DKR      ...         \n",
       "9289    EWR         BZE          1           2           EWR      ...         \n",
       "722     BOH         FAO          1           2           BOH      ...         \n",
       "4571    LON         DEL          1           2           LON      ...         \n",
       "\n",
       "     Seg6Arrival Seg6Date Seg6Carrier Seg6BookingCode    From  \\\n",
       "1079         NaN      NaN         NaN             NaN  1ASIWS   \n",
       "7755         NaN      NaN         NaN             NaN    1ASI   \n",
       "9289         NaN      NaN         NaN             NaN    1ASI   \n",
       "722          NaN      NaN         NaN             NaN    1ASI   \n",
       "4571         NaN      NaN         NaN             NaN    1ASI   \n",
       "\n",
       "     IsPublishedForNeg IsFromInternet IsFromVista  \\\n",
       "1079                 0              0           0   \n",
       "7755                 0              0           0   \n",
       "9289                 0              0           0   \n",
       "722                  0              0           0   \n",
       "4571                 0              0           0   \n",
       "\n",
       "                            TerminalID InternetOffice  \n",
       "1079  d41d8cd98f00b204e9800998ecf8427e            FRA  \n",
       "7755  d41d8cd98f00b204e9800998ecf8427e            PAR  \n",
       "9289  d41d8cd98f00b204e9800998ecf8427e            SJC  \n",
       "722   d41d8cd98f00b204e9800998ecf8427e            LON  \n",
       "4571  d41d8cd98f00b204e9800998ecf8427e            LON  \n",
       "\n",
       "[5 rows x 45 columns]"
      ]
     },
     "execution_count": 6,
     "metadata": {},
     "output_type": "execute_result"
    }
   ],
   "source": [
    "s.sample(5)"
   ]
  },
  {
   "cell_type": "code",
   "execution_count": 7,
   "metadata": {},
   "outputs": [],
   "source": [
    "pd.set_option('display.max_columns', None)"
   ]
  },
  {
   "cell_type": "code",
   "execution_count": 8,
   "metadata": {},
   "outputs": [
    {
     "data": {
      "text/html": [
       "<div>\n",
       "<style scoped>\n",
       "    .dataframe tbody tr th:only-of-type {\n",
       "        vertical-align: middle;\n",
       "    }\n",
       "\n",
       "    .dataframe tbody tr th {\n",
       "        vertical-align: top;\n",
       "    }\n",
       "\n",
       "    .dataframe thead th {\n",
       "        text-align: right;\n",
       "    }\n",
       "</style>\n",
       "<table border=\"1\" class=\"dataframe\">\n",
       "  <thead>\n",
       "    <tr style=\"text-align: right;\">\n",
       "      <th></th>\n",
       "      <th>Date</th>\n",
       "      <th>Time</th>\n",
       "      <th>TxnCode</th>\n",
       "      <th>OfficeID</th>\n",
       "      <th>Country</th>\n",
       "      <th>Origin</th>\n",
       "      <th>Destination</th>\n",
       "      <th>RoundTrip</th>\n",
       "      <th>NbSegments</th>\n",
       "      <th>Seg1Departure</th>\n",
       "      <th>Seg1Arrival</th>\n",
       "      <th>Seg1Date</th>\n",
       "      <th>Seg1Carrier</th>\n",
       "      <th>Seg1BookingCode</th>\n",
       "      <th>Seg2Departure</th>\n",
       "      <th>Seg2Arrival</th>\n",
       "      <th>Seg2Date</th>\n",
       "      <th>Seg2Carrier</th>\n",
       "      <th>Seg2BookingCode</th>\n",
       "      <th>Seg3Departure</th>\n",
       "      <th>Seg3Arrival</th>\n",
       "      <th>Seg3Date</th>\n",
       "      <th>Seg3Carrier</th>\n",
       "      <th>Seg3BookingCode</th>\n",
       "      <th>Seg4Departure</th>\n",
       "      <th>Seg4Arrival</th>\n",
       "      <th>Seg4Date</th>\n",
       "      <th>Seg4Carrier</th>\n",
       "      <th>Seg4BookingCode</th>\n",
       "      <th>Seg5Departure</th>\n",
       "      <th>Seg5Arrival</th>\n",
       "      <th>Seg5Date</th>\n",
       "      <th>Seg5Carrier</th>\n",
       "      <th>Seg5BookingCode</th>\n",
       "      <th>Seg6Departure</th>\n",
       "      <th>Seg6Arrival</th>\n",
       "      <th>Seg6Date</th>\n",
       "      <th>Seg6Carrier</th>\n",
       "      <th>Seg6BookingCode</th>\n",
       "      <th>From</th>\n",
       "      <th>IsPublishedForNeg</th>\n",
       "      <th>IsFromInternet</th>\n",
       "      <th>IsFromVista</th>\n",
       "      <th>TerminalID</th>\n",
       "      <th>InternetOffice</th>\n",
       "    </tr>\n",
       "  </thead>\n",
       "  <tbody>\n",
       "    <tr>\n",
       "      <th>1438</th>\n",
       "      <td>2013-01-02</td>\n",
       "      <td>12:36:08</td>\n",
       "      <td>FFP</td>\n",
       "      <td>5e27c9ae4f31183dbdee907984cbee32</td>\n",
       "      <td>CH</td>\n",
       "      <td>ZRH</td>\n",
       "      <td>HAM</td>\n",
       "      <td>1</td>\n",
       "      <td>2</td>\n",
       "      <td>ZRH</td>\n",
       "      <td>HAM</td>\n",
       "      <td>2013-03-15</td>\n",
       "      <td>7U</td>\n",
       "      <td>NaN</td>\n",
       "      <td>HAM</td>\n",
       "      <td>ZRH</td>\n",
       "      <td>2013-03-18</td>\n",
       "      <td>7U</td>\n",
       "      <td>NaN</td>\n",
       "      <td>NaN</td>\n",
       "      <td>NaN</td>\n",
       "      <td>NaN</td>\n",
       "      <td>NaN</td>\n",
       "      <td>NaN</td>\n",
       "      <td>NaN</td>\n",
       "      <td>NaN</td>\n",
       "      <td>NaN</td>\n",
       "      <td>NaN</td>\n",
       "      <td>NaN</td>\n",
       "      <td>NaN</td>\n",
       "      <td>NaN</td>\n",
       "      <td>NaN</td>\n",
       "      <td>NaN</td>\n",
       "      <td>NaN</td>\n",
       "      <td>NaN</td>\n",
       "      <td>NaN</td>\n",
       "      <td>NaN</td>\n",
       "      <td>NaN</td>\n",
       "      <td>NaN</td>\n",
       "      <td>1ASIWS</td>\n",
       "      <td>0</td>\n",
       "      <td>0</td>\n",
       "      <td>0</td>\n",
       "      <td>d41d8cd98f00b204e9800998ecf8427e</td>\n",
       "      <td>ZRH</td>\n",
       "    </tr>\n",
       "    <tr>\n",
       "      <th>7188</th>\n",
       "      <td>2013-01-08</td>\n",
       "      <td>17:17:56</td>\n",
       "      <td>FCP</td>\n",
       "      <td>3565e31495ecfd46fa018339d20382b1</td>\n",
       "      <td>SA</td>\n",
       "      <td>RUH</td>\n",
       "      <td>EAM</td>\n",
       "      <td>0</td>\n",
       "      <td>1</td>\n",
       "      <td>RUH</td>\n",
       "      <td>EAM</td>\n",
       "      <td>2013-01-15</td>\n",
       "      <td>KP</td>\n",
       "      <td>NaN</td>\n",
       "      <td>NaN</td>\n",
       "      <td>NaN</td>\n",
       "      <td>NaN</td>\n",
       "      <td>NaN</td>\n",
       "      <td>NaN</td>\n",
       "      <td>NaN</td>\n",
       "      <td>NaN</td>\n",
       "      <td>NaN</td>\n",
       "      <td>NaN</td>\n",
       "      <td>NaN</td>\n",
       "      <td>NaN</td>\n",
       "      <td>NaN</td>\n",
       "      <td>NaN</td>\n",
       "      <td>NaN</td>\n",
       "      <td>NaN</td>\n",
       "      <td>NaN</td>\n",
       "      <td>NaN</td>\n",
       "      <td>NaN</td>\n",
       "      <td>NaN</td>\n",
       "      <td>NaN</td>\n",
       "      <td>NaN</td>\n",
       "      <td>NaN</td>\n",
       "      <td>NaN</td>\n",
       "      <td>NaN</td>\n",
       "      <td>NaN</td>\n",
       "      <td>1ASIWS</td>\n",
       "      <td>0</td>\n",
       "      <td>0</td>\n",
       "      <td>0</td>\n",
       "      <td>d41d8cd98f00b204e9800998ecf8427e</td>\n",
       "      <td>JED</td>\n",
       "    </tr>\n",
       "    <tr>\n",
       "      <th>2151</th>\n",
       "      <td>2013-01-03</td>\n",
       "      <td>08:11:39</td>\n",
       "      <td>MTP</td>\n",
       "      <td>e41c9d833aa74600552f2ed688b67d81</td>\n",
       "      <td>AT</td>\n",
       "      <td>VIE</td>\n",
       "      <td>AMS</td>\n",
       "      <td>1</td>\n",
       "      <td>2</td>\n",
       "      <td>VIE</td>\n",
       "      <td>AMS</td>\n",
       "      <td>2013-04-04</td>\n",
       "      <td>NaN</td>\n",
       "      <td>NaN</td>\n",
       "      <td>AMS</td>\n",
       "      <td>VIE</td>\n",
       "      <td>2013-04-07</td>\n",
       "      <td>NaN</td>\n",
       "      <td>NaN</td>\n",
       "      <td>NaN</td>\n",
       "      <td>NaN</td>\n",
       "      <td>NaN</td>\n",
       "      <td>NaN</td>\n",
       "      <td>NaN</td>\n",
       "      <td>NaN</td>\n",
       "      <td>NaN</td>\n",
       "      <td>NaN</td>\n",
       "      <td>NaN</td>\n",
       "      <td>NaN</td>\n",
       "      <td>NaN</td>\n",
       "      <td>NaN</td>\n",
       "      <td>NaN</td>\n",
       "      <td>NaN</td>\n",
       "      <td>NaN</td>\n",
       "      <td>NaN</td>\n",
       "      <td>NaN</td>\n",
       "      <td>NaN</td>\n",
       "      <td>NaN</td>\n",
       "      <td>NaN</td>\n",
       "      <td>1ASIWS</td>\n",
       "      <td>0</td>\n",
       "      <td>0</td>\n",
       "      <td>0</td>\n",
       "      <td>d41d8cd98f00b204e9800998ecf8427e</td>\n",
       "      <td>VIE</td>\n",
       "    </tr>\n",
       "    <tr>\n",
       "      <th>1255</th>\n",
       "      <td>2013-01-02</td>\n",
       "      <td>21:05:50</td>\n",
       "      <td>FXA</td>\n",
       "      <td>4014b98b900d9d8620abcfce2028e66d</td>\n",
       "      <td>NO</td>\n",
       "      <td>SVG</td>\n",
       "      <td>OSL</td>\n",
       "      <td>1</td>\n",
       "      <td>3</td>\n",
       "      <td>SVG</td>\n",
       "      <td>OSL</td>\n",
       "      <td>2013-01-08</td>\n",
       "      <td>DU</td>\n",
       "      <td>C</td>\n",
       "      <td>OSL</td>\n",
       "      <td>LHR</td>\n",
       "      <td>2013-01-09</td>\n",
       "      <td>LK</td>\n",
       "      <td>J</td>\n",
       "      <td>LGW</td>\n",
       "      <td>SVG</td>\n",
       "      <td>2013-01-10</td>\n",
       "      <td>NJ</td>\n",
       "      <td>D</td>\n",
       "      <td>NaN</td>\n",
       "      <td>NaN</td>\n",
       "      <td>NaN</td>\n",
       "      <td>NaN</td>\n",
       "      <td>NaN</td>\n",
       "      <td>NaN</td>\n",
       "      <td>NaN</td>\n",
       "      <td>NaN</td>\n",
       "      <td>NaN</td>\n",
       "      <td>NaN</td>\n",
       "      <td>NaN</td>\n",
       "      <td>NaN</td>\n",
       "      <td>NaN</td>\n",
       "      <td>NaN</td>\n",
       "      <td>NaN</td>\n",
       "      <td>1ASI</td>\n",
       "      <td>0</td>\n",
       "      <td>0</td>\n",
       "      <td>0</td>\n",
       "      <td>b720315752f6f549c6266baa20303354</td>\n",
       "      <td>OSL</td>\n",
       "    </tr>\n",
       "    <tr>\n",
       "      <th>7190</th>\n",
       "      <td>2013-01-08</td>\n",
       "      <td>17:46:37</td>\n",
       "      <td>MPT</td>\n",
       "      <td>03a4fc8b3cd31d6d5b5d7b86d20f4af8</td>\n",
       "      <td>DE</td>\n",
       "      <td>SBZ</td>\n",
       "      <td>STR</td>\n",
       "      <td>0</td>\n",
       "      <td>1</td>\n",
       "      <td>SBZ</td>\n",
       "      <td>STR</td>\n",
       "      <td>2013-01-12</td>\n",
       "      <td>NaN</td>\n",
       "      <td>NaN</td>\n",
       "      <td>NaN</td>\n",
       "      <td>NaN</td>\n",
       "      <td>NaN</td>\n",
       "      <td>NaN</td>\n",
       "      <td>NaN</td>\n",
       "      <td>NaN</td>\n",
       "      <td>NaN</td>\n",
       "      <td>NaN</td>\n",
       "      <td>NaN</td>\n",
       "      <td>NaN</td>\n",
       "      <td>NaN</td>\n",
       "      <td>NaN</td>\n",
       "      <td>NaN</td>\n",
       "      <td>NaN</td>\n",
       "      <td>NaN</td>\n",
       "      <td>NaN</td>\n",
       "      <td>NaN</td>\n",
       "      <td>NaN</td>\n",
       "      <td>NaN</td>\n",
       "      <td>NaN</td>\n",
       "      <td>NaN</td>\n",
       "      <td>NaN</td>\n",
       "      <td>NaN</td>\n",
       "      <td>NaN</td>\n",
       "      <td>NaN</td>\n",
       "      <td>1ASIWS</td>\n",
       "      <td>0</td>\n",
       "      <td>0</td>\n",
       "      <td>0</td>\n",
       "      <td>d41d8cd98f00b204e9800998ecf8427e</td>\n",
       "      <td>LEJ</td>\n",
       "    </tr>\n",
       "  </tbody>\n",
       "</table>\n",
       "</div>"
      ],
      "text/plain": [
       "            Date      Time TxnCode                          OfficeID Country  \\\n",
       "1438  2013-01-02  12:36:08     FFP  5e27c9ae4f31183dbdee907984cbee32      CH   \n",
       "7188  2013-01-08  17:17:56     FCP  3565e31495ecfd46fa018339d20382b1      SA   \n",
       "2151  2013-01-03  08:11:39     MTP  e41c9d833aa74600552f2ed688b67d81      AT   \n",
       "1255  2013-01-02  21:05:50     FXA  4014b98b900d9d8620abcfce2028e66d      NO   \n",
       "7190  2013-01-08  17:46:37     MPT  03a4fc8b3cd31d6d5b5d7b86d20f4af8      DE   \n",
       "\n",
       "     Origin Destination  RoundTrip  NbSegments Seg1Departure Seg1Arrival  \\\n",
       "1438    ZRH         HAM          1           2           ZRH         HAM   \n",
       "7188    RUH         EAM          0           1           RUH         EAM   \n",
       "2151    VIE         AMS          1           2           VIE         AMS   \n",
       "1255    SVG         OSL          1           3           SVG         OSL   \n",
       "7190    SBZ         STR          0           1           SBZ         STR   \n",
       "\n",
       "        Seg1Date Seg1Carrier Seg1BookingCode Seg2Departure Seg2Arrival  \\\n",
       "1438  2013-03-15          7U             NaN           HAM         ZRH   \n",
       "7188  2013-01-15          KP             NaN           NaN         NaN   \n",
       "2151  2013-04-04         NaN             NaN           AMS         VIE   \n",
       "1255  2013-01-08          DU               C           OSL         LHR   \n",
       "7190  2013-01-12         NaN             NaN           NaN         NaN   \n",
       "\n",
       "        Seg2Date Seg2Carrier Seg2BookingCode Seg3Departure Seg3Arrival  \\\n",
       "1438  2013-03-18          7U             NaN           NaN         NaN   \n",
       "7188         NaN         NaN             NaN           NaN         NaN   \n",
       "2151  2013-04-07         NaN             NaN           NaN         NaN   \n",
       "1255  2013-01-09          LK               J           LGW         SVG   \n",
       "7190         NaN         NaN             NaN           NaN         NaN   \n",
       "\n",
       "        Seg3Date Seg3Carrier Seg3BookingCode Seg4Departure Seg4Arrival  \\\n",
       "1438         NaN         NaN             NaN           NaN         NaN   \n",
       "7188         NaN         NaN             NaN           NaN         NaN   \n",
       "2151         NaN         NaN             NaN           NaN         NaN   \n",
       "1255  2013-01-10          NJ               D           NaN         NaN   \n",
       "7190         NaN         NaN             NaN           NaN         NaN   \n",
       "\n",
       "     Seg4Date Seg4Carrier Seg4BookingCode Seg5Departure Seg5Arrival Seg5Date  \\\n",
       "1438      NaN         NaN             NaN           NaN         NaN      NaN   \n",
       "7188      NaN         NaN             NaN           NaN         NaN      NaN   \n",
       "2151      NaN         NaN             NaN           NaN         NaN      NaN   \n",
       "1255      NaN         NaN             NaN           NaN         NaN      NaN   \n",
       "7190      NaN         NaN             NaN           NaN         NaN      NaN   \n",
       "\n",
       "     Seg5Carrier Seg5BookingCode Seg6Departure Seg6Arrival Seg6Date  \\\n",
       "1438         NaN             NaN           NaN         NaN      NaN   \n",
       "7188         NaN             NaN           NaN         NaN      NaN   \n",
       "2151         NaN             NaN           NaN         NaN      NaN   \n",
       "1255         NaN             NaN           NaN         NaN      NaN   \n",
       "7190         NaN             NaN           NaN         NaN      NaN   \n",
       "\n",
       "     Seg6Carrier Seg6BookingCode    From  IsPublishedForNeg  IsFromInternet  \\\n",
       "1438         NaN             NaN  1ASIWS                  0               0   \n",
       "7188         NaN             NaN  1ASIWS                  0               0   \n",
       "2151         NaN             NaN  1ASIWS                  0               0   \n",
       "1255         NaN             NaN    1ASI                  0               0   \n",
       "7190         NaN             NaN  1ASIWS                  0               0   \n",
       "\n",
       "      IsFromVista                        TerminalID InternetOffice  \n",
       "1438            0  d41d8cd98f00b204e9800998ecf8427e            ZRH  \n",
       "7188            0  d41d8cd98f00b204e9800998ecf8427e            JED  \n",
       "2151            0  d41d8cd98f00b204e9800998ecf8427e            VIE  \n",
       "1255            0  b720315752f6f549c6266baa20303354            OSL  \n",
       "7190            0  d41d8cd98f00b204e9800998ecf8427e            LEJ  "
      ]
     },
     "execution_count": 8,
     "metadata": {},
     "output_type": "execute_result"
    }
   ],
   "source": [
    "s.sample(5)"
   ]
  },
  {
   "cell_type": "code",
   "execution_count": 9,
   "metadata": {},
   "outputs": [
    {
     "data": {
      "text/html": [
       "<div>\n",
       "<style scoped>\n",
       "    .dataframe tbody tr th:only-of-type {\n",
       "        vertical-align: middle;\n",
       "    }\n",
       "\n",
       "    .dataframe tbody tr th {\n",
       "        vertical-align: top;\n",
       "    }\n",
       "\n",
       "    .dataframe thead th {\n",
       "        text-align: right;\n",
       "    }\n",
       "</style>\n",
       "<table border=\"1\" class=\"dataframe\">\n",
       "  <thead>\n",
       "    <tr style=\"text-align: right;\">\n",
       "      <th></th>\n",
       "      <th>RoundTrip</th>\n",
       "      <th>NbSegments</th>\n",
       "      <th>IsPublishedForNeg</th>\n",
       "      <th>IsFromInternet</th>\n",
       "      <th>IsFromVista</th>\n",
       "    </tr>\n",
       "  </thead>\n",
       "  <tbody>\n",
       "    <tr>\n",
       "      <th>count</th>\n",
       "      <td>9999.000000</td>\n",
       "      <td>9999.000000</td>\n",
       "      <td>9999.0</td>\n",
       "      <td>9999.0</td>\n",
       "      <td>9999.0</td>\n",
       "    </tr>\n",
       "    <tr>\n",
       "      <th>mean</th>\n",
       "      <td>0.700670</td>\n",
       "      <td>1.833583</td>\n",
       "      <td>0.0</td>\n",
       "      <td>0.0</td>\n",
       "      <td>0.0</td>\n",
       "    </tr>\n",
       "    <tr>\n",
       "      <th>std</th>\n",
       "      <td>0.457987</td>\n",
       "      <td>0.731857</td>\n",
       "      <td>0.0</td>\n",
       "      <td>0.0</td>\n",
       "      <td>0.0</td>\n",
       "    </tr>\n",
       "    <tr>\n",
       "      <th>min</th>\n",
       "      <td>0.000000</td>\n",
       "      <td>1.000000</td>\n",
       "      <td>0.0</td>\n",
       "      <td>0.0</td>\n",
       "      <td>0.0</td>\n",
       "    </tr>\n",
       "    <tr>\n",
       "      <th>25%</th>\n",
       "      <td>0.000000</td>\n",
       "      <td>1.000000</td>\n",
       "      <td>0.0</td>\n",
       "      <td>0.0</td>\n",
       "      <td>0.0</td>\n",
       "    </tr>\n",
       "    <tr>\n",
       "      <th>50%</th>\n",
       "      <td>1.000000</td>\n",
       "      <td>2.000000</td>\n",
       "      <td>0.0</td>\n",
       "      <td>0.0</td>\n",
       "      <td>0.0</td>\n",
       "    </tr>\n",
       "    <tr>\n",
       "      <th>75%</th>\n",
       "      <td>1.000000</td>\n",
       "      <td>2.000000</td>\n",
       "      <td>0.0</td>\n",
       "      <td>0.0</td>\n",
       "      <td>0.0</td>\n",
       "    </tr>\n",
       "    <tr>\n",
       "      <th>max</th>\n",
       "      <td>1.000000</td>\n",
       "      <td>9.000000</td>\n",
       "      <td>0.0</td>\n",
       "      <td>0.0</td>\n",
       "      <td>0.0</td>\n",
       "    </tr>\n",
       "  </tbody>\n",
       "</table>\n",
       "</div>"
      ],
      "text/plain": [
       "         RoundTrip   NbSegments  IsPublishedForNeg  IsFromInternet  \\\n",
       "count  9999.000000  9999.000000             9999.0          9999.0   \n",
       "mean      0.700670     1.833583                0.0             0.0   \n",
       "std       0.457987     0.731857                0.0             0.0   \n",
       "min       0.000000     1.000000                0.0             0.0   \n",
       "25%       0.000000     1.000000                0.0             0.0   \n",
       "50%       1.000000     2.000000                0.0             0.0   \n",
       "75%       1.000000     2.000000                0.0             0.0   \n",
       "max       1.000000     9.000000                0.0             0.0   \n",
       "\n",
       "       IsFromVista  \n",
       "count       9999.0  \n",
       "mean           0.0  \n",
       "std            0.0  \n",
       "min            0.0  \n",
       "25%            0.0  \n",
       "50%            0.0  \n",
       "75%            0.0  \n",
       "max            0.0  "
      ]
     },
     "execution_count": 9,
     "metadata": {},
     "output_type": "execute_result"
    }
   ],
   "source": [
    "s.describe()"
   ]
  },
  {
   "cell_type": "code",
   "execution_count": 10,
   "metadata": {},
   "outputs": [
    {
     "name": "stdout",
     "output_type": "stream",
     "text": [
      "<class 'pandas.core.frame.DataFrame'>\n",
      "RangeIndex: 9999 entries, 0 to 9998\n",
      "Data columns (total 45 columns):\n",
      "Date                 9999 non-null object\n",
      "Time                 9999 non-null object\n",
      "TxnCode              9999 non-null object\n",
      "OfficeID             9999 non-null object\n",
      "Country              9999 non-null object\n",
      "Origin               9999 non-null object\n",
      "Destination          9999 non-null object\n",
      "RoundTrip            9999 non-null int64\n",
      "NbSegments           9999 non-null int64\n",
      "Seg1Departure        9999 non-null object\n",
      "Seg1Arrival          9999 non-null object\n",
      "Seg1Date             9972 non-null object\n",
      "Seg1Carrier          4047 non-null object\n",
      "Seg1BookingCode      1143 non-null object\n",
      "Seg2Departure        7195 non-null object\n",
      "Seg2Arrival          7195 non-null object\n",
      "Seg2Date             7160 non-null object\n",
      "Seg2Carrier          2870 non-null object\n",
      "Seg2BookingCode      998 non-null object\n",
      "Seg3Departure        534 non-null object\n",
      "Seg3Arrival          534 non-null object\n",
      "Seg3Date             531 non-null object\n",
      "Seg3Carrier          517 non-null object\n",
      "Seg3BookingCode      508 non-null object\n",
      "Seg4Departure        440 non-null object\n",
      "Seg4Arrival          440 non-null object\n",
      "Seg4Date             439 non-null object\n",
      "Seg4Carrier          438 non-null object\n",
      "Seg4BookingCode      436 non-null object\n",
      "Seg5Departure        103 non-null object\n",
      "Seg5Arrival          103 non-null object\n",
      "Seg5Date             103 non-null object\n",
      "Seg5Carrier          103 non-null object\n",
      "Seg5BookingCode      103 non-null object\n",
      "Seg6Departure        58 non-null object\n",
      "Seg6Arrival          58 non-null object\n",
      "Seg6Date             58 non-null object\n",
      "Seg6Carrier          58 non-null object\n",
      "Seg6BookingCode      58 non-null object\n",
      "From                 9924 non-null object\n",
      "IsPublishedForNeg    9999 non-null int64\n",
      "IsFromInternet       9999 non-null int64\n",
      "IsFromVista          9999 non-null int64\n",
      "TerminalID           9999 non-null object\n",
      "InternetOffice       9999 non-null object\n",
      "dtypes: int64(5), object(40)\n",
      "memory usage: 3.4+ MB\n"
     ]
    }
   ],
   "source": [
    "s.info()"
   ]
  },
  {
   "cell_type": "code",
   "execution_count": 12,
   "metadata": {},
   "outputs": [
    {
     "data": {
      "text/plain": [
       "(9999, 45)"
      ]
     },
     "execution_count": 12,
     "metadata": {},
     "output_type": "execute_result"
    }
   ],
   "source": [
    "s.shape"
   ]
  },
  {
   "cell_type": "code",
   "execution_count": 15,
   "metadata": {},
   "outputs": [
    {
     "data": {
      "text/plain": [
       "['Date',\n",
       " 'Time',\n",
       " 'TxnCode',\n",
       " 'OfficeID',\n",
       " 'Country',\n",
       " 'Origin',\n",
       " 'Destination',\n",
       " 'RoundTrip',\n",
       " 'NbSegments',\n",
       " 'Seg1Departure',\n",
       " 'Seg1Arrival',\n",
       " 'Seg1Date',\n",
       " 'Seg1Carrier',\n",
       " 'Seg1BookingCode',\n",
       " 'Seg2Departure',\n",
       " 'Seg2Arrival',\n",
       " 'Seg2Date',\n",
       " 'Seg2Carrier',\n",
       " 'Seg2BookingCode',\n",
       " 'Seg3Departure',\n",
       " 'Seg3Arrival',\n",
       " 'Seg3Date',\n",
       " 'Seg3Carrier',\n",
       " 'Seg3BookingCode',\n",
       " 'Seg4Departure',\n",
       " 'Seg4Arrival',\n",
       " 'Seg4Date',\n",
       " 'Seg4Carrier',\n",
       " 'Seg4BookingCode',\n",
       " 'Seg5Departure',\n",
       " 'Seg5Arrival',\n",
       " 'Seg5Date',\n",
       " 'Seg5Carrier',\n",
       " 'Seg5BookingCode',\n",
       " 'Seg6Departure',\n",
       " 'Seg6Arrival',\n",
       " 'Seg6Date',\n",
       " 'Seg6Carrier',\n",
       " 'Seg6BookingCode',\n",
       " 'From',\n",
       " 'IsPublishedForNeg',\n",
       " 'IsFromInternet',\n",
       " 'IsFromVista',\n",
       " 'TerminalID',\n",
       " 'InternetOffice']"
      ]
     },
     "execution_count": 15,
     "metadata": {},
     "output_type": "execute_result"
    }
   ],
   "source": [
    "list(s.columns)"
   ]
  },
  {
   "cell_type": "code",
   "execution_count": null,
   "metadata": {},
   "outputs": [],
   "source": []
  },
  {
   "cell_type": "markdown",
   "metadata": {},
   "source": [
    "## 2) Select the columns of interest"
   ]
  },
  {
   "cell_type": "markdown",
   "metadata": {
    "collapsed": true
   },
   "source": [
    "Date, Destination"
   ]
  },
  {
   "cell_type": "code",
   "execution_count": 16,
   "metadata": {},
   "outputs": [],
   "source": [
    "s=pd.read_csv('./searches_sample.csv.bz2', sep='^', usecols=['Date', 'Destination'])\n"
   ]
  },
  {
   "cell_type": "code",
   "execution_count": 17,
   "metadata": {},
   "outputs": [
    {
     "data": {
      "text/html": [
       "<div>\n",
       "<style scoped>\n",
       "    .dataframe tbody tr th:only-of-type {\n",
       "        vertical-align: middle;\n",
       "    }\n",
       "\n",
       "    .dataframe tbody tr th {\n",
       "        vertical-align: top;\n",
       "    }\n",
       "\n",
       "    .dataframe thead th {\n",
       "        text-align: right;\n",
       "    }\n",
       "</style>\n",
       "<table border=\"1\" class=\"dataframe\">\n",
       "  <thead>\n",
       "    <tr style=\"text-align: right;\">\n",
       "      <th></th>\n",
       "      <th>Date</th>\n",
       "      <th>Destination</th>\n",
       "    </tr>\n",
       "  </thead>\n",
       "  <tbody>\n",
       "    <tr>\n",
       "      <th>0</th>\n",
       "      <td>2013-01-01</td>\n",
       "      <td>AUH</td>\n",
       "    </tr>\n",
       "    <tr>\n",
       "      <th>1</th>\n",
       "      <td>2013-01-01</td>\n",
       "      <td>MIL</td>\n",
       "    </tr>\n",
       "    <tr>\n",
       "      <th>2</th>\n",
       "      <td>2013-01-01</td>\n",
       "      <td>SFO</td>\n",
       "    </tr>\n",
       "    <tr>\n",
       "      <th>3</th>\n",
       "      <td>2013-01-01</td>\n",
       "      <td>ARN</td>\n",
       "    </tr>\n",
       "    <tr>\n",
       "      <th>4</th>\n",
       "      <td>2013-01-01</td>\n",
       "      <td>MAD</td>\n",
       "    </tr>\n",
       "  </tbody>\n",
       "</table>\n",
       "</div>"
      ],
      "text/plain": [
       "         Date Destination\n",
       "0  2013-01-01         AUH\n",
       "1  2013-01-01         MIL\n",
       "2  2013-01-01         SFO\n",
       "3  2013-01-01         ARN\n",
       "4  2013-01-01         MAD"
      ]
     },
     "execution_count": 17,
     "metadata": {},
     "output_type": "execute_result"
    }
   ],
   "source": [
    "s.head()"
   ]
  },
  {
   "cell_type": "markdown",
   "metadata": {},
   "source": [
    "## 3) What to do with NaN"
   ]
  },
  {
   "cell_type": "code",
   "execution_count": 18,
   "metadata": {},
   "outputs": [],
   "source": [
    "s=pd.read_csv('./searches_sample.csv.bz2', sep='^', usecols=['Date', 'Destination'])\n",
    "s=s.dropna()"
   ]
  },
  {
   "cell_type": "code",
   "execution_count": null,
   "metadata": {
    "collapsed": true
   },
   "outputs": [],
   "source": []
  },
  {
   "cell_type": "markdown",
   "metadata": {},
   "source": [
    "## 4) Make action plan\n"
   ]
  },
  {
   "cell_type": "markdown",
   "metadata": {},
   "source": [
    "1. filtrar solo MAD, AGP, BCN\n",
    "2. create column \"year-month\"\n",
    "3. group by airport, \"year-month\"\n",
    "4. sumar searches\n",
    "5. plot\n"
   ]
  },
  {
   "cell_type": "code",
   "execution_count": 19,
   "metadata": {},
   "outputs": [
    {
     "data": {
      "text/html": [
       "<div>\n",
       "<style scoped>\n",
       "    .dataframe tbody tr th:only-of-type {\n",
       "        vertical-align: middle;\n",
       "    }\n",
       "\n",
       "    .dataframe tbody tr th {\n",
       "        vertical-align: top;\n",
       "    }\n",
       "\n",
       "    .dataframe thead th {\n",
       "        text-align: right;\n",
       "    }\n",
       "</style>\n",
       "<table border=\"1\" class=\"dataframe\">\n",
       "  <thead>\n",
       "    <tr style=\"text-align: right;\">\n",
       "      <th></th>\n",
       "      <th>Date</th>\n",
       "      <th>Destination</th>\n",
       "    </tr>\n",
       "  </thead>\n",
       "  <tbody>\n",
       "    <tr>\n",
       "      <th>0</th>\n",
       "      <td>2013-01-01</td>\n",
       "      <td>AUH</td>\n",
       "    </tr>\n",
       "    <tr>\n",
       "      <th>1</th>\n",
       "      <td>2013-01-01</td>\n",
       "      <td>MIL</td>\n",
       "    </tr>\n",
       "    <tr>\n",
       "      <th>2</th>\n",
       "      <td>2013-01-01</td>\n",
       "      <td>SFO</td>\n",
       "    </tr>\n",
       "    <tr>\n",
       "      <th>3</th>\n",
       "      <td>2013-01-01</td>\n",
       "      <td>ARN</td>\n",
       "    </tr>\n",
       "    <tr>\n",
       "      <th>4</th>\n",
       "      <td>2013-01-01</td>\n",
       "      <td>MAD</td>\n",
       "    </tr>\n",
       "  </tbody>\n",
       "</table>\n",
       "</div>"
      ],
      "text/plain": [
       "         Date Destination\n",
       "0  2013-01-01         AUH\n",
       "1  2013-01-01         MIL\n",
       "2  2013-01-01         SFO\n",
       "3  2013-01-01         ARN\n",
       "4  2013-01-01         MAD"
      ]
     },
     "execution_count": 19,
     "metadata": {},
     "output_type": "execute_result"
    }
   ],
   "source": [
    "s.head()"
   ]
  },
  {
   "cell_type": "code",
   "execution_count": null,
   "metadata": {
    "collapsed": true
   },
   "outputs": [],
   "source": []
  },
  {
   "cell_type": "markdown",
   "metadata": {},
   "source": [
    "### 4.1) filter out the the searches for MAD, BCN, AGP\n",
    "take only the rows having MAD, BCN or AGP as destination"
   ]
  },
  {
   "cell_type": "code",
   "execution_count": 20,
   "metadata": {},
   "outputs": [],
   "source": [
    "s=pd.read_csv('./searches_sample.csv.bz2', sep='^', usecols=['Date', 'Destination'])\n",
    "s=s.dropna()\n"
   ]
  },
  {
   "cell_type": "code",
   "execution_count": 21,
   "metadata": {},
   "outputs": [
    {
     "data": {
      "text/html": [
       "<div>\n",
       "<style scoped>\n",
       "    .dataframe tbody tr th:only-of-type {\n",
       "        vertical-align: middle;\n",
       "    }\n",
       "\n",
       "    .dataframe tbody tr th {\n",
       "        vertical-align: top;\n",
       "    }\n",
       "\n",
       "    .dataframe thead th {\n",
       "        text-align: right;\n",
       "    }\n",
       "</style>\n",
       "<table border=\"1\" class=\"dataframe\">\n",
       "  <thead>\n",
       "    <tr style=\"text-align: right;\">\n",
       "      <th></th>\n",
       "      <th>Date</th>\n",
       "      <th>Destination</th>\n",
       "    </tr>\n",
       "  </thead>\n",
       "  <tbody>\n",
       "    <tr>\n",
       "      <th>4</th>\n",
       "      <td>2013-01-01</td>\n",
       "      <td>MAD</td>\n",
       "    </tr>\n",
       "    <tr>\n",
       "      <th>93</th>\n",
       "      <td>2013-01-01</td>\n",
       "      <td>AGP</td>\n",
       "    </tr>\n",
       "    <tr>\n",
       "      <th>113</th>\n",
       "      <td>2013-01-01</td>\n",
       "      <td>BCN</td>\n",
       "    </tr>\n",
       "    <tr>\n",
       "      <th>147</th>\n",
       "      <td>2013-01-01</td>\n",
       "      <td>AGP</td>\n",
       "    </tr>\n",
       "    <tr>\n",
       "      <th>151</th>\n",
       "      <td>2013-01-01</td>\n",
       "      <td>MAD</td>\n",
       "    </tr>\n",
       "  </tbody>\n",
       "</table>\n",
       "</div>"
      ],
      "text/plain": [
       "           Date Destination\n",
       "4    2013-01-01         MAD\n",
       "93   2013-01-01         AGP\n",
       "113  2013-01-01         BCN\n",
       "147  2013-01-01         AGP\n",
       "151  2013-01-01         MAD"
      ]
     },
     "execution_count": 21,
     "metadata": {},
     "output_type": "execute_result"
    }
   ],
   "source": [
    "s[ (s['Destination']=='MAD') | (s['Destination']=='AGP') |(s['Destination']=='BCN')    ].head()"
   ]
  },
  {
   "cell_type": "code",
   "execution_count": 22,
   "metadata": {},
   "outputs": [
    {
     "data": {
      "text/html": [
       "<div>\n",
       "<style scoped>\n",
       "    .dataframe tbody tr th:only-of-type {\n",
       "        vertical-align: middle;\n",
       "    }\n",
       "\n",
       "    .dataframe tbody tr th {\n",
       "        vertical-align: top;\n",
       "    }\n",
       "\n",
       "    .dataframe thead th {\n",
       "        text-align: right;\n",
       "    }\n",
       "</style>\n",
       "<table border=\"1\" class=\"dataframe\">\n",
       "  <thead>\n",
       "    <tr style=\"text-align: right;\">\n",
       "      <th></th>\n",
       "      <th>Date</th>\n",
       "      <th>Destination</th>\n",
       "    </tr>\n",
       "  </thead>\n",
       "  <tbody>\n",
       "    <tr>\n",
       "      <th>4</th>\n",
       "      <td>2013-01-01</td>\n",
       "      <td>MAD</td>\n",
       "    </tr>\n",
       "    <tr>\n",
       "      <th>93</th>\n",
       "      <td>2013-01-01</td>\n",
       "      <td>AGP</td>\n",
       "    </tr>\n",
       "    <tr>\n",
       "      <th>113</th>\n",
       "      <td>2013-01-01</td>\n",
       "      <td>BCN</td>\n",
       "    </tr>\n",
       "    <tr>\n",
       "      <th>147</th>\n",
       "      <td>2013-01-01</td>\n",
       "      <td>AGP</td>\n",
       "    </tr>\n",
       "    <tr>\n",
       "      <th>151</th>\n",
       "      <td>2013-01-01</td>\n",
       "      <td>MAD</td>\n",
       "    </tr>\n",
       "  </tbody>\n",
       "</table>\n",
       "</div>"
      ],
      "text/plain": [
       "           Date Destination\n",
       "4    2013-01-01         MAD\n",
       "93   2013-01-01         AGP\n",
       "113  2013-01-01         BCN\n",
       "147  2013-01-01         AGP\n",
       "151  2013-01-01         MAD"
      ]
     },
     "execution_count": 22,
     "metadata": {},
     "output_type": "execute_result"
    }
   ],
   "source": [
    "s[ s['Destination'].isin(['MAD', 'AGP', 'BCN'])     ].head()"
   ]
  },
  {
   "cell_type": "code",
   "execution_count": null,
   "metadata": {},
   "outputs": [],
   "source": []
  },
  {
   "cell_type": "markdown",
   "metadata": {},
   "source": [
    "### 4.2.1) Adding new column with YYYY-MM info"
   ]
  },
  {
   "cell_type": "markdown",
   "metadata": {},
   "source": [
    "What do we have so far?"
   ]
  },
  {
   "cell_type": "code",
   "execution_count": 23,
   "metadata": {},
   "outputs": [],
   "source": [
    "s=pd.read_csv('./searches_sample.csv.bz2', sep='^', usecols=['Date', 'Destination'])\n",
    "s=s.dropna()\n",
    "s=s[ s['Destination'].isin(['MAD', 'AGP', 'BCN'])     ]"
   ]
  },
  {
   "cell_type": "code",
   "execution_count": 26,
   "metadata": {},
   "outputs": [
    {
     "name": "stdout",
     "output_type": "stream",
     "text": [
      "<class 'pandas.core.frame.DataFrame'>\n",
      "Int64Index: 335 entries, 4 to 9950\n",
      "Data columns (total 2 columns):\n",
      "Date           335 non-null object\n",
      "Destination    335 non-null object\n",
      "dtypes: object(2)\n",
      "memory usage: 7.9+ KB\n"
     ]
    }
   ],
   "source": [
    "s.info()"
   ]
  },
  {
   "cell_type": "markdown",
   "metadata": {},
   "source": [
    "we cannot use date function on 'date' column as it is string\n",
    "need to get month out of date... smth like year-month\n"
   ]
  },
  {
   "cell_type": "raw",
   "metadata": {
    "collapsed": true
   },
   "source": [
    "Options:\n",
    "    1)transofming string to date:\n",
    "        1a) parse_dates=['Date'] - in csv_read function\n",
    "        1b) pd.to_datetime  - function\n",
    "        \n",
    "        1ab->     and create new column with .month .year functions\n",
    "    \n",
    "    2) using string and obtainig yyyy-mm directly from it\n",
    "   \n",
    "    "
   ]
  },
  {
   "cell_type": "markdown",
   "metadata": {},
   "source": [
    "### 4.2.1.1a transofming string to date with parse_dates:"
   ]
  },
  {
   "cell_type": "code",
   "execution_count": 27,
   "metadata": {},
   "outputs": [],
   "source": [
    "s=pd.read_csv('./searches_sample.csv.bz2', sep='^', usecols=['Date', 'Destination'], parse_dates=['Date'])\n",
    "s=s.dropna()\n",
    "s=s[ s['Destination'].isin(['MAD', 'AGP', 'BCN'])     ]"
   ]
  },
  {
   "cell_type": "code",
   "execution_count": 28,
   "metadata": {},
   "outputs": [
    {
     "name": "stdout",
     "output_type": "stream",
     "text": [
      "<class 'pandas.core.frame.DataFrame'>\n",
      "Int64Index: 335 entries, 4 to 9950\n",
      "Data columns (total 2 columns):\n",
      "Date           335 non-null datetime64[ns]\n",
      "Destination    335 non-null object\n",
      "dtypes: datetime64[ns](1), object(1)\n",
      "memory usage: 7.9+ KB\n"
     ]
    }
   ],
   "source": [
    "s.info()"
   ]
  },
  {
   "cell_type": "code",
   "execution_count": 32,
   "metadata": {},
   "outputs": [
    {
     "data": {
      "text/plain": [
       "1"
      ]
     },
     "execution_count": 32,
     "metadata": {},
     "output_type": "execute_result"
    }
   ],
   "source": [
    "s['Date'].iloc[0].month"
   ]
  },
  {
   "cell_type": "markdown",
   "metadata": {},
   "source": [
    "### 4.2.1.1b transofming string to date with pandas to_datetime():"
   ]
  },
  {
   "cell_type": "code",
   "execution_count": 35,
   "metadata": {},
   "outputs": [],
   "source": [
    "s=pd.read_csv('./searches_sample.csv.bz2', sep='^', usecols=['Date', 'Destination'])\n",
    "s=s.dropna()\n",
    "s=s[ s['Destination'].isin(['MAD', 'AGP', 'BCN'])    ]"
   ]
  },
  {
   "cell_type": "code",
   "execution_count": 36,
   "metadata": {},
   "outputs": [
    {
     "data": {
      "text/plain": [
       "Timestamp('2013-01-01 00:00:00')"
      ]
     },
     "execution_count": 36,
     "metadata": {},
     "output_type": "execute_result"
    }
   ],
   "source": [
    "pd.to_datetime(s['Date'].iloc[0])"
   ]
  },
  {
   "cell_type": "code",
   "execution_count": 37,
   "metadata": {},
   "outputs": [],
   "source": [
    "s['Date2']=pd.to_datetime(s['Date'])"
   ]
  },
  {
   "cell_type": "code",
   "execution_count": 38,
   "metadata": {},
   "outputs": [
    {
     "data": {
      "text/html": [
       "<div>\n",
       "<style scoped>\n",
       "    .dataframe tbody tr th:only-of-type {\n",
       "        vertical-align: middle;\n",
       "    }\n",
       "\n",
       "    .dataframe tbody tr th {\n",
       "        vertical-align: top;\n",
       "    }\n",
       "\n",
       "    .dataframe thead th {\n",
       "        text-align: right;\n",
       "    }\n",
       "</style>\n",
       "<table border=\"1\" class=\"dataframe\">\n",
       "  <thead>\n",
       "    <tr style=\"text-align: right;\">\n",
       "      <th></th>\n",
       "      <th>Date</th>\n",
       "      <th>Destination</th>\n",
       "      <th>Date2</th>\n",
       "    </tr>\n",
       "  </thead>\n",
       "  <tbody>\n",
       "    <tr>\n",
       "      <th>4</th>\n",
       "      <td>2013-01-01</td>\n",
       "      <td>MAD</td>\n",
       "      <td>2013-01-01</td>\n",
       "    </tr>\n",
       "    <tr>\n",
       "      <th>93</th>\n",
       "      <td>2013-01-01</td>\n",
       "      <td>AGP</td>\n",
       "      <td>2013-01-01</td>\n",
       "    </tr>\n",
       "    <tr>\n",
       "      <th>113</th>\n",
       "      <td>2013-01-01</td>\n",
       "      <td>BCN</td>\n",
       "      <td>2013-01-01</td>\n",
       "    </tr>\n",
       "    <tr>\n",
       "      <th>147</th>\n",
       "      <td>2013-01-01</td>\n",
       "      <td>AGP</td>\n",
       "      <td>2013-01-01</td>\n",
       "    </tr>\n",
       "    <tr>\n",
       "      <th>151</th>\n",
       "      <td>2013-01-01</td>\n",
       "      <td>MAD</td>\n",
       "      <td>2013-01-01</td>\n",
       "    </tr>\n",
       "  </tbody>\n",
       "</table>\n",
       "</div>"
      ],
      "text/plain": [
       "           Date Destination      Date2\n",
       "4    2013-01-01         MAD 2013-01-01\n",
       "93   2013-01-01         AGP 2013-01-01\n",
       "113  2013-01-01         BCN 2013-01-01\n",
       "147  2013-01-01         AGP 2013-01-01\n",
       "151  2013-01-01         MAD 2013-01-01"
      ]
     },
     "execution_count": 38,
     "metadata": {},
     "output_type": "execute_result"
    }
   ],
   "source": [
    "s.head()"
   ]
  },
  {
   "cell_type": "code",
   "execution_count": 39,
   "metadata": {},
   "outputs": [
    {
     "name": "stdout",
     "output_type": "stream",
     "text": [
      "<class 'pandas.core.frame.DataFrame'>\n",
      "Int64Index: 335 entries, 4 to 9950\n",
      "Data columns (total 3 columns):\n",
      "Date           335 non-null object\n",
      "Destination    335 non-null object\n",
      "Date2          335 non-null datetime64[ns]\n",
      "dtypes: datetime64[ns](1), object(2)\n",
      "memory usage: 10.5+ KB\n"
     ]
    }
   ],
   "source": [
    "s.info()"
   ]
  },
  {
   "cell_type": "code",
   "execution_count": null,
   "metadata": {
    "collapsed": true
   },
   "outputs": [],
   "source": []
  },
  {
   "cell_type": "markdown",
   "metadata": {},
   "source": [
    "### 4.2.1.2 using string and obtainig yyyy-mm directly from it"
   ]
  },
  {
   "cell_type": "code",
   "execution_count": 40,
   "metadata": {},
   "outputs": [],
   "source": [
    "s=pd.read_csv('./searches_sample.csv.bz2', sep='^', usecols=['Date', 'Destination'])\n",
    "s=s.dropna()\n",
    "s=s[ s['Destination'].isin(['MAD', 'AGP', 'BCN'])    ]\n"
   ]
  },
  {
   "cell_type": "code",
   "execution_count": 45,
   "metadata": {},
   "outputs": [],
   "source": [
    "s['Year-Month']=s['Date'].str[0:7]"
   ]
  },
  {
   "cell_type": "code",
   "execution_count": 46,
   "metadata": {},
   "outputs": [
    {
     "data": {
      "text/html": [
       "<div>\n",
       "<style scoped>\n",
       "    .dataframe tbody tr th:only-of-type {\n",
       "        vertical-align: middle;\n",
       "    }\n",
       "\n",
       "    .dataframe tbody tr th {\n",
       "        vertical-align: top;\n",
       "    }\n",
       "\n",
       "    .dataframe thead th {\n",
       "        text-align: right;\n",
       "    }\n",
       "</style>\n",
       "<table border=\"1\" class=\"dataframe\">\n",
       "  <thead>\n",
       "    <tr style=\"text-align: right;\">\n",
       "      <th></th>\n",
       "      <th>Date</th>\n",
       "      <th>Destination</th>\n",
       "      <th>Year-Month</th>\n",
       "    </tr>\n",
       "  </thead>\n",
       "  <tbody>\n",
       "    <tr>\n",
       "      <th>4</th>\n",
       "      <td>2013-01-01</td>\n",
       "      <td>MAD</td>\n",
       "      <td>2013-01</td>\n",
       "    </tr>\n",
       "    <tr>\n",
       "      <th>93</th>\n",
       "      <td>2013-01-01</td>\n",
       "      <td>AGP</td>\n",
       "      <td>2013-01</td>\n",
       "    </tr>\n",
       "    <tr>\n",
       "      <th>113</th>\n",
       "      <td>2013-01-01</td>\n",
       "      <td>BCN</td>\n",
       "      <td>2013-01</td>\n",
       "    </tr>\n",
       "    <tr>\n",
       "      <th>147</th>\n",
       "      <td>2013-01-01</td>\n",
       "      <td>AGP</td>\n",
       "      <td>2013-01</td>\n",
       "    </tr>\n",
       "    <tr>\n",
       "      <th>151</th>\n",
       "      <td>2013-01-01</td>\n",
       "      <td>MAD</td>\n",
       "      <td>2013-01</td>\n",
       "    </tr>\n",
       "  </tbody>\n",
       "</table>\n",
       "</div>"
      ],
      "text/plain": [
       "           Date Destination Year-Month\n",
       "4    2013-01-01         MAD    2013-01\n",
       "93   2013-01-01         AGP    2013-01\n",
       "113  2013-01-01         BCN    2013-01\n",
       "147  2013-01-01         AGP    2013-01\n",
       "151  2013-01-01         MAD    2013-01"
      ]
     },
     "execution_count": 46,
     "metadata": {},
     "output_type": "execute_result"
    }
   ],
   "source": [
    "s.head()"
   ]
  },
  {
   "cell_type": "code",
   "execution_count": 47,
   "metadata": {},
   "outputs": [],
   "source": [
    "del s['Date']"
   ]
  },
  {
   "cell_type": "code",
   "execution_count": 48,
   "metadata": {},
   "outputs": [
    {
     "data": {
      "text/html": [
       "<div>\n",
       "<style scoped>\n",
       "    .dataframe tbody tr th:only-of-type {\n",
       "        vertical-align: middle;\n",
       "    }\n",
       "\n",
       "    .dataframe tbody tr th {\n",
       "        vertical-align: top;\n",
       "    }\n",
       "\n",
       "    .dataframe thead th {\n",
       "        text-align: right;\n",
       "    }\n",
       "</style>\n",
       "<table border=\"1\" class=\"dataframe\">\n",
       "  <thead>\n",
       "    <tr style=\"text-align: right;\">\n",
       "      <th></th>\n",
       "      <th>Destination</th>\n",
       "      <th>Year-Month</th>\n",
       "    </tr>\n",
       "  </thead>\n",
       "  <tbody>\n",
       "    <tr>\n",
       "      <th>4</th>\n",
       "      <td>MAD</td>\n",
       "      <td>2013-01</td>\n",
       "    </tr>\n",
       "    <tr>\n",
       "      <th>93</th>\n",
       "      <td>AGP</td>\n",
       "      <td>2013-01</td>\n",
       "    </tr>\n",
       "    <tr>\n",
       "      <th>113</th>\n",
       "      <td>BCN</td>\n",
       "      <td>2013-01</td>\n",
       "    </tr>\n",
       "    <tr>\n",
       "      <th>147</th>\n",
       "      <td>AGP</td>\n",
       "      <td>2013-01</td>\n",
       "    </tr>\n",
       "    <tr>\n",
       "      <th>151</th>\n",
       "      <td>MAD</td>\n",
       "      <td>2013-01</td>\n",
       "    </tr>\n",
       "  </tbody>\n",
       "</table>\n",
       "</div>"
      ],
      "text/plain": [
       "    Destination Year-Month\n",
       "4           MAD    2013-01\n",
       "93          AGP    2013-01\n",
       "113         BCN    2013-01\n",
       "147         AGP    2013-01\n",
       "151         MAD    2013-01"
      ]
     },
     "execution_count": 48,
     "metadata": {},
     "output_type": "execute_result"
    }
   ],
   "source": [
    "s.head()"
   ]
  },
  {
   "cell_type": "markdown",
   "metadata": {},
   "source": [
    "### 4.2) group by arr_port and month\n"
   ]
  },
  {
   "cell_type": "markdown",
   "metadata": {},
   "source": [
    "What do we have so far?"
   ]
  },
  {
   "cell_type": "code",
   "execution_count": 69,
   "metadata": {},
   "outputs": [],
   "source": [
    "s=pd.read_csv('./searches_sample.csv.bz2', sep='^', usecols=['Date', 'Destination'])\n",
    "s=s.dropna()\n",
    "s=s[ s['Destination'].isin(['MAD', 'AGP', 'BCN'])    ]\n",
    "s['Year-Month']=s['Date'].str[0:7]\n",
    "del s['Date']"
   ]
  },
  {
   "cell_type": "code",
   "execution_count": 50,
   "metadata": {},
   "outputs": [
    {
     "data": {
      "text/html": [
       "<div>\n",
       "<style scoped>\n",
       "    .dataframe tbody tr th:only-of-type {\n",
       "        vertical-align: middle;\n",
       "    }\n",
       "\n",
       "    .dataframe tbody tr th {\n",
       "        vertical-align: top;\n",
       "    }\n",
       "\n",
       "    .dataframe thead th {\n",
       "        text-align: right;\n",
       "    }\n",
       "</style>\n",
       "<table border=\"1\" class=\"dataframe\">\n",
       "  <thead>\n",
       "    <tr style=\"text-align: right;\">\n",
       "      <th></th>\n",
       "      <th>Destination</th>\n",
       "      <th>Year-Month</th>\n",
       "    </tr>\n",
       "  </thead>\n",
       "  <tbody>\n",
       "    <tr>\n",
       "      <th>4</th>\n",
       "      <td>MAD</td>\n",
       "      <td>2013-01</td>\n",
       "    </tr>\n",
       "    <tr>\n",
       "      <th>93</th>\n",
       "      <td>AGP</td>\n",
       "      <td>2013-01</td>\n",
       "    </tr>\n",
       "    <tr>\n",
       "      <th>113</th>\n",
       "      <td>BCN</td>\n",
       "      <td>2013-01</td>\n",
       "    </tr>\n",
       "    <tr>\n",
       "      <th>147</th>\n",
       "      <td>AGP</td>\n",
       "      <td>2013-01</td>\n",
       "    </tr>\n",
       "    <tr>\n",
       "      <th>151</th>\n",
       "      <td>MAD</td>\n",
       "      <td>2013-01</td>\n",
       "    </tr>\n",
       "  </tbody>\n",
       "</table>\n",
       "</div>"
      ],
      "text/plain": [
       "    Destination Year-Month\n",
       "4           MAD    2013-01\n",
       "93          AGP    2013-01\n",
       "113         BCN    2013-01\n",
       "147         AGP    2013-01\n",
       "151         MAD    2013-01"
      ]
     },
     "execution_count": 50,
     "metadata": {},
     "output_type": "execute_result"
    }
   ],
   "source": [
    "s.head()"
   ]
  },
  {
   "cell_type": "code",
   "execution_count": null,
   "metadata": {},
   "outputs": [],
   "source": []
  },
  {
   "cell_type": "code",
   "execution_count": 71,
   "metadata": {},
   "outputs": [],
   "source": [
    "s_grouped=s.groupby(['Destination', 'Year-Month']).count()\n"
   ]
  },
  {
   "cell_type": "code",
   "execution_count": 72,
   "metadata": {},
   "outputs": [
    {
     "data": {
      "text/html": [
       "<div>\n",
       "<style scoped>\n",
       "    .dataframe tbody tr th:only-of-type {\n",
       "        vertical-align: middle;\n",
       "    }\n",
       "\n",
       "    .dataframe tbody tr th {\n",
       "        vertical-align: top;\n",
       "    }\n",
       "\n",
       "    .dataframe thead th {\n",
       "        text-align: right;\n",
       "    }\n",
       "</style>\n",
       "<table border=\"1\" class=\"dataframe\">\n",
       "  <thead>\n",
       "    <tr style=\"text-align: right;\">\n",
       "      <th></th>\n",
       "      <th></th>\n",
       "    </tr>\n",
       "    <tr>\n",
       "      <th>Destination</th>\n",
       "      <th>Year-Month</th>\n",
       "    </tr>\n",
       "  </thead>\n",
       "  <tbody>\n",
       "    <tr>\n",
       "      <th>AGP</th>\n",
       "      <th>2013-01</th>\n",
       "    </tr>\n",
       "    <tr>\n",
       "      <th>BCN</th>\n",
       "      <th>2013-01</th>\n",
       "    </tr>\n",
       "    <tr>\n",
       "      <th>MAD</th>\n",
       "      <th>2013-01</th>\n",
       "    </tr>\n",
       "  </tbody>\n",
       "</table>\n",
       "</div>"
      ],
      "text/plain": [
       "Empty DataFrame\n",
       "Columns: []\n",
       "Index: [(AGP, 2013-01), (BCN, 2013-01), (MAD, 2013-01)]"
      ]
     },
     "execution_count": 72,
     "metadata": {},
     "output_type": "execute_result"
    }
   ],
   "source": [
    "s_grouped"
   ]
  },
  {
   "cell_type": "markdown",
   "metadata": {},
   "source": [
    "To get the number of elements of each group we have to use size() as we dont have a column in which we could do count"
   ]
  },
  {
   "cell_type": "code",
   "execution_count": 59,
   "metadata": {},
   "outputs": [
    {
     "data": {
      "text/html": [
       "<div>\n",
       "<style scoped>\n",
       "    .dataframe tbody tr th:only-of-type {\n",
       "        vertical-align: middle;\n",
       "    }\n",
       "\n",
       "    .dataframe tbody tr th {\n",
       "        vertical-align: top;\n",
       "    }\n",
       "\n",
       "    .dataframe thead th {\n",
       "        text-align: right;\n",
       "    }\n",
       "</style>\n",
       "<table border=\"1\" class=\"dataframe\">\n",
       "  <thead>\n",
       "    <tr style=\"text-align: right;\">\n",
       "      <th></th>\n",
       "      <th>Destination</th>\n",
       "      <th>Year-Month</th>\n",
       "      <th>0</th>\n",
       "    </tr>\n",
       "  </thead>\n",
       "  <tbody>\n",
       "    <tr>\n",
       "      <th>0</th>\n",
       "      <td>AGP</td>\n",
       "      <td>2013-01</td>\n",
       "      <td>48</td>\n",
       "    </tr>\n",
       "    <tr>\n",
       "      <th>1</th>\n",
       "      <td>BCN</td>\n",
       "      <td>2013-01</td>\n",
       "      <td>162</td>\n",
       "    </tr>\n",
       "    <tr>\n",
       "      <th>2</th>\n",
       "      <td>MAD</td>\n",
       "      <td>2013-01</td>\n",
       "      <td>125</td>\n",
       "    </tr>\n",
       "  </tbody>\n",
       "</table>\n",
       "</div>"
      ],
      "text/plain": [
       "  Destination Year-Month    0\n",
       "0         AGP    2013-01   48\n",
       "1         BCN    2013-01  162\n",
       "2         MAD    2013-01  125"
      ]
     },
     "execution_count": 59,
     "metadata": {},
     "output_type": "execute_result"
    }
   ],
   "source": [
    "s_grouped.size().reset_index()"
   ]
  },
  {
   "cell_type": "markdown",
   "metadata": {
    "collapsed": true
   },
   "source": [
    "If we add a column with filled with 1 we can use count"
   ]
  },
  {
   "cell_type": "code",
   "execution_count": 60,
   "metadata": {},
   "outputs": [],
   "source": [
    "s=pd.read_csv('./searches_sample.csv.bz2', sep='^', usecols=['Date', 'Destination'])\n",
    "s=s.dropna()\n",
    "s=s[ s['Destination'].isin(['MAD', 'AGP', 'BCN'])    ]\n",
    "s['Year-Month']=s['Date'].str[0:7]\n",
    "del s['Date']\n",
    "s['Searches']=1"
   ]
  },
  {
   "cell_type": "code",
   "execution_count": 62,
   "metadata": {},
   "outputs": [
    {
     "data": {
      "text/html": [
       "<div>\n",
       "<style scoped>\n",
       "    .dataframe tbody tr th:only-of-type {\n",
       "        vertical-align: middle;\n",
       "    }\n",
       "\n",
       "    .dataframe tbody tr th {\n",
       "        vertical-align: top;\n",
       "    }\n",
       "\n",
       "    .dataframe thead th {\n",
       "        text-align: right;\n",
       "    }\n",
       "</style>\n",
       "<table border=\"1\" class=\"dataframe\">\n",
       "  <thead>\n",
       "    <tr style=\"text-align: right;\">\n",
       "      <th></th>\n",
       "      <th>Destination</th>\n",
       "      <th>Year-Month</th>\n",
       "      <th>Searches</th>\n",
       "    </tr>\n",
       "  </thead>\n",
       "  <tbody>\n",
       "    <tr>\n",
       "      <th>4</th>\n",
       "      <td>MAD</td>\n",
       "      <td>2013-01</td>\n",
       "      <td>1</td>\n",
       "    </tr>\n",
       "    <tr>\n",
       "      <th>93</th>\n",
       "      <td>AGP</td>\n",
       "      <td>2013-01</td>\n",
       "      <td>1</td>\n",
       "    </tr>\n",
       "    <tr>\n",
       "      <th>113</th>\n",
       "      <td>BCN</td>\n",
       "      <td>2013-01</td>\n",
       "      <td>1</td>\n",
       "    </tr>\n",
       "    <tr>\n",
       "      <th>147</th>\n",
       "      <td>AGP</td>\n",
       "      <td>2013-01</td>\n",
       "      <td>1</td>\n",
       "    </tr>\n",
       "    <tr>\n",
       "      <th>151</th>\n",
       "      <td>MAD</td>\n",
       "      <td>2013-01</td>\n",
       "      <td>1</td>\n",
       "    </tr>\n",
       "  </tbody>\n",
       "</table>\n",
       "</div>"
      ],
      "text/plain": [
       "    Destination Year-Month  Searches\n",
       "4           MAD    2013-01         1\n",
       "93          AGP    2013-01         1\n",
       "113         BCN    2013-01         1\n",
       "147         AGP    2013-01         1\n",
       "151         MAD    2013-01         1"
      ]
     },
     "execution_count": 62,
     "metadata": {},
     "output_type": "execute_result"
    }
   ],
   "source": [
    "s.head()"
   ]
  },
  {
   "cell_type": "code",
   "execution_count": 63,
   "metadata": {},
   "outputs": [],
   "source": [
    "s_grouped=s.groupby(['Destination', 'Year-Month'])"
   ]
  },
  {
   "cell_type": "code",
   "execution_count": 65,
   "metadata": {},
   "outputs": [
    {
     "data": {
      "text/html": [
       "<div>\n",
       "<style scoped>\n",
       "    .dataframe tbody tr th:only-of-type {\n",
       "        vertical-align: middle;\n",
       "    }\n",
       "\n",
       "    .dataframe tbody tr th {\n",
       "        vertical-align: top;\n",
       "    }\n",
       "\n",
       "    .dataframe thead th {\n",
       "        text-align: right;\n",
       "    }\n",
       "</style>\n",
       "<table border=\"1\" class=\"dataframe\">\n",
       "  <thead>\n",
       "    <tr style=\"text-align: right;\">\n",
       "      <th></th>\n",
       "      <th></th>\n",
       "      <th>Searches</th>\n",
       "    </tr>\n",
       "    <tr>\n",
       "      <th>Destination</th>\n",
       "      <th>Year-Month</th>\n",
       "      <th></th>\n",
       "    </tr>\n",
       "  </thead>\n",
       "  <tbody>\n",
       "    <tr>\n",
       "      <th>AGP</th>\n",
       "      <th>2013-01</th>\n",
       "      <td>48</td>\n",
       "    </tr>\n",
       "    <tr>\n",
       "      <th>BCN</th>\n",
       "      <th>2013-01</th>\n",
       "      <td>162</td>\n",
       "    </tr>\n",
       "    <tr>\n",
       "      <th>MAD</th>\n",
       "      <th>2013-01</th>\n",
       "      <td>125</td>\n",
       "    </tr>\n",
       "  </tbody>\n",
       "</table>\n",
       "</div>"
      ],
      "text/plain": [
       "                        Searches\n",
       "Destination Year-Month          \n",
       "AGP         2013-01           48\n",
       "BCN         2013-01          162\n",
       "MAD         2013-01          125"
      ]
     },
     "execution_count": 65,
     "metadata": {},
     "output_type": "execute_result"
    }
   ],
   "source": [
    "s_grouped.count()"
   ]
  },
  {
   "cell_type": "code",
   "execution_count": null,
   "metadata": {},
   "outputs": [],
   "source": []
  },
  {
   "cell_type": "markdown",
   "metadata": {},
   "source": [
    "## 4.3 Plotting"
   ]
  },
  {
   "cell_type": "markdown",
   "metadata": {},
   "source": [
    "What do we have so far?"
   ]
  },
  {
   "cell_type": "code",
   "execution_count": 73,
   "metadata": {},
   "outputs": [],
   "source": [
    "#s=pd.read_csv('./searches_sample.csv.bz2', sep='^', usecols=['Date', 'Destination'])\n",
    "s=pd.read_csv('./searches.csv.bz2', sep='^', usecols=['Date', 'Destination'], nrows=100000)\n",
    "s=s.dropna()\n",
    "s=s[ s['Destination'].isin(['MAD', 'AGP', 'BCN'])    ]\n",
    "s['Year-Month']=s['Date'].str[0:7]\n",
    "del s['Date']\n",
    "s['Searches']=1\n",
    "s_grouped=s.groupby(['Destination', 'Year-Month'])\n",
    "s_grouped=s_grouped.count().reset_index()"
   ]
  },
  {
   "cell_type": "code",
   "execution_count": 74,
   "metadata": {},
   "outputs": [
    {
     "data": {
      "text/html": [
       "<div>\n",
       "<style scoped>\n",
       "    .dataframe tbody tr th:only-of-type {\n",
       "        vertical-align: middle;\n",
       "    }\n",
       "\n",
       "    .dataframe tbody tr th {\n",
       "        vertical-align: top;\n",
       "    }\n",
       "\n",
       "    .dataframe thead th {\n",
       "        text-align: right;\n",
       "    }\n",
       "</style>\n",
       "<table border=\"1\" class=\"dataframe\">\n",
       "  <thead>\n",
       "    <tr style=\"text-align: right;\">\n",
       "      <th></th>\n",
       "      <th>Destination</th>\n",
       "      <th>Year-Month</th>\n",
       "      <th>Searches</th>\n",
       "    </tr>\n",
       "  </thead>\n",
       "  <tbody>\n",
       "    <tr>\n",
       "      <th>0</th>\n",
       "      <td>AGP</td>\n",
       "      <td>2013-01</td>\n",
       "      <td>169</td>\n",
       "    </tr>\n",
       "    <tr>\n",
       "      <th>1</th>\n",
       "      <td>AGP</td>\n",
       "      <td>2013-02</td>\n",
       "      <td>147</td>\n",
       "    </tr>\n",
       "    <tr>\n",
       "      <th>2</th>\n",
       "      <td>AGP</td>\n",
       "      <td>2013-03</td>\n",
       "      <td>187</td>\n",
       "    </tr>\n",
       "    <tr>\n",
       "      <th>3</th>\n",
       "      <td>AGP</td>\n",
       "      <td>2013-04</td>\n",
       "      <td>31</td>\n",
       "    </tr>\n",
       "    <tr>\n",
       "      <th>4</th>\n",
       "      <td>BCN</td>\n",
       "      <td>2013-01</td>\n",
       "      <td>517</td>\n",
       "    </tr>\n",
       "  </tbody>\n",
       "</table>\n",
       "</div>"
      ],
      "text/plain": [
       "  Destination Year-Month  Searches\n",
       "0         AGP    2013-01       169\n",
       "1         AGP    2013-02       147\n",
       "2         AGP    2013-03       187\n",
       "3         AGP    2013-04        31\n",
       "4         BCN    2013-01       517"
      ]
     },
     "execution_count": 74,
     "metadata": {},
     "output_type": "execute_result"
    }
   ],
   "source": [
    "s_grouped.head()"
   ]
  },
  {
   "cell_type": "code",
   "execution_count": 75,
   "metadata": {},
   "outputs": [],
   "source": [
    "#A=s_grouped.pivot(x, lines_in_graph ,y)\n",
    "A=s_grouped.pivot(\"Year-Month\", \"Destination\",\"Searches\")"
   ]
  },
  {
   "cell_type": "code",
   "execution_count": 78,
   "metadata": {},
   "outputs": [
    {
     "name": "stdout",
     "output_type": "stream",
     "text": [
      "Destination  AGP  BCN  MAD\n",
      "Year-Month                \n",
      "2013-01      169  517  425\n",
      "2013-02      147  497  400\n",
      "2013-03      187  536  433\n",
      "2013-04       31  174  147\n"
     ]
    }
   ],
   "source": [
    "print(A)"
   ]
  },
  {
   "cell_type": "code",
   "execution_count": 77,
   "metadata": {},
   "outputs": [
    {
     "data": {
      "text/plain": [
       "<matplotlib.axes._subplots.AxesSubplot at 0x7f448cc2c5c0>"
      ]
     },
     "execution_count": 77,
     "metadata": {},
     "output_type": "execute_result"
    },
    {
     "data": {
      "image/png": "[encoded data removed]",
      "text/plain": [
       "<Figure size 432x288 with 1 Axes>"
      ]
     },
     "metadata": {},
     "output_type": "display_data"
    }
   ],
   "source": [
    "A.plot()"
   ]
  },
  {
   "cell_type": "code",
   "execution_count": null,
   "metadata": {},
   "outputs": [],
   "source": []
  },
  {
   "cell_type": "markdown",
   "metadata": {},
   "source": [
    "## 4.3.b Step by Step plotting"
   ]
  },
  {
   "cell_type": "code",
   "execution_count": null,
   "metadata": {
    "collapsed": true
   },
   "outputs": [],
   "source": [
    "1) do list of monthly search values for each City\n",
    "2) make list of months"
   ]
  },
  {
   "cell_type": "code",
   "execution_count": null,
   "metadata": {
    "collapsed": true
   },
   "outputs": [],
   "source": [
    "s_grouped[s_grouped['Destination']=='AGP'].reset_index()['Searches']"
   ]
  },
  {
   "cell_type": "code",
   "execution_count": null,
   "metadata": {
    "collapsed": true
   },
   "outputs": [],
   "source": [
    "list(s_grouped[s_grouped['Destination']=='AGP'].reset_index()['Searches'])"
   ]
  },
  {
   "cell_type": "code",
   "execution_count": null,
   "metadata": {},
   "outputs": [],
   "source": [
    "agp=list(s_grouped[s_grouped['Destination']=='AGP'].reset_index()['Searches'])\n",
    "mad=list(s_grouped[s_grouped['Destination']=='MAD'].reset_index()['Searches'])\n",
    "bcn=list(s_grouped[s_grouped['Destination']=='BCN'].reset_index()['Searches'])"
   ]
  },
  {
   "cell_type": "code",
   "execution_count": null,
   "metadata": {},
   "outputs": [],
   "source": [
    "plotdate=list(s_grouped.reset_index()['Month'].unique())"
   ]
  },
  {
   "cell_type": "code",
   "execution_count": null,
   "metadata": {},
   "outputs": [],
   "source": [
    "import numpy as np\n",
    "fig=plt.figure() \n",
    "#fig.set_size_inches(12,6) \n",
    "\n",
    "ax = plt.gca() #get current axes\n",
    "#.add_subplot(1,1,1)  \n",
    "plt.xlabel(\"Date\")\n",
    "plt.ylabel(\"Searches\")\n",
    "#plt.xticks(range(len(plotdate)), plotdate,size='small')\n",
    "plt.xticks(range(len(plotdate)), plotdate)\n",
    "\n",
    "major_ticks = range(len(plotdate))                                             \n",
    "minor_ticks = np.arange(0, len(plotdate), 0.5) \n",
    "plt.gca().set_xticks(major_ticks)                                                       \n",
    "ax.set_xticks(minor_ticks, minor=True)   \n",
    "ax.grid(which='both') \n",
    "ax.grid(which='minor', alpha=0.5)                                                \n",
    "ax.grid(which='major', alpha=1)\n",
    "\n",
    "plt.plot(agp, label='AGP')\n",
    "plt.plot(bcn, label='BCN')\n",
    "plt.plot(mad, label='MAD')\n",
    "\n",
    "plt.grid(True)\n",
    "\n",
    "#plt.legend([\"Madrid\", \"Barcelona\", \"Malaga\"],loc='center left', frameon=True)\n",
    "plt.legend([\"AGP\",\"BCN\", \"MAD\"],loc='best', frameon=True, title=\"Destinations\")\n",
    "\n",
    "#plt.bar(range(len(y)), y, align='center')\n",
    "\n",
    "plt.title(\"Year 2013\")\n"
   ]
  },
  {
   "cell_type": "code",
   "execution_count": null,
   "metadata": {
    "collapsed": true
   },
   "outputs": [],
   "source": []
  },
  {
   "cell_type": "markdown",
   "metadata": {},
   "source": [
    "## 5) Adjust the code to work with Big data"
   ]
  },
  {
   "cell_type": "markdown",
   "metadata": {},
   "source": [
    "What do we have?"
   ]
  },
  {
   "cell_type": "code",
   "execution_count": 79,
   "metadata": {},
   "outputs": [
    {
     "data": {
      "text/plain": [
       "<matplotlib.axes._subplots.AxesSubplot at 0x7f448af0cba8>"
      ]
     },
     "execution_count": 79,
     "metadata": {},
     "output_type": "execute_result"
    },
    {
     "data": {
      "image/png": "[encoded data removed]",
      "text/plain": [
       "<Figure size 432x288 with 1 Axes>"
      ]
     },
     "metadata": {},
     "output_type": "display_data"
    }
   ],
   "source": [
    "#s=pd.read_csv('./searches_sample.csv.bz2', sep='^', usecols=['Date', 'Destination'])\n",
    "s=pd.read_csv('./searches.csv.bz2', sep='^', usecols=['Date', 'Destination'], nrows=100000)\n",
    "\n",
    "\n",
    "\n",
    "s=s.dropna()\n",
    "s=s[ s['Destination'].isin(['MAD', 'AGP', 'BCN'])    ]\n",
    "s['Year-Month']=s['Date'].str[0:7]\n",
    "del s['Date']\n",
    "s['Searches']=1\n",
    "s_grouped=s.groupby(['Destination', 'Year-Month'])\n",
    "s_grouped=s_grouped.count().reset_index()\n",
    "\n",
    "\n",
    "\n",
    "A=s_grouped.pivot(\"Year-Month\", \"Destination\",\"Searches\")\n",
    "A.plot()"
   ]
  },
  {
   "cell_type": "code",
   "execution_count": null,
   "metadata": {
    "collapsed": true
   },
   "outputs": [],
   "source": []
  },
  {
   "cell_type": "code",
   "execution_count": 88,
   "metadata": {},
   "outputs": [
    {
     "data": {
      "text/plain": [
       "<matplotlib.axes._subplots.AxesSubplot at 0x7f448a8a9dd8>"
      ]
     },
     "execution_count": 88,
     "metadata": {},
     "output_type": "execute_result"
    },
    {
     "data": {
      "image/png": "[encoded data removed]",
      "text/plain": [
       "<Figure size 432x288 with 1 Axes>"
      ]
     },
     "metadata": {},
     "output_type": "display_data"
    }
   ],
   "source": [
    "#s=pd.read_csv('./searches_sample.csv.bz2', sep='^', usecols=['Date', 'Destination'])\n",
    "sc=pd.read_csv('./searches.csv.bz2', sep='^', usecols=['Date', 'Destination'], nrows=100000, chunksize=10000)\n",
    "\n",
    "sum_all_chunks=pd.DataFrame()\n",
    "\n",
    "for i, chunk in enumerate(sc):   \n",
    "    s=chunk.dropna()\n",
    "    s=s[ s['Destination'].isin(['MAD', 'AGP', 'BCN'])    ]\n",
    "    s['Year-Month']=s['Date'].str[0:7]\n",
    "    del s['Date']\n",
    "    s['Searches']=1\n",
    "    s_grouped=s.groupby(['Destination', 'Year-Month'])\n",
    "    s_grouped=s_grouped.count().reset_index()\n",
    "    sum_all_chunks=sum_all_chunks.append(s_grouped)\n",
    "\n",
    "final=sum_all_chunks.groupby(['Destination', 'Year-Month']).sum().reset_index()\n",
    "A=final.pivot(\"Year-Month\", \"Destination\",\"Searches\")\n",
    "A.plot()"
   ]
  },
  {
   "cell_type": "code",
   "execution_count": 84,
   "metadata": {},
   "outputs": [
    {
     "data": {
      "text/plain": [
       "(36, 3)"
      ]
     },
     "execution_count": 84,
     "metadata": {},
     "output_type": "execute_result"
    }
   ],
   "source": [
    "sum_all_chunks.shape"
   ]
  },
  {
   "cell_type": "code",
   "execution_count": 85,
   "metadata": {
    "collapsed": true
   },
   "outputs": [
    {
     "data": {
      "text/html": [
       "<div>\n",
       "<style scoped>\n",
       "    .dataframe tbody tr th:only-of-type {\n",
       "        vertical-align: middle;\n",
       "    }\n",
       "\n",
       "    .dataframe tbody tr th {\n",
       "        vertical-align: top;\n",
       "    }\n",
       "\n",
       "    .dataframe thead th {\n",
       "        text-align: right;\n",
       "    }\n",
       "</style>\n",
       "<table border=\"1\" class=\"dataframe\">\n",
       "  <thead>\n",
       "    <tr style=\"text-align: right;\">\n",
       "      <th></th>\n",
       "      <th>Destination</th>\n",
       "      <th>Year-Month</th>\n",
       "      <th>Searches</th>\n",
       "    </tr>\n",
       "  </thead>\n",
       "  <tbody>\n",
       "    <tr>\n",
       "      <th>0</th>\n",
       "      <td>AGP</td>\n",
       "      <td>2013-01</td>\n",
       "      <td>48</td>\n",
       "    </tr>\n",
       "    <tr>\n",
       "      <th>1</th>\n",
       "      <td>BCN</td>\n",
       "      <td>2013-01</td>\n",
       "      <td>162</td>\n",
       "    </tr>\n",
       "    <tr>\n",
       "      <th>2</th>\n",
       "      <td>MAD</td>\n",
       "      <td>2013-01</td>\n",
       "      <td>125</td>\n",
       "    </tr>\n",
       "    <tr>\n",
       "      <th>0</th>\n",
       "      <td>AGP</td>\n",
       "      <td>2013-01</td>\n",
       "      <td>60</td>\n",
       "    </tr>\n",
       "    <tr>\n",
       "      <th>1</th>\n",
       "      <td>BCN</td>\n",
       "      <td>2013-01</td>\n",
       "      <td>156</td>\n",
       "    </tr>\n",
       "    <tr>\n",
       "      <th>2</th>\n",
       "      <td>MAD</td>\n",
       "      <td>2013-01</td>\n",
       "      <td>141</td>\n",
       "    </tr>\n",
       "    <tr>\n",
       "      <th>0</th>\n",
       "      <td>AGP</td>\n",
       "      <td>2013-01</td>\n",
       "      <td>56</td>\n",
       "    </tr>\n",
       "    <tr>\n",
       "      <th>1</th>\n",
       "      <td>BCN</td>\n",
       "      <td>2013-01</td>\n",
       "      <td>180</td>\n",
       "    </tr>\n",
       "    <tr>\n",
       "      <th>2</th>\n",
       "      <td>MAD</td>\n",
       "      <td>2013-01</td>\n",
       "      <td>148</td>\n",
       "    </tr>\n",
       "    <tr>\n",
       "      <th>0</th>\n",
       "      <td>AGP</td>\n",
       "      <td>2013-01</td>\n",
       "      <td>5</td>\n",
       "    </tr>\n",
       "    <tr>\n",
       "      <th>1</th>\n",
       "      <td>AGP</td>\n",
       "      <td>2013-02</td>\n",
       "      <td>50</td>\n",
       "    </tr>\n",
       "    <tr>\n",
       "      <th>2</th>\n",
       "      <td>BCN</td>\n",
       "      <td>2013-01</td>\n",
       "      <td>19</td>\n",
       "    </tr>\n",
       "    <tr>\n",
       "      <th>3</th>\n",
       "      <td>BCN</td>\n",
       "      <td>2013-02</td>\n",
       "      <td>179</td>\n",
       "    </tr>\n",
       "    <tr>\n",
       "      <th>4</th>\n",
       "      <td>MAD</td>\n",
       "      <td>2013-01</td>\n",
       "      <td>11</td>\n",
       "    </tr>\n",
       "    <tr>\n",
       "      <th>5</th>\n",
       "      <td>MAD</td>\n",
       "      <td>2013-02</td>\n",
       "      <td>129</td>\n",
       "    </tr>\n",
       "    <tr>\n",
       "      <th>0</th>\n",
       "      <td>AGP</td>\n",
       "      <td>2013-02</td>\n",
       "      <td>47</td>\n",
       "    </tr>\n",
       "    <tr>\n",
       "      <th>1</th>\n",
       "      <td>BCN</td>\n",
       "      <td>2013-02</td>\n",
       "      <td>178</td>\n",
       "    </tr>\n",
       "    <tr>\n",
       "      <th>2</th>\n",
       "      <td>MAD</td>\n",
       "      <td>2013-02</td>\n",
       "      <td>155</td>\n",
       "    </tr>\n",
       "    <tr>\n",
       "      <th>0</th>\n",
       "      <td>AGP</td>\n",
       "      <td>2013-02</td>\n",
       "      <td>50</td>\n",
       "    </tr>\n",
       "    <tr>\n",
       "      <th>1</th>\n",
       "      <td>AGP</td>\n",
       "      <td>2013-03</td>\n",
       "      <td>7</td>\n",
       "    </tr>\n",
       "    <tr>\n",
       "      <th>2</th>\n",
       "      <td>BCN</td>\n",
       "      <td>2013-02</td>\n",
       "      <td>140</td>\n",
       "    </tr>\n",
       "    <tr>\n",
       "      <th>3</th>\n",
       "      <td>BCN</td>\n",
       "      <td>2013-03</td>\n",
       "      <td>14</td>\n",
       "    </tr>\n",
       "    <tr>\n",
       "      <th>4</th>\n",
       "      <td>MAD</td>\n",
       "      <td>2013-02</td>\n",
       "      <td>116</td>\n",
       "    </tr>\n",
       "    <tr>\n",
       "      <th>5</th>\n",
       "      <td>MAD</td>\n",
       "      <td>2013-03</td>\n",
       "      <td>14</td>\n",
       "    </tr>\n",
       "    <tr>\n",
       "      <th>0</th>\n",
       "      <td>AGP</td>\n",
       "      <td>2013-03</td>\n",
       "      <td>57</td>\n",
       "    </tr>\n",
       "    <tr>\n",
       "      <th>1</th>\n",
       "      <td>BCN</td>\n",
       "      <td>2013-03</td>\n",
       "      <td>175</td>\n",
       "    </tr>\n",
       "    <tr>\n",
       "      <th>2</th>\n",
       "      <td>MAD</td>\n",
       "      <td>2013-03</td>\n",
       "      <td>141</td>\n",
       "    </tr>\n",
       "    <tr>\n",
       "      <th>0</th>\n",
       "      <td>AGP</td>\n",
       "      <td>2013-03</td>\n",
       "      <td>58</td>\n",
       "    </tr>\n",
       "    <tr>\n",
       "      <th>1</th>\n",
       "      <td>BCN</td>\n",
       "      <td>2013-03</td>\n",
       "      <td>198</td>\n",
       "    </tr>\n",
       "    <tr>\n",
       "      <th>2</th>\n",
       "      <td>MAD</td>\n",
       "      <td>2013-03</td>\n",
       "      <td>145</td>\n",
       "    </tr>\n",
       "    <tr>\n",
       "      <th>0</th>\n",
       "      <td>AGP</td>\n",
       "      <td>2013-03</td>\n",
       "      <td>65</td>\n",
       "    </tr>\n",
       "    <tr>\n",
       "      <th>1</th>\n",
       "      <td>BCN</td>\n",
       "      <td>2013-03</td>\n",
       "      <td>149</td>\n",
       "    </tr>\n",
       "    <tr>\n",
       "      <th>2</th>\n",
       "      <td>MAD</td>\n",
       "      <td>2013-03</td>\n",
       "      <td>133</td>\n",
       "    </tr>\n",
       "    <tr>\n",
       "      <th>0</th>\n",
       "      <td>AGP</td>\n",
       "      <td>2013-04</td>\n",
       "      <td>31</td>\n",
       "    </tr>\n",
       "    <tr>\n",
       "      <th>1</th>\n",
       "      <td>BCN</td>\n",
       "      <td>2013-04</td>\n",
       "      <td>174</td>\n",
       "    </tr>\n",
       "    <tr>\n",
       "      <th>2</th>\n",
       "      <td>MAD</td>\n",
       "      <td>2013-04</td>\n",
       "      <td>147</td>\n",
       "    </tr>\n",
       "  </tbody>\n",
       "</table>\n",
       "</div>"
      ],
      "text/plain": [
       "  Destination Year-Month  Searches\n",
       "0         AGP    2013-01        48\n",
       "1         BCN    2013-01       162\n",
       "2         MAD    2013-01       125\n",
       "0         AGP    2013-01        60\n",
       "1         BCN    2013-01       156\n",
       "2         MAD    2013-01       141\n",
       "0         AGP    2013-01        56\n",
       "1         BCN    2013-01       180\n",
       "2         MAD    2013-01       148\n",
       "0         AGP    2013-01         5\n",
       "1         AGP    2013-02        50\n",
       "2         BCN    2013-01        19\n",
       "3         BCN    2013-02       179\n",
       "4         MAD    2013-01        11\n",
       "5         MAD    2013-02       129\n",
       "0         AGP    2013-02        47\n",
       "1         BCN    2013-02       178\n",
       "2         MAD    2013-02       155\n",
       "0         AGP    2013-02        50\n",
       "1         AGP    2013-03         7\n",
       "2         BCN    2013-02       140\n",
       "3         BCN    2013-03        14\n",
       "4         MAD    2013-02       116\n",
       "5         MAD    2013-03        14\n",
       "0         AGP    2013-03        57\n",
       "1         BCN    2013-03       175\n",
       "2         MAD    2013-03       141\n",
       "0         AGP    2013-03        58\n",
       "1         BCN    2013-03       198\n",
       "2         MAD    2013-03       145\n",
       "0         AGP    2013-03        65\n",
       "1         BCN    2013-03       149\n",
       "2         MAD    2013-03       133\n",
       "0         AGP    2013-04        31\n",
       "1         BCN    2013-04       174\n",
       "2         MAD    2013-04       147"
      ]
     },
     "execution_count": 85,
     "metadata": {},
     "output_type": "execute_result"
    }
   ],
   "source": [
    "sum_all_chunks"
   ]
  },
  {
   "cell_type": "code",
   "execution_count": 87,
   "metadata": {},
   "outputs": [
    {
     "data": {
      "text/html": [
       "<div>\n",
       "<style scoped>\n",
       "    .dataframe tbody tr th:only-of-type {\n",
       "        vertical-align: middle;\n",
       "    }\n",
       "\n",
       "    .dataframe tbody tr th {\n",
       "        vertical-align: top;\n",
       "    }\n",
       "\n",
       "    .dataframe thead th {\n",
       "        text-align: right;\n",
       "    }\n",
       "</style>\n",
       "<table border=\"1\" class=\"dataframe\">\n",
       "  <thead>\n",
       "    <tr style=\"text-align: right;\">\n",
       "      <th></th>\n",
       "      <th>Destination</th>\n",
       "      <th>Year-Month</th>\n",
       "      <th>Searches</th>\n",
       "    </tr>\n",
       "  </thead>\n",
       "  <tbody>\n",
       "    <tr>\n",
       "      <th>0</th>\n",
       "      <td>AGP</td>\n",
       "      <td>2013-01</td>\n",
       "      <td>169</td>\n",
       "    </tr>\n",
       "    <tr>\n",
       "      <th>1</th>\n",
       "      <td>AGP</td>\n",
       "      <td>2013-02</td>\n",
       "      <td>147</td>\n",
       "    </tr>\n",
       "    <tr>\n",
       "      <th>2</th>\n",
       "      <td>AGP</td>\n",
       "      <td>2013-03</td>\n",
       "      <td>187</td>\n",
       "    </tr>\n",
       "    <tr>\n",
       "      <th>3</th>\n",
       "      <td>AGP</td>\n",
       "      <td>2013-04</td>\n",
       "      <td>31</td>\n",
       "    </tr>\n",
       "    <tr>\n",
       "      <th>4</th>\n",
       "      <td>BCN</td>\n",
       "      <td>2013-01</td>\n",
       "      <td>517</td>\n",
       "    </tr>\n",
       "  </tbody>\n",
       "</table>\n",
       "</div>"
      ],
      "text/plain": [
       "  Destination Year-Month  Searches\n",
       "0         AGP    2013-01       169\n",
       "1         AGP    2013-02       147\n",
       "2         AGP    2013-03       187\n",
       "3         AGP    2013-04        31\n",
       "4         BCN    2013-01       517"
      ]
     },
     "execution_count": 87,
     "metadata": {},
     "output_type": "execute_result"
    }
   ],
   "source": [
    "final.head()"
   ]
  },
  {
   "cell_type": "code",
   "execution_count": 89,
   "metadata": {},
   "outputs": [],
   "source": [
    "sin_reset=sum_all_chunks.groupby(['Destination', 'Year-Month']).sum()"
   ]
  },
  {
   "cell_type": "code",
   "execution_count": 90,
   "metadata": {},
   "outputs": [
    {
     "data": {
      "text/plain": [
       "pandas.core.frame.DataFrame"
      ]
     },
     "execution_count": 90,
     "metadata": {},
     "output_type": "execute_result"
    }
   ],
   "source": [
    "type(sin_reset)"
   ]
  },
  {
   "cell_type": "code",
   "execution_count": 91,
   "metadata": {},
   "outputs": [
    {
     "data": {
      "text/plain": [
       "MultiIndex(levels=[['AGP', 'BCN', 'MAD'], ['2013-01', '2013-02', '2013-03', '2013-04']],\n",
       "           labels=[[0, 0, 0, 0, 1, 1, 1, 1, 2, 2, 2, 2], [0, 1, 2, 3, 0, 1, 2, 3, 0, 1, 2, 3]],\n",
       "           names=['Destination', 'Year-Month'])"
      ]
     },
     "execution_count": 91,
     "metadata": {},
     "output_type": "execute_result"
    }
   ],
   "source": [
    "sin_reset.index"
   ]
  },
  {
   "cell_type": "code",
   "execution_count": 92,
   "metadata": {},
   "outputs": [
    {
     "data": {
      "text/html": [
       "<div>\n",
       "<style scoped>\n",
       "    .dataframe tbody tr th:only-of-type {\n",
       "        vertical-align: middle;\n",
       "    }\n",
       "\n",
       "    .dataframe tbody tr th {\n",
       "        vertical-align: top;\n",
       "    }\n",
       "\n",
       "    .dataframe thead th {\n",
       "        text-align: right;\n",
       "    }\n",
       "</style>\n",
       "<table border=\"1\" class=\"dataframe\">\n",
       "  <thead>\n",
       "    <tr style=\"text-align: right;\">\n",
       "      <th></th>\n",
       "      <th></th>\n",
       "      <th>Searches</th>\n",
       "    </tr>\n",
       "    <tr>\n",
       "      <th>Destination</th>\n",
       "      <th>Year-Month</th>\n",
       "      <th></th>\n",
       "    </tr>\n",
       "  </thead>\n",
       "  <tbody>\n",
       "    <tr>\n",
       "      <th rowspan=\"4\" valign=\"top\">AGP</th>\n",
       "      <th>2013-01</th>\n",
       "      <td>169</td>\n",
       "    </tr>\n",
       "    <tr>\n",
       "      <th>2013-02</th>\n",
       "      <td>147</td>\n",
       "    </tr>\n",
       "    <tr>\n",
       "      <th>2013-03</th>\n",
       "      <td>187</td>\n",
       "    </tr>\n",
       "    <tr>\n",
       "      <th>2013-04</th>\n",
       "      <td>31</td>\n",
       "    </tr>\n",
       "    <tr>\n",
       "      <th>BCN</th>\n",
       "      <th>2013-01</th>\n",
       "      <td>517</td>\n",
       "    </tr>\n",
       "  </tbody>\n",
       "</table>\n",
       "</div>"
      ],
      "text/plain": [
       "                        Searches\n",
       "Destination Year-Month          \n",
       "AGP         2013-01          169\n",
       "            2013-02          147\n",
       "            2013-03          187\n",
       "            2013-04           31\n",
       "BCN         2013-01          517"
      ]
     },
     "execution_count": 92,
     "metadata": {},
     "output_type": "execute_result"
    }
   ],
   "source": [
    "sin_reset.head()"
   ]
  },
  {
   "cell_type": "markdown",
   "metadata": {},
   "source": [
    "Ready to go to big file"
   ]
  },
  {
   "cell_type": "code",
   "execution_count": 94,
   "metadata": {},
   "outputs": [
    {
     "name": "stdout",
     "output_type": "stream",
     "text": [
      "0\n",
      "1\n",
      "2\n",
      "3\n",
      "4\n",
      "5\n",
      "6\n",
      "7\n",
      "8\n",
      "9\n",
      "10\n",
      "11\n",
      "12\n",
      "13\n",
      "14\n",
      "15\n",
      "16\n",
      "17\n",
      "18\n",
      "19\n",
      "20\n",
      "21\n",
      "22\n",
      "23\n",
      "24\n",
      "25\n",
      "26\n",
      "27\n",
      "28\n",
      "29\n",
      "30\n",
      "31\n",
      "32\n",
      "33\n",
      "34\n",
      "35\n",
      "36\n",
      "37\n",
      "38\n",
      "39\n",
      "40\n",
      "41\n",
      "42\n",
      "43\n",
      "44\n",
      "45\n",
      "46\n",
      "47\n",
      "48\n",
      "49\n",
      "50\n",
      "51\n",
      "52\n",
      "53\n",
      "54\n",
      "55\n",
      "56\n",
      "57\n",
      "58\n",
      "59\n",
      "60\n",
      "61\n",
      "62\n",
      "63\n",
      "64\n",
      "65\n",
      "66\n",
      "67\n",
      "CPU times: user 5min 25s, sys: 1.87 s, total: 5min 27s\n",
      "Wall time: 5min 29s\n"
     ]
    },
    {
     "data": {
      "image/png": "[encoded data removed]",
      "text/plain": [
       "<Figure size 432x288 with 1 Axes>"
      ]
     },
     "metadata": {},
     "output_type": "display_data"
    }
   ],
   "source": [
    "%%time\n",
    "#s=pd.read_csv('./searches_sample.csv.bz2', sep='^', usecols=['Date', 'Destination'])\n",
    "sc=pd.read_csv('./searches.csv.bz2', sep='^', usecols=['Date', 'Destination'], chunksize=300000)\n",
    "\n",
    "sum_all_chunks=pd.DataFrame()\n",
    "\n",
    "for i, chunk in enumerate(sc):   \n",
    "    print(i)\n",
    "    s=chunk.dropna()\n",
    "    s=s[ s['Destination'].isin(['MAD', 'AGP', 'BCN'])    ]\n",
    "    s['Year-Month']=s['Date'].str[0:7]\n",
    "    del s['Date']\n",
    "    s['Searches']=1\n",
    "    s_grouped=s.groupby(['Destination', 'Year-Month'])\n",
    "    s_grouped=s_grouped.count().reset_index()\n",
    "    sum_all_chunks=sum_all_chunks.append(s_grouped)\n",
    "\n",
    "final=sum_all_chunks.groupby(['Destination', 'Year-Month']).sum().reset_index()\n",
    "A=final.pivot(\"Year-Month\", \"Destination\",\"Searches\")\n",
    "A.plot()"
   ]
  },
  {
   "cell_type": "code",
   "execution_count": 95,
   "metadata": {},
   "outputs": [
    {
     "name": "stdout",
     "output_type": "stream",
     "text": [
      "Destination    AGP    BCN    MAD\n",
      "Year-Month                      \n",
      "2013-01       9633  29469  24258\n",
      "2013-02       8379  28329  22800\n",
      "2013-03      10659  30552  24681\n",
      "2013-04       8265  31236  25251\n",
      "2013-05      10830  28728  26334\n",
      "2013-06       7923  26505  22800\n",
      "2013-07       8892  29241  22971\n",
      "2013-08       7866  27075  21831\n",
      "2013-09       8151  23427  21147\n",
      "2013-10       6499  20276  22294\n",
      "2013-11       6384  19824  20272\n",
      "2013-12       3696  15400  14504\n"
     ]
    }
   ],
   "source": [
    "print(A)"
   ]
  }
 ],
 "metadata": {
  "kernelspec": {
   "display_name": "Python 3",
   "language": "python",
   "name": "python3"
  },
  "language_info": {
   "codemirror_mode": {
    "name": "ipython",
    "version": 3
   },
   "file_extension": ".py",
   "mimetype": "text/x-python",
   "name": "python",
   "nbconvert_exporter": "python",
   "pygments_lexer": "ipython3",
   "version": "3.6.4"
  }
 },
 "nbformat": 4,
 "nbformat_minor": 1
}
