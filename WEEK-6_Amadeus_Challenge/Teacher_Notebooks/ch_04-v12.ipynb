{
 "cells": [
  {
   "cell_type": "markdown",
   "metadata": {},
   "source": [
    "## Match searches with bookings\n",
    "\n",
    "- For every search in the searches file, find out whether the search ended up in a booking or not (using the info in the bookings file). For instance, search and booking origin and destination should match. \n",
    "\n",
    "- For the bookings file, origin and destination are the columns dep_port and arr_port, respectively. \n",
    "\n",
    "- Generate a CSV file with the search data, and an additional field, containing 1 if the search ended up in a booking, and 0 otherwise.\n",
    "\n"
   ]
  },
  {
   "cell_type": "raw",
   "metadata": {},
   "source": [
    "1) Get familiar with data\n",
    "2) Prepare the data for processing\n",
    "\n",
    "3) Make action plan\n",
    "4) Develop the code that works with a sample\n",
    "\n",
    "5) Adjust the code to work with Big data\n",
    "6) Test big data approach on a sample\n",
    "\n",
    "7) Run program with big data"
   ]
  },
  {
   "cell_type": "markdown",
   "metadata": {},
   "source": [
    "## 2) Prepare the data for processing"
   ]
  },
  {
   "cell_type": "raw",
   "metadata": {},
   "source": [
    "We have never checked if the files have duplicated lines!!!"
   ]
  },
  {
   "cell_type": "code",
   "execution_count": 9,
   "metadata": {},
   "outputs": [],
   "source": [
    "import pandas as pd\n",
    "pd.set_option('display.max_columns', None)"
   ]
  },
  {
   "cell_type": "code",
   "execution_count": 2,
   "metadata": {},
   "outputs": [
    {
     "name": "stdout",
     "output_type": "stream",
     "text": [
      "/home/dsc/Data/challenge\n"
     ]
    }
   ],
   "source": [
    "cd ~/Data/challenge/"
   ]
  },
  {
   "cell_type": "code",
   "execution_count": 19,
   "metadata": {},
   "outputs": [],
   "source": [
    "b = pd.read_csv('bookings.csv.bz2',sep='^', nrows=1200000)"
   ]
  },
  {
   "cell_type": "code",
   "execution_count": 20,
   "metadata": {},
   "outputs": [
    {
     "data": {
      "text/plain": [
       "(1200000, 38)"
      ]
     },
     "execution_count": 20,
     "metadata": {},
     "output_type": "execute_result"
    }
   ],
   "source": [
    "b.shape"
   ]
  },
  {
   "cell_type": "code",
   "execution_count": 21,
   "metadata": {},
   "outputs": [
    {
     "data": {
      "text/plain": [
       "(1000000, 38)"
      ]
     },
     "execution_count": 21,
     "metadata": {},
     "output_type": "execute_result"
    }
   ],
   "source": [
    "b.drop_duplicates().shape"
   ]
  },
  {
   "cell_type": "code",
   "execution_count": 41,
   "metadata": {
    "collapsed": true
   },
   "outputs": [
    {
     "name": "stdout",
     "output_type": "stream",
     "text": [
      "0 300000\n",
      "1 600000\n",
      "2 900000\n",
      "3 1000000\n",
      "4 1000000\n",
      "5 1000000\n",
      "6 1000000\n",
      "7 1000000\n",
      "8 1000000\n",
      "9 1000000\n",
      "10 1000000\n",
      "11 1000000\n",
      "12 1000000\n",
      "13 1000000\n",
      "14 1000000\n",
      "15 1000000\n",
      "16 1299993\n",
      "17 1299993\n",
      "18 1299993\n",
      "19 1299993\n",
      "20 1299993\n",
      "21 1299993\n",
      "22 1299993\n",
      "23 1299993\n",
      "24 1299993\n",
      "25 1299993\n",
      "26 1299993\n",
      "27 1299993\n",
      "28 1299993\n",
      "29 1299993\n",
      "30 1299993\n",
      "31 1299993\n",
      "32 1299993\n",
      "33 1299993\n",
      "CPU times: user 13min 2s, sys: 1min 2s, total: 14min 5s\n",
      "Wall time: 14min 15s\n"
     ]
    }
   ],
   "source": [
    "%%time\n",
    "bc = pd.read_csv('bookings.csv.bz2',sep='^', chunksize=300000, low_memory=False)\n",
    "\n",
    "all_chunks=pd.DataFrame()\n",
    "for i, chunk in enumerate(bc):\n",
    "    all_chunks=all_chunks.append(chunk)\n",
    "    all_chunks=all_chunks.drop_duplicates()\n",
    "    print (i, len(all_chunks))\n"
   ]
  },
  {
   "cell_type": "code",
   "execution_count": 49,
   "metadata": {},
   "outputs": [],
   "source": [
    "all_chunks.to_csv('bookings_no_dup.csv', sep='^', index=False)"
   ]
  },
  {
   "cell_type": "code",
   "execution_count": 50,
   "metadata": {},
   "outputs": [
    {
     "name": "stdout",
     "output_type": "stream",
     "text": [
      "total 1099120\r\n",
      "-rwxr-x--- 1 dsc dsc 554970628 mar 13  2018 bookings.csv.bz2\r\n",
      "-rw-r--r-- 1 dsc dsc  72211641 ene 26 13:01 bookings_no_dup.csv.bz2\r\n",
      "-rw-r--r-- 1 dsc dsc   4232732 ene 25 17:53 bookings_sample.csv\r\n",
      "-rwxrwxrwx 1 dsc dsc    535893 ene 25 17:18 bookings_sample.csv.bz2\r\n",
      "-rwxr-x--- 1 dsc dsc 483188920 mar 13  2018 searches.csv.bz2\r\n",
      "-rw-r--r-- 1 dsc dsc  10013467 ene 26 12:22 searches_no_dup.csv.bz2\r\n",
      "-rwxrwxrwx 1 dsc dsc    244720 ene 25 17:19 searches_sample.csv.bz2\r\n",
      "-rw-r--r-- 1 dsc dsc     80140 ene 25 21:22 top_airports.csv\r\n"
     ]
    }
   ],
   "source": [
    "! bzip2 -f bookings_no_dup.csv\n",
    "!ls -l"
   ]
  },
  {
   "cell_type": "code",
   "execution_count": 3,
   "metadata": {
    "collapsed": true
   },
   "outputs": [
    {
     "name": "stdout",
     "output_type": "stream",
     "text": [
      "0 299999\n",
      "1 358999\n",
      "2 358999\n",
      "3 358999\n",
      "4 658992\n",
      "5 718002\n",
      "6 718002\n",
      "7 718002\n",
      "8 718002\n",
      "9 718002\n",
      "10 718002\n",
      "11 718002\n",
      "12 718002\n",
      "13 718002\n",
      "14 718002\n",
      "15 718002\n",
      "16 718002\n",
      "17 718002\n",
      "18 718002\n",
      "19 718002\n",
      "20 718002\n",
      "21 718002\n",
      "22 718002\n",
      "23 718002\n",
      "24 718002\n",
      "25 718002\n",
      "26 718002\n",
      "27 718002\n",
      "28 718002\n",
      "29 718002\n",
      "30 718002\n",
      "31 718002\n",
      "32 718002\n",
      "33 718002\n",
      "34 718002\n",
      "35 718002\n",
      "36 718002\n",
      "37 718002\n",
      "38 718002\n",
      "39 718002\n",
      "40 718002\n",
      "41 718002\n",
      "42 718002\n",
      "43 718002\n",
      "44 718002\n",
      "45 718002\n",
      "46 718002\n",
      "47 718002\n",
      "48 718002\n",
      "49 718002\n",
      "50 718002\n",
      "51 718002\n",
      "52 718002\n",
      "53 718002\n",
      "54 718002\n",
      "55 718002\n",
      "56 718002\n",
      "57 718002\n",
      "58 718002\n",
      "59 718002\n",
      "60 718002\n",
      "61 718002\n",
      "62 718002\n",
      "63 718002\n",
      "64 718002\n",
      "65 718002\n",
      "66 718002\n",
      "67 718003\n",
      "CPU times: user 23min 34s, sys: 1min 58s, total: 25min 32s\n",
      "Wall time: 25min 38s\n"
     ]
    }
   ],
   "source": [
    "%%time\n",
    "sc = pd.read_csv('searches.csv.bz2',sep='^', chunksize=300000, low_memory=False)\n",
    "\n",
    "all_chunks=pd.DataFrame()\n",
    "for i, chunk in enumerate(sc):\n",
    "    all_chunks=all_chunks.append(chunk)\n",
    "    all_chunks=all_chunks.drop_duplicates()\n",
    "    print (i, len(all_chunks))"
   ]
  },
  {
   "cell_type": "code",
   "execution_count": 4,
   "metadata": {},
   "outputs": [],
   "source": [
    "all_chunks.to_csv('searches_no_dup.csv', sep='^', index=False)"
   ]
  },
  {
   "cell_type": "code",
   "execution_count": 5,
   "metadata": {},
   "outputs": [
    {
     "name": "stdout",
     "output_type": "stream",
     "text": [
      "total 1183904\r\n",
      "-rwxr-x--- 1 dsc dsc 554970628 mar 13  2018 bookings.csv.bz2\r\n",
      "-rw-r--r-- 1 dsc dsc  72211641 ene 26 13:01 bookings_no_dup.csv.bz2\r\n",
      "-rw-r--r-- 1 dsc dsc   4232732 ene 25 17:53 bookings_sample.csv\r\n",
      "-rwxrwxrwx 1 dsc dsc    535893 ene 25 17:18 bookings_sample.csv.bz2\r\n",
      "-rwxr-x--- 1 dsc dsc 483188920 mar 13  2018 searches.csv.bz2\r\n",
      "-rw-r--r-- 1 dsc dsc  17112287 ene 28 10:28 searches_no_dup.csv.bz2\r\n",
      "-rwxrwxrwx 1 dsc dsc    244720 ene 25 17:19 searches_sample.csv.bz2\r\n",
      "-rw-r--r-- 1 dsc dsc  79716511 ene 26 13:42 search_with_booking.csv\r\n",
      "-rw-r--r-- 1 dsc dsc     80140 ene 25 21:22 top_airports.csv\r\n"
     ]
    }
   ],
   "source": [
    "! bzip2 -f searches_no_dup.csv\n",
    "!ls -l"
   ]
  },
  {
   "cell_type": "markdown",
   "metadata": {},
   "source": [
    "### Action Plan"
   ]
  },
  {
   "cell_type": "raw",
   "metadata": {},
   "source": [
    "Plan:\n",
    "bookings --> dep_port, arr_port, cre_date\n",
    "searches --> origin, destination, search_date\n",
    "\n",
    "0 -->  add index column to searches, drop nan\n",
    "1-> make sure dep_port & arr_port dont have spaces\n",
    "2-> make sure cre_date and search_date have the same format\n",
    "3-> add Booked column with 1 in bookings\n",
    "4-> group by dep_port, arr_port, cre_date and sum Booked\n",
    "5-> left join searches + bookings adding Booked column\n",
    "6-> change Nan to 0 and if >0 a 1\n",
    "7-> add column in the file\n",
    "\n"
   ]
  },
  {
   "cell_type": "code",
   "execution_count": 6,
   "metadata": {},
   "outputs": [],
   "source": [
    "b = pd.read_csv('bookings_no_dup.csv.bz2',sep='^', usecols=['dep_port', 'arr_port', 'cre_date           '])"
   ]
  },
  {
   "cell_type": "code",
   "execution_count": 7,
   "metadata": {},
   "outputs": [],
   "source": [
    "s=pd.read_csv('./searches_no_dup.csv.bz2', sep='^',usecols=['Destination', 'Origin', 'Date'])"
   ]
  },
  {
   "cell_type": "code",
   "execution_count": 8,
   "metadata": {},
   "outputs": [
    {
     "data": {
      "text/plain": [
       "((1299993, 3), (718003, 3))"
      ]
     },
     "execution_count": 8,
     "metadata": {},
     "output_type": "execute_result"
    }
   ],
   "source": [
    "b.shape, s.shape"
   ]
  },
  {
   "cell_type": "code",
   "execution_count": 9,
   "metadata": {},
   "outputs": [],
   "source": [
    "s.reset_index(inplace=True)"
   ]
  },
  {
   "cell_type": "code",
   "execution_count": 10,
   "metadata": {},
   "outputs": [
    {
     "data": {
      "text/html": [
       "<div>\n",
       "<style scoped>\n",
       "    .dataframe tbody tr th:only-of-type {\n",
       "        vertical-align: middle;\n",
       "    }\n",
       "\n",
       "    .dataframe tbody tr th {\n",
       "        vertical-align: top;\n",
       "    }\n",
       "\n",
       "    .dataframe thead th {\n",
       "        text-align: right;\n",
       "    }\n",
       "</style>\n",
       "<table border=\"1\" class=\"dataframe\">\n",
       "  <thead>\n",
       "    <tr style=\"text-align: right;\">\n",
       "      <th></th>\n",
       "      <th>index</th>\n",
       "      <th>Date</th>\n",
       "      <th>Origin</th>\n",
       "      <th>Destination</th>\n",
       "    </tr>\n",
       "  </thead>\n",
       "  <tbody>\n",
       "    <tr>\n",
       "      <th>0</th>\n",
       "      <td>0</td>\n",
       "      <td>2013-01-01</td>\n",
       "      <td>TXL</td>\n",
       "      <td>AUH</td>\n",
       "    </tr>\n",
       "    <tr>\n",
       "      <th>1</th>\n",
       "      <td>1</td>\n",
       "      <td>2013-01-01</td>\n",
       "      <td>ATH</td>\n",
       "      <td>MIL</td>\n",
       "    </tr>\n",
       "    <tr>\n",
       "      <th>2</th>\n",
       "      <td>2</td>\n",
       "      <td>2013-01-01</td>\n",
       "      <td>ICT</td>\n",
       "      <td>SFO</td>\n",
       "    </tr>\n",
       "    <tr>\n",
       "      <th>3</th>\n",
       "      <td>3</td>\n",
       "      <td>2013-01-01</td>\n",
       "      <td>RNB</td>\n",
       "      <td>ARN</td>\n",
       "    </tr>\n",
       "    <tr>\n",
       "      <th>4</th>\n",
       "      <td>4</td>\n",
       "      <td>2013-01-01</td>\n",
       "      <td>OSL</td>\n",
       "      <td>MAD</td>\n",
       "    </tr>\n",
       "  </tbody>\n",
       "</table>\n",
       "</div>"
      ],
      "text/plain": [
       "   index        Date Origin Destination\n",
       "0      0  2013-01-01    TXL         AUH\n",
       "1      1  2013-01-01    ATH         MIL\n",
       "2      2  2013-01-01    ICT         SFO\n",
       "3      3  2013-01-01    RNB         ARN\n",
       "4      4  2013-01-01    OSL         MAD"
      ]
     },
     "execution_count": 10,
     "metadata": {},
     "output_type": "execute_result"
    }
   ],
   "source": [
    "s.head()"
   ]
  },
  {
   "cell_type": "code",
   "execution_count": 11,
   "metadata": {},
   "outputs": [],
   "source": [
    "s.dropna(inplace=True)"
   ]
  },
  {
   "cell_type": "code",
   "execution_count": 13,
   "metadata": {},
   "outputs": [
    {
     "data": {
      "text/plain": [
       "(718002, 4)"
      ]
     },
     "execution_count": 13,
     "metadata": {},
     "output_type": "execute_result"
    }
   ],
   "source": [
    "s.shape"
   ]
  },
  {
   "cell_type": "markdown",
   "metadata": {},
   "source": [
    "we have lost 1 element!"
   ]
  },
  {
   "cell_type": "code",
   "execution_count": 17,
   "metadata": {},
   "outputs": [],
   "source": [
    "b.columns=b.columns.map(lambda x:x.strip())\n",
    "b['dep_port']=b['dep_port'].map(   lambda x:x.strip()   )\n",
    "b['arr_port']=b['arr_port'].map(   lambda x:x.strip()   )"
   ]
  },
  {
   "cell_type": "code",
   "execution_count": 18,
   "metadata": {},
   "outputs": [],
   "source": [
    "b['cre_date']=b['cre_date'].str[0:10]"
   ]
  },
  {
   "cell_type": "code",
   "execution_count": 19,
   "metadata": {},
   "outputs": [
    {
     "data": {
      "text/html": [
       "<div>\n",
       "<style scoped>\n",
       "    .dataframe tbody tr th:only-of-type {\n",
       "        vertical-align: middle;\n",
       "    }\n",
       "\n",
       "    .dataframe tbody tr th {\n",
       "        vertical-align: top;\n",
       "    }\n",
       "\n",
       "    .dataframe thead th {\n",
       "        text-align: right;\n",
       "    }\n",
       "</style>\n",
       "<table border=\"1\" class=\"dataframe\">\n",
       "  <thead>\n",
       "    <tr style=\"text-align: right;\">\n",
       "      <th></th>\n",
       "      <th>cre_date</th>\n",
       "      <th>dep_port</th>\n",
       "      <th>arr_port</th>\n",
       "    </tr>\n",
       "  </thead>\n",
       "  <tbody>\n",
       "    <tr>\n",
       "      <th>0</th>\n",
       "      <td>2013-02-22</td>\n",
       "      <td>ZRH</td>\n",
       "      <td>LHR</td>\n",
       "    </tr>\n",
       "    <tr>\n",
       "      <th>1</th>\n",
       "      <td>2013-03-26</td>\n",
       "      <td>SAL</td>\n",
       "      <td>CLT</td>\n",
       "    </tr>\n",
       "    <tr>\n",
       "      <th>2</th>\n",
       "      <td>2013-03-26</td>\n",
       "      <td>SAL</td>\n",
       "      <td>CLT</td>\n",
       "    </tr>\n",
       "    <tr>\n",
       "      <th>3</th>\n",
       "      <td>2013-03-26</td>\n",
       "      <td>AKL</td>\n",
       "      <td>SVO</td>\n",
       "    </tr>\n",
       "    <tr>\n",
       "      <th>4</th>\n",
       "      <td>2013-03-26</td>\n",
       "      <td>AKL</td>\n",
       "      <td>SVO</td>\n",
       "    </tr>\n",
       "  </tbody>\n",
       "</table>\n",
       "</div>"
      ],
      "text/plain": [
       "     cre_date dep_port arr_port\n",
       "0  2013-02-22      ZRH      LHR\n",
       "1  2013-03-26      SAL      CLT\n",
       "2  2013-03-26      SAL      CLT\n",
       "3  2013-03-26      AKL      SVO\n",
       "4  2013-03-26      AKL      SVO"
      ]
     },
     "execution_count": 19,
     "metadata": {},
     "output_type": "execute_result"
    }
   ],
   "source": [
    "b.head()"
   ]
  },
  {
   "cell_type": "markdown",
   "metadata": {},
   "source": [
    "what do we have so far?"
   ]
  },
  {
   "cell_type": "code",
   "execution_count": null,
   "metadata": {},
   "outputs": [],
   "source": []
  },
  {
   "cell_type": "code",
   "execution_count": null,
   "metadata": {},
   "outputs": [],
   "source": [
    "#0 -->  add index column to searches, drop nan\n",
    "#1-> make sure dep_port & arr_port dont have spaces\n",
    "#2-> make sure cre_date and search_date have the same format\n",
    "\n",
    "#--------- We are here\n",
    "\n",
    "#3-> add Booked column with 1 in bookings\n",
    "#4-> group by dep_port, arr_port, cre_date and sum Booked\n",
    "#5-> left join searches + bookings adding Booked column\n",
    "#6-> change Nan to 0 and if >0 a 1\n",
    "#7-> add column in the file\n",
    "\n",
    "\n",
    "\n",
    "b = pd.read_csv('bookings_no_dup.csv.bz2',sep='^', usecols=['dep_port', 'arr_port', 'cre_date           '])\n",
    "s=pd.read_csv('./searches_no_dup.csv.bz2', sep='^',usecols=['Destination', 'Origin', 'Date'])\n",
    "\n",
    "s.reset_index(inplace=True)\n",
    "s.dropna(inplace=True)\n",
    "\n",
    "b.columns=b.columns.map(lambda x:x.strip())\n",
    "b['dep_port']=b['dep_port'].map(   lambda x:x.strip()   )\n",
    "b['arr_port']=b['arr_port'].map(   lambda x:x.strip()   )\n",
    "b['cre_date']=b['cre_date'].str[0:10]"
   ]
  },
  {
   "cell_type": "code",
   "execution_count": 20,
   "metadata": {},
   "outputs": [],
   "source": [
    "b['Booked']=1"
   ]
  },
  {
   "cell_type": "code",
   "execution_count": 21,
   "metadata": {},
   "outputs": [],
   "source": [
    "b_gr=b.groupby(['dep_port', 'arr_port', 'cre_date']).sum().reset_index()"
   ]
  },
  {
   "cell_type": "code",
   "execution_count": 22,
   "metadata": {},
   "outputs": [
    {
     "data": {
      "text/html": [
       "<div>\n",
       "<style scoped>\n",
       "    .dataframe tbody tr th:only-of-type {\n",
       "        vertical-align: middle;\n",
       "    }\n",
       "\n",
       "    .dataframe tbody tr th {\n",
       "        vertical-align: top;\n",
       "    }\n",
       "\n",
       "    .dataframe thead th {\n",
       "        text-align: right;\n",
       "    }\n",
       "</style>\n",
       "<table border=\"1\" class=\"dataframe\">\n",
       "  <thead>\n",
       "    <tr style=\"text-align: right;\">\n",
       "      <th></th>\n",
       "      <th>dep_port</th>\n",
       "      <th>arr_port</th>\n",
       "      <th>cre_date</th>\n",
       "      <th>Booked</th>\n",
       "    </tr>\n",
       "  </thead>\n",
       "  <tbody>\n",
       "    <tr>\n",
       "      <th>0</th>\n",
       "      <td>AAB</td>\n",
       "      <td>ROV</td>\n",
       "      <td>2013-05-29</td>\n",
       "      <td>2</td>\n",
       "    </tr>\n",
       "    <tr>\n",
       "      <th>1</th>\n",
       "      <td>AAB</td>\n",
       "      <td>ROV</td>\n",
       "      <td>2013-08-24</td>\n",
       "      <td>2</td>\n",
       "    </tr>\n",
       "    <tr>\n",
       "      <th>2</th>\n",
       "      <td>AAE</td>\n",
       "      <td>ALG</td>\n",
       "      <td>2013-01-07</td>\n",
       "      <td>1</td>\n",
       "    </tr>\n",
       "    <tr>\n",
       "      <th>3</th>\n",
       "      <td>AAE</td>\n",
       "      <td>ALG</td>\n",
       "      <td>2013-01-08</td>\n",
       "      <td>4</td>\n",
       "    </tr>\n",
       "    <tr>\n",
       "      <th>4</th>\n",
       "      <td>AAE</td>\n",
       "      <td>ALG</td>\n",
       "      <td>2013-01-09</td>\n",
       "      <td>4</td>\n",
       "    </tr>\n",
       "  </tbody>\n",
       "</table>\n",
       "</div>"
      ],
      "text/plain": [
       "  dep_port arr_port    cre_date  Booked\n",
       "0      AAB      ROV  2013-05-29       2\n",
       "1      AAB      ROV  2013-08-24       2\n",
       "2      AAE      ALG  2013-01-07       1\n",
       "3      AAE      ALG  2013-01-08       4\n",
       "4      AAE      ALG  2013-01-09       4"
      ]
     },
     "execution_count": 22,
     "metadata": {},
     "output_type": "execute_result"
    }
   ],
   "source": [
    "b_gr.head()"
   ]
  },
  {
   "cell_type": "code",
   "execution_count": null,
   "metadata": {},
   "outputs": [],
   "source": [
    "#0 -->  add index column to searches, drop nan\n",
    "#1-> make sure dep_port & arr_port dont have spaces\n",
    "#2-> make sure cre_date and search_date have the same format\n",
    "#3-> add Booked column with 1 in bookings\n",
    "#4-> group by dep_port, arr_port, cre_date and sum Booked\n",
    "\n",
    "#------- we are here\n",
    "\n",
    "#5-> left join searches + bookings adding Booked column\n",
    "#6-> change Nan to 0 and if >0 a 1\n",
    "#7-> add column in the file\n",
    "\n",
    "\n",
    "\n",
    "b = pd.read_csv('bookings_no_dup.csv.bz2',sep='^', usecols=['dep_port', 'arr_port', 'cre_date           '])\n",
    "s=pd.read_csv('./searches_no_dup.csv.bz2', sep='^',usecols=['Destination', 'Origin', 'Date'])\n",
    "\n",
    "s.reset_index(inplace=True)\n",
    "s.dropna(inplace=True)\n",
    "\n",
    "b.columns=b.columns.map(lambda x:x.strip())\n",
    "b['dep_port']=b['dep_port'].map(   lambda x:x.strip()   )\n",
    "b['arr_port']=b['arr_port'].map(   lambda x:x.strip()   )\n",
    "b['cre_date']=b['cre_date'].str[0:10]\n",
    "b['Booked']=1\n",
    "b_gr=b.groupby(['dep_port', 'arr_port', 'cre_date']).sum().reset_index()"
   ]
  },
  {
   "cell_type": "code",
   "execution_count": 23,
   "metadata": {},
   "outputs": [],
   "source": [
    "s_b=s.merge(b_gr, how='left', left_on=['Destination', 'Origin', 'Date'], right_on=['arr_port', 'dep_port','cre_date'])"
   ]
  },
  {
   "cell_type": "code",
   "execution_count": 24,
   "metadata": {},
   "outputs": [
    {
     "data": {
      "text/html": [
       "<div>\n",
       "<style scoped>\n",
       "    .dataframe tbody tr th:only-of-type {\n",
       "        vertical-align: middle;\n",
       "    }\n",
       "\n",
       "    .dataframe tbody tr th {\n",
       "        vertical-align: top;\n",
       "    }\n",
       "\n",
       "    .dataframe thead th {\n",
       "        text-align: right;\n",
       "    }\n",
       "</style>\n",
       "<table border=\"1\" class=\"dataframe\">\n",
       "  <thead>\n",
       "    <tr style=\"text-align: right;\">\n",
       "      <th></th>\n",
       "      <th>index</th>\n",
       "      <th>Date</th>\n",
       "      <th>Origin</th>\n",
       "      <th>Destination</th>\n",
       "      <th>dep_port</th>\n",
       "      <th>arr_port</th>\n",
       "      <th>cre_date</th>\n",
       "      <th>Booked</th>\n",
       "    </tr>\n",
       "  </thead>\n",
       "  <tbody>\n",
       "    <tr>\n",
       "      <th>0</th>\n",
       "      <td>0</td>\n",
       "      <td>2013-01-01</td>\n",
       "      <td>TXL</td>\n",
       "      <td>AUH</td>\n",
       "      <td>NaN</td>\n",
       "      <td>NaN</td>\n",
       "      <td>NaN</td>\n",
       "      <td>NaN</td>\n",
       "    </tr>\n",
       "    <tr>\n",
       "      <th>1</th>\n",
       "      <td>1</td>\n",
       "      <td>2013-01-01</td>\n",
       "      <td>ATH</td>\n",
       "      <td>MIL</td>\n",
       "      <td>NaN</td>\n",
       "      <td>NaN</td>\n",
       "      <td>NaN</td>\n",
       "      <td>NaN</td>\n",
       "    </tr>\n",
       "    <tr>\n",
       "      <th>2</th>\n",
       "      <td>2</td>\n",
       "      <td>2013-01-01</td>\n",
       "      <td>ICT</td>\n",
       "      <td>SFO</td>\n",
       "      <td>NaN</td>\n",
       "      <td>NaN</td>\n",
       "      <td>NaN</td>\n",
       "      <td>NaN</td>\n",
       "    </tr>\n",
       "    <tr>\n",
       "      <th>3</th>\n",
       "      <td>3</td>\n",
       "      <td>2013-01-01</td>\n",
       "      <td>RNB</td>\n",
       "      <td>ARN</td>\n",
       "      <td>NaN</td>\n",
       "      <td>NaN</td>\n",
       "      <td>NaN</td>\n",
       "      <td>NaN</td>\n",
       "    </tr>\n",
       "    <tr>\n",
       "      <th>4</th>\n",
       "      <td>4</td>\n",
       "      <td>2013-01-01</td>\n",
       "      <td>OSL</td>\n",
       "      <td>MAD</td>\n",
       "      <td>NaN</td>\n",
       "      <td>NaN</td>\n",
       "      <td>NaN</td>\n",
       "      <td>NaN</td>\n",
       "    </tr>\n",
       "  </tbody>\n",
       "</table>\n",
       "</div>"
      ],
      "text/plain": [
       "   index        Date Origin Destination dep_port arr_port cre_date  Booked\n",
       "0      0  2013-01-01    TXL         AUH      NaN      NaN      NaN     NaN\n",
       "1      1  2013-01-01    ATH         MIL      NaN      NaN      NaN     NaN\n",
       "2      2  2013-01-01    ICT         SFO      NaN      NaN      NaN     NaN\n",
       "3      3  2013-01-01    RNB         ARN      NaN      NaN      NaN     NaN\n",
       "4      4  2013-01-01    OSL         MAD      NaN      NaN      NaN     NaN"
      ]
     },
     "execution_count": 24,
     "metadata": {},
     "output_type": "execute_result"
    }
   ],
   "source": [
    "s_b.head()"
   ]
  },
  {
   "cell_type": "code",
   "execution_count": 25,
   "metadata": {},
   "outputs": [],
   "source": [
    "s_b.drop(['arr_port', 'dep_port','cre_date'], axis=1, inplace=True)"
   ]
  },
  {
   "cell_type": "code",
   "execution_count": 26,
   "metadata": {},
   "outputs": [
    {
     "data": {
      "text/html": [
       "<div>\n",
       "<style scoped>\n",
       "    .dataframe tbody tr th:only-of-type {\n",
       "        vertical-align: middle;\n",
       "    }\n",
       "\n",
       "    .dataframe tbody tr th {\n",
       "        vertical-align: top;\n",
       "    }\n",
       "\n",
       "    .dataframe thead th {\n",
       "        text-align: right;\n",
       "    }\n",
       "</style>\n",
       "<table border=\"1\" class=\"dataframe\">\n",
       "  <thead>\n",
       "    <tr style=\"text-align: right;\">\n",
       "      <th></th>\n",
       "      <th>index</th>\n",
       "      <th>Date</th>\n",
       "      <th>Origin</th>\n",
       "      <th>Destination</th>\n",
       "      <th>Booked</th>\n",
       "    </tr>\n",
       "  </thead>\n",
       "  <tbody>\n",
       "    <tr>\n",
       "      <th>27</th>\n",
       "      <td>27</td>\n",
       "      <td>2013-01-01</td>\n",
       "      <td>RUH</td>\n",
       "      <td>JED</td>\n",
       "      <td>19.0</td>\n",
       "    </tr>\n",
       "    <tr>\n",
       "      <th>40</th>\n",
       "      <td>40</td>\n",
       "      <td>2013-01-01</td>\n",
       "      <td>DMM</td>\n",
       "      <td>MNL</td>\n",
       "      <td>5.0</td>\n",
       "    </tr>\n",
       "    <tr>\n",
       "      <th>59</th>\n",
       "      <td>59</td>\n",
       "      <td>2013-01-01</td>\n",
       "      <td>ATL</td>\n",
       "      <td>MIA</td>\n",
       "      <td>12.0</td>\n",
       "    </tr>\n",
       "    <tr>\n",
       "      <th>134</th>\n",
       "      <td>134</td>\n",
       "      <td>2013-01-01</td>\n",
       "      <td>MEL</td>\n",
       "      <td>SYD</td>\n",
       "      <td>12.0</td>\n",
       "    </tr>\n",
       "    <tr>\n",
       "      <th>172</th>\n",
       "      <td>172</td>\n",
       "      <td>2013-01-01</td>\n",
       "      <td>BOM</td>\n",
       "      <td>JED</td>\n",
       "      <td>4.0</td>\n",
       "    </tr>\n",
       "  </tbody>\n",
       "</table>\n",
       "</div>"
      ],
      "text/plain": [
       "     index        Date Origin Destination  Booked\n",
       "27      27  2013-01-01    RUH         JED    19.0\n",
       "40      40  2013-01-01    DMM         MNL     5.0\n",
       "59      59  2013-01-01    ATL         MIA    12.0\n",
       "134    134  2013-01-01    MEL         SYD    12.0\n",
       "172    172  2013-01-01    BOM         JED     4.0"
      ]
     },
     "execution_count": 26,
     "metadata": {},
     "output_type": "execute_result"
    }
   ],
   "source": [
    "s_b[ s_b['Booked']>0 ].head()"
   ]
  },
  {
   "cell_type": "code",
   "execution_count": 27,
   "metadata": {},
   "outputs": [],
   "source": [
    "s_b['Booked']=s_b['Booked'].map(lambda x: 1 if x>0 else 0)"
   ]
  },
  {
   "cell_type": "code",
   "execution_count": 28,
   "metadata": {},
   "outputs": [
    {
     "data": {
      "text/html": [
       "<div>\n",
       "<style scoped>\n",
       "    .dataframe tbody tr th:only-of-type {\n",
       "        vertical-align: middle;\n",
       "    }\n",
       "\n",
       "    .dataframe tbody tr th {\n",
       "        vertical-align: top;\n",
       "    }\n",
       "\n",
       "    .dataframe thead th {\n",
       "        text-align: right;\n",
       "    }\n",
       "</style>\n",
       "<table border=\"1\" class=\"dataframe\">\n",
       "  <thead>\n",
       "    <tr style=\"text-align: right;\">\n",
       "      <th></th>\n",
       "      <th>index</th>\n",
       "      <th>Date</th>\n",
       "      <th>Origin</th>\n",
       "      <th>Destination</th>\n",
       "      <th>Booked</th>\n",
       "    </tr>\n",
       "  </thead>\n",
       "  <tbody>\n",
       "    <tr>\n",
       "      <th>27</th>\n",
       "      <td>27</td>\n",
       "      <td>2013-01-01</td>\n",
       "      <td>RUH</td>\n",
       "      <td>JED</td>\n",
       "      <td>1</td>\n",
       "    </tr>\n",
       "    <tr>\n",
       "      <th>40</th>\n",
       "      <td>40</td>\n",
       "      <td>2013-01-01</td>\n",
       "      <td>DMM</td>\n",
       "      <td>MNL</td>\n",
       "      <td>1</td>\n",
       "    </tr>\n",
       "    <tr>\n",
       "      <th>59</th>\n",
       "      <td>59</td>\n",
       "      <td>2013-01-01</td>\n",
       "      <td>ATL</td>\n",
       "      <td>MIA</td>\n",
       "      <td>1</td>\n",
       "    </tr>\n",
       "    <tr>\n",
       "      <th>134</th>\n",
       "      <td>134</td>\n",
       "      <td>2013-01-01</td>\n",
       "      <td>MEL</td>\n",
       "      <td>SYD</td>\n",
       "      <td>1</td>\n",
       "    </tr>\n",
       "    <tr>\n",
       "      <th>172</th>\n",
       "      <td>172</td>\n",
       "      <td>2013-01-01</td>\n",
       "      <td>BOM</td>\n",
       "      <td>JED</td>\n",
       "      <td>1</td>\n",
       "    </tr>\n",
       "  </tbody>\n",
       "</table>\n",
       "</div>"
      ],
      "text/plain": [
       "     index        Date Origin Destination  Booked\n",
       "27      27  2013-01-01    RUH         JED       1\n",
       "40      40  2013-01-01    DMM         MNL       1\n",
       "59      59  2013-01-01    ATL         MIA       1\n",
       "134    134  2013-01-01    MEL         SYD       1\n",
       "172    172  2013-01-01    BOM         JED       1"
      ]
     },
     "execution_count": 28,
     "metadata": {},
     "output_type": "execute_result"
    }
   ],
   "source": [
    "s_b[ s_b['Booked']>0 ].head()"
   ]
  },
  {
   "cell_type": "code",
   "execution_count": 29,
   "metadata": {},
   "outputs": [
    {
     "data": {
      "text/html": [
       "<div>\n",
       "<style scoped>\n",
       "    .dataframe tbody tr th:only-of-type {\n",
       "        vertical-align: middle;\n",
       "    }\n",
       "\n",
       "    .dataframe tbody tr th {\n",
       "        vertical-align: top;\n",
       "    }\n",
       "\n",
       "    .dataframe thead th {\n",
       "        text-align: right;\n",
       "    }\n",
       "</style>\n",
       "<table border=\"1\" class=\"dataframe\">\n",
       "  <thead>\n",
       "    <tr style=\"text-align: right;\">\n",
       "      <th></th>\n",
       "      <th>index</th>\n",
       "      <th>Date</th>\n",
       "      <th>Origin</th>\n",
       "      <th>Destination</th>\n",
       "      <th>Booked</th>\n",
       "    </tr>\n",
       "  </thead>\n",
       "  <tbody>\n",
       "    <tr>\n",
       "      <th>0</th>\n",
       "      <td>0</td>\n",
       "      <td>2013-01-01</td>\n",
       "      <td>TXL</td>\n",
       "      <td>AUH</td>\n",
       "      <td>0</td>\n",
       "    </tr>\n",
       "    <tr>\n",
       "      <th>1</th>\n",
       "      <td>1</td>\n",
       "      <td>2013-01-01</td>\n",
       "      <td>ATH</td>\n",
       "      <td>MIL</td>\n",
       "      <td>0</td>\n",
       "    </tr>\n",
       "    <tr>\n",
       "      <th>2</th>\n",
       "      <td>2</td>\n",
       "      <td>2013-01-01</td>\n",
       "      <td>ICT</td>\n",
       "      <td>SFO</td>\n",
       "      <td>0</td>\n",
       "    </tr>\n",
       "    <tr>\n",
       "      <th>3</th>\n",
       "      <td>3</td>\n",
       "      <td>2013-01-01</td>\n",
       "      <td>RNB</td>\n",
       "      <td>ARN</td>\n",
       "      <td>0</td>\n",
       "    </tr>\n",
       "    <tr>\n",
       "      <th>4</th>\n",
       "      <td>4</td>\n",
       "      <td>2013-01-01</td>\n",
       "      <td>OSL</td>\n",
       "      <td>MAD</td>\n",
       "      <td>0</td>\n",
       "    </tr>\n",
       "  </tbody>\n",
       "</table>\n",
       "</div>"
      ],
      "text/plain": [
       "   index        Date Origin Destination  Booked\n",
       "0      0  2013-01-01    TXL         AUH       0\n",
       "1      1  2013-01-01    ATH         MIL       0\n",
       "2      2  2013-01-01    ICT         SFO       0\n",
       "3      3  2013-01-01    RNB         ARN       0\n",
       "4      4  2013-01-01    OSL         MAD       0"
      ]
     },
     "execution_count": 29,
     "metadata": {},
     "output_type": "execute_result"
    }
   ],
   "source": [
    "s_b.head()"
   ]
  },
  {
   "cell_type": "code",
   "execution_count": null,
   "metadata": {},
   "outputs": [],
   "source": [
    "#0 -->  add index column to searches, drop nan\n",
    "#1-> make sure dep_port & arr_port dont have spaces\n",
    "#2-> make sure cre_date and search_date have the same format\n",
    "#3-> add Booked column with 1 in bookings\n",
    "#4-> group by dep_port, arr_port, cre_date and sum Booked\n",
    "#5-> left join searches + bookings adding Booked column\n",
    "#6-> change Nan to 0 and if >0 a 1\n",
    "#------- we are here\n",
    "#7-> add column in the file\n",
    "\n",
    "b = pd.read_csv('bookings_no_dup.csv.bz2',sep='^', usecols=['dep_port', 'arr_port', 'cre_date           '])\n",
    "s=pd.read_csv('./searches_no_dup.csv.bz2', sep='^',usecols=['Destination', 'Origin', 'Date'])\n",
    "\n",
    "s.reset_index(inplace=True)\n",
    "s.dropna(inplace=True)\n",
    "\n",
    "b.columns=b.columns.map(lambda x:x.strip())\n",
    "b['dep_port']=b['dep_port'].map(   lambda x:x.strip()   )\n",
    "b['arr_port']=b['arr_port'].map(   lambda x:x.strip()   )\n",
    "b['cre_date']=b['cre_date'].str[0:10]\n",
    "b['Booked']=1\n",
    "b_gr=b.groupby(['dep_port', 'arr_port', 'cre_date']).sum().reset_index()\n",
    "s_b=s.merge(b_gr, how='left', left_on=['Destination', 'Origin', 'Date'], right_on=['arr_port', 'dep_port','cre_date'])\n",
    "s_b.drop(['arr_port', 'dep_port','cre_date'], axis=1, inplace=True)\n",
    "s_b['Booked']=s_b['Booked'].map(lambda x: 1 if x>0 else 0)"
   ]
  },
  {
   "cell_type": "code",
   "execution_count": 68,
   "metadata": {},
   "outputs": [
    {
     "data": {
      "text/html": [
       "<div>\n",
       "<style scoped>\n",
       "    .dataframe tbody tr th:only-of-type {\n",
       "        vertical-align: middle;\n",
       "    }\n",
       "\n",
       "    .dataframe tbody tr th {\n",
       "        vertical-align: top;\n",
       "    }\n",
       "\n",
       "    .dataframe thead th {\n",
       "        text-align: right;\n",
       "    }\n",
       "</style>\n",
       "<table border=\"1\" class=\"dataframe\">\n",
       "  <thead>\n",
       "    <tr style=\"text-align: right;\">\n",
       "      <th></th>\n",
       "      <th>index</th>\n",
       "      <th>Date</th>\n",
       "      <th>Origin</th>\n",
       "      <th>Destination</th>\n",
       "      <th>Booked</th>\n",
       "    </tr>\n",
       "  </thead>\n",
       "  <tbody>\n",
       "    <tr>\n",
       "      <th>0</th>\n",
       "      <td>0</td>\n",
       "      <td>2013-01-01</td>\n",
       "      <td>TXL</td>\n",
       "      <td>AUH</td>\n",
       "      <td>0</td>\n",
       "    </tr>\n",
       "    <tr>\n",
       "      <th>1</th>\n",
       "      <td>1</td>\n",
       "      <td>2013-01-01</td>\n",
       "      <td>ATH</td>\n",
       "      <td>MIL</td>\n",
       "      <td>0</td>\n",
       "    </tr>\n",
       "    <tr>\n",
       "      <th>2</th>\n",
       "      <td>2</td>\n",
       "      <td>2013-01-01</td>\n",
       "      <td>ICT</td>\n",
       "      <td>SFO</td>\n",
       "      <td>0</td>\n",
       "    </tr>\n",
       "    <tr>\n",
       "      <th>3</th>\n",
       "      <td>3</td>\n",
       "      <td>2013-01-01</td>\n",
       "      <td>RNB</td>\n",
       "      <td>ARN</td>\n",
       "      <td>0</td>\n",
       "    </tr>\n",
       "    <tr>\n",
       "      <th>4</th>\n",
       "      <td>4</td>\n",
       "      <td>2013-01-01</td>\n",
       "      <td>OSL</td>\n",
       "      <td>MAD</td>\n",
       "      <td>0</td>\n",
       "    </tr>\n",
       "  </tbody>\n",
       "</table>\n",
       "</div>"
      ],
      "text/plain": [
       "   index        Date Origin Destination  Booked\n",
       "0      0  2013-01-01    TXL         AUH       0\n",
       "1      1  2013-01-01    ATH         MIL       0\n",
       "2      2  2013-01-01    ICT         SFO       0\n",
       "3      3  2013-01-01    RNB         ARN       0\n",
       "4      4  2013-01-01    OSL         MAD       0"
      ]
     },
     "execution_count": 68,
     "metadata": {},
     "output_type": "execute_result"
    }
   ],
   "source": [
    "s_b.head()"
   ]
  },
  {
   "cell_type": "code",
   "execution_count": 30,
   "metadata": {},
   "outputs": [],
   "source": [
    "s_b.rename(columns={'index':'old_index_from_file'}, inplace=True)"
   ]
  },
  {
   "cell_type": "code",
   "execution_count": 31,
   "metadata": {},
   "outputs": [
    {
     "data": {
      "text/html": [
       "<div>\n",
       "<style scoped>\n",
       "    .dataframe tbody tr th:only-of-type {\n",
       "        vertical-align: middle;\n",
       "    }\n",
       "\n",
       "    .dataframe tbody tr th {\n",
       "        vertical-align: top;\n",
       "    }\n",
       "\n",
       "    .dataframe thead th {\n",
       "        text-align: right;\n",
       "    }\n",
       "</style>\n",
       "<table border=\"1\" class=\"dataframe\">\n",
       "  <thead>\n",
       "    <tr style=\"text-align: right;\">\n",
       "      <th></th>\n",
       "      <th>old_index_from_file</th>\n",
       "      <th>Date</th>\n",
       "      <th>Origin</th>\n",
       "      <th>Destination</th>\n",
       "      <th>Booked</th>\n",
       "    </tr>\n",
       "  </thead>\n",
       "  <tbody>\n",
       "    <tr>\n",
       "      <th>0</th>\n",
       "      <td>0</td>\n",
       "      <td>2013-01-01</td>\n",
       "      <td>TXL</td>\n",
       "      <td>AUH</td>\n",
       "      <td>0</td>\n",
       "    </tr>\n",
       "    <tr>\n",
       "      <th>1</th>\n",
       "      <td>1</td>\n",
       "      <td>2013-01-01</td>\n",
       "      <td>ATH</td>\n",
       "      <td>MIL</td>\n",
       "      <td>0</td>\n",
       "    </tr>\n",
       "    <tr>\n",
       "      <th>2</th>\n",
       "      <td>2</td>\n",
       "      <td>2013-01-01</td>\n",
       "      <td>ICT</td>\n",
       "      <td>SFO</td>\n",
       "      <td>0</td>\n",
       "    </tr>\n",
       "    <tr>\n",
       "      <th>3</th>\n",
       "      <td>3</td>\n",
       "      <td>2013-01-01</td>\n",
       "      <td>RNB</td>\n",
       "      <td>ARN</td>\n",
       "      <td>0</td>\n",
       "    </tr>\n",
       "    <tr>\n",
       "      <th>4</th>\n",
       "      <td>4</td>\n",
       "      <td>2013-01-01</td>\n",
       "      <td>OSL</td>\n",
       "      <td>MAD</td>\n",
       "      <td>0</td>\n",
       "    </tr>\n",
       "  </tbody>\n",
       "</table>\n",
       "</div>"
      ],
      "text/plain": [
       "   old_index_from_file        Date Origin Destination  Booked\n",
       "0                    0  2013-01-01    TXL         AUH       0\n",
       "1                    1  2013-01-01    ATH         MIL       0\n",
       "2                    2  2013-01-01    ICT         SFO       0\n",
       "3                    3  2013-01-01    RNB         ARN       0\n",
       "4                    4  2013-01-01    OSL         MAD       0"
      ]
     },
     "execution_count": 31,
     "metadata": {},
     "output_type": "execute_result"
    }
   ],
   "source": [
    "s_b.head()"
   ]
  },
  {
   "cell_type": "code",
   "execution_count": 33,
   "metadata": {},
   "outputs": [
    {
     "data": {
      "text/html": [
       "<div>\n",
       "<style scoped>\n",
       "    .dataframe tbody tr th:only-of-type {\n",
       "        vertical-align: middle;\n",
       "    }\n",
       "\n",
       "    .dataframe tbody tr th {\n",
       "        vertical-align: top;\n",
       "    }\n",
       "\n",
       "    .dataframe thead th {\n",
       "        text-align: right;\n",
       "    }\n",
       "</style>\n",
       "<table border=\"1\" class=\"dataframe\">\n",
       "  <thead>\n",
       "    <tr style=\"text-align: right;\">\n",
       "      <th></th>\n",
       "      <th>old_index_from_file</th>\n",
       "      <th>Date</th>\n",
       "      <th>Origin</th>\n",
       "      <th>Destination</th>\n",
       "      <th>Booked</th>\n",
       "    </tr>\n",
       "  </thead>\n",
       "  <tbody>\n",
       "    <tr>\n",
       "      <th>717997</th>\n",
       "      <td>717998</td>\n",
       "      <td>2013-05-03</td>\n",
       "      <td>CPH</td>\n",
       "      <td>AYT</td>\n",
       "      <td>0</td>\n",
       "    </tr>\n",
       "    <tr>\n",
       "      <th>717998</th>\n",
       "      <td>717999</td>\n",
       "      <td>2013-05-03</td>\n",
       "      <td>NYC</td>\n",
       "      <td>YTO</td>\n",
       "      <td>0</td>\n",
       "    </tr>\n",
       "    <tr>\n",
       "      <th>717999</th>\n",
       "      <td>718000</td>\n",
       "      <td>2013-05-03</td>\n",
       "      <td>TRF</td>\n",
       "      <td>TRD</td>\n",
       "      <td>0</td>\n",
       "    </tr>\n",
       "    <tr>\n",
       "      <th>718000</th>\n",
       "      <td>718001</td>\n",
       "      <td>2013-05-03</td>\n",
       "      <td>IAH</td>\n",
       "      <td>RDU</td>\n",
       "      <td>0</td>\n",
       "    </tr>\n",
       "    <tr>\n",
       "      <th>718001</th>\n",
       "      <td>718002</td>\n",
       "      <td>2013-10-13</td>\n",
       "      <td>VIE</td>\n",
       "      <td>HA</td>\n",
       "      <td>0</td>\n",
       "    </tr>\n",
       "  </tbody>\n",
       "</table>\n",
       "</div>"
      ],
      "text/plain": [
       "        old_index_from_file        Date Origin Destination  Booked\n",
       "717997               717998  2013-05-03    CPH         AYT       0\n",
       "717998               717999  2013-05-03    NYC         YTO       0\n",
       "717999               718000  2013-05-03    TRF         TRD       0\n",
       "718000               718001  2013-05-03    IAH         RDU       0\n",
       "718001               718002  2013-10-13    VIE          HA       0"
      ]
     },
     "execution_count": 33,
     "metadata": {},
     "output_type": "execute_result"
    }
   ],
   "source": [
    "s_b.tail() #we can see that index is different from the old index taken from the file\n",
    "#this is due to 1 line which was dropped with dropna"
   ]
  },
  {
   "cell_type": "markdown",
   "metadata": {},
   "source": [
    "We have to add booked column in the file without a duplicates. We can do this by using left join on the data frame of the whole file. The join should be done on index."
   ]
  },
  {
   "cell_type": "code",
   "execution_count": 32,
   "metadata": {},
   "outputs": [],
   "source": [
    "search_all=pd.read_csv('./searches_no_dup.csv.bz2', sep='^', low_memory=False)"
   ]
  },
  {
   "cell_type": "code",
   "execution_count": 34,
   "metadata": {},
   "outputs": [
    {
     "data": {
      "text/html": [
       "<div>\n",
       "<style scoped>\n",
       "    .dataframe tbody tr th:only-of-type {\n",
       "        vertical-align: middle;\n",
       "    }\n",
       "\n",
       "    .dataframe tbody tr th {\n",
       "        vertical-align: top;\n",
       "    }\n",
       "\n",
       "    .dataframe thead th {\n",
       "        text-align: right;\n",
       "    }\n",
       "</style>\n",
       "<table border=\"1\" class=\"dataframe\">\n",
       "  <thead>\n",
       "    <tr style=\"text-align: right;\">\n",
       "      <th></th>\n",
       "      <th>Date</th>\n",
       "      <th>Time</th>\n",
       "      <th>TxnCode</th>\n",
       "      <th>OfficeID</th>\n",
       "      <th>Country</th>\n",
       "      <th>Origin</th>\n",
       "      <th>Destination</th>\n",
       "      <th>RoundTrip</th>\n",
       "      <th>NbSegments</th>\n",
       "      <th>Seg1Departure</th>\n",
       "      <th>...</th>\n",
       "      <th>Seg6Arrival</th>\n",
       "      <th>Seg6Date</th>\n",
       "      <th>Seg6Carrier</th>\n",
       "      <th>Seg6BookingCode</th>\n",
       "      <th>From</th>\n",
       "      <th>IsPublishedForNeg</th>\n",
       "      <th>IsFromInternet</th>\n",
       "      <th>IsFromVista</th>\n",
       "      <th>TerminalID</th>\n",
       "      <th>InternetOffice</th>\n",
       "    </tr>\n",
       "  </thead>\n",
       "  <tbody>\n",
       "    <tr>\n",
       "      <th>0</th>\n",
       "      <td>2013-01-01</td>\n",
       "      <td>20:25:57</td>\n",
       "      <td>MPT</td>\n",
       "      <td>624d8c3ac0b3a7ca03e3c167e0f48327</td>\n",
       "      <td>DE</td>\n",
       "      <td>TXL</td>\n",
       "      <td>AUH</td>\n",
       "      <td>1.0</td>\n",
       "      <td>2.0</td>\n",
       "      <td>TXL</td>\n",
       "      <td>...</td>\n",
       "      <td>NaN</td>\n",
       "      <td>NaN</td>\n",
       "      <td>NaN</td>\n",
       "      <td>NaN</td>\n",
       "      <td>1ASIWS</td>\n",
       "      <td>0</td>\n",
       "      <td>0</td>\n",
       "      <td>0</td>\n",
       "      <td>d41d8cd98f00b204e9800998ecf8427e</td>\n",
       "      <td>FRA</td>\n",
       "    </tr>\n",
       "    <tr>\n",
       "      <th>1</th>\n",
       "      <td>2013-01-01</td>\n",
       "      <td>10:15:33</td>\n",
       "      <td>MPT</td>\n",
       "      <td>b0af35b31588dc4ab06d5cf2986e8e02</td>\n",
       "      <td>MD</td>\n",
       "      <td>ATH</td>\n",
       "      <td>MIL</td>\n",
       "      <td>0.0</td>\n",
       "      <td>1.0</td>\n",
       "      <td>ATH</td>\n",
       "      <td>...</td>\n",
       "      <td>NaN</td>\n",
       "      <td>NaN</td>\n",
       "      <td>NaN</td>\n",
       "      <td>NaN</td>\n",
       "      <td>1ASIWS</td>\n",
       "      <td>0</td>\n",
       "      <td>0</td>\n",
       "      <td>0</td>\n",
       "      <td>d41d8cd98f00b204e9800998ecf8427e</td>\n",
       "      <td>KIV</td>\n",
       "    </tr>\n",
       "    <tr>\n",
       "      <th>2</th>\n",
       "      <td>2013-01-01</td>\n",
       "      <td>18:04:49</td>\n",
       "      <td>MPT</td>\n",
       "      <td>3561a60621de06ab1badc8ca55699ef3</td>\n",
       "      <td>US</td>\n",
       "      <td>ICT</td>\n",
       "      <td>SFO</td>\n",
       "      <td>1.0</td>\n",
       "      <td>2.0</td>\n",
       "      <td>ICT</td>\n",
       "      <td>...</td>\n",
       "      <td>NaN</td>\n",
       "      <td>NaN</td>\n",
       "      <td>NaN</td>\n",
       "      <td>NaN</td>\n",
       "      <td>1ASIWS</td>\n",
       "      <td>0</td>\n",
       "      <td>0</td>\n",
       "      <td>0</td>\n",
       "      <td>d41d8cd98f00b204e9800998ecf8427e</td>\n",
       "      <td>NYC</td>\n",
       "    </tr>\n",
       "    <tr>\n",
       "      <th>3</th>\n",
       "      <td>2013-01-01</td>\n",
       "      <td>17:42:40</td>\n",
       "      <td>FXP</td>\n",
       "      <td>1864e5e8013d9414150e91d26b6a558b</td>\n",
       "      <td>SE</td>\n",
       "      <td>RNB</td>\n",
       "      <td>ARN</td>\n",
       "      <td>0.0</td>\n",
       "      <td>1.0</td>\n",
       "      <td>RNB</td>\n",
       "      <td>...</td>\n",
       "      <td>NaN</td>\n",
       "      <td>NaN</td>\n",
       "      <td>NaN</td>\n",
       "      <td>NaN</td>\n",
       "      <td>1ASI</td>\n",
       "      <td>0</td>\n",
       "      <td>0</td>\n",
       "      <td>0</td>\n",
       "      <td>d41d8cd98f00b204e9800998ecf8427e</td>\n",
       "      <td>STO</td>\n",
       "    </tr>\n",
       "    <tr>\n",
       "      <th>4</th>\n",
       "      <td>2013-01-01</td>\n",
       "      <td>17:48:29</td>\n",
       "      <td>MPT</td>\n",
       "      <td>1ec336348f44207d2e0027dc3a68c118</td>\n",
       "      <td>NO</td>\n",
       "      <td>OSL</td>\n",
       "      <td>MAD</td>\n",
       "      <td>1.0</td>\n",
       "      <td>2.0</td>\n",
       "      <td>OSL</td>\n",
       "      <td>...</td>\n",
       "      <td>NaN</td>\n",
       "      <td>NaN</td>\n",
       "      <td>NaN</td>\n",
       "      <td>NaN</td>\n",
       "      <td>1ASIWS</td>\n",
       "      <td>0</td>\n",
       "      <td>0</td>\n",
       "      <td>0</td>\n",
       "      <td>d41d8cd98f00b204e9800998ecf8427e</td>\n",
       "      <td>OSL</td>\n",
       "    </tr>\n",
       "  </tbody>\n",
       "</table>\n",
       "<p>5 rows × 45 columns</p>\n",
       "</div>"
      ],
      "text/plain": [
       "         Date      Time TxnCode                          OfficeID Country  \\\n",
       "0  2013-01-01  20:25:57     MPT  624d8c3ac0b3a7ca03e3c167e0f48327      DE   \n",
       "1  2013-01-01  10:15:33     MPT  b0af35b31588dc4ab06d5cf2986e8e02      MD   \n",
       "2  2013-01-01  18:04:49     MPT  3561a60621de06ab1badc8ca55699ef3      US   \n",
       "3  2013-01-01  17:42:40     FXP  1864e5e8013d9414150e91d26b6a558b      SE   \n",
       "4  2013-01-01  17:48:29     MPT  1ec336348f44207d2e0027dc3a68c118      NO   \n",
       "\n",
       "  Origin Destination  RoundTrip  NbSegments Seg1Departure      ...        \\\n",
       "0    TXL         AUH        1.0         2.0           TXL      ...         \n",
       "1    ATH         MIL        0.0         1.0           ATH      ...         \n",
       "2    ICT         SFO        1.0         2.0           ICT      ...         \n",
       "3    RNB         ARN        0.0         1.0           RNB      ...         \n",
       "4    OSL         MAD        1.0         2.0           OSL      ...         \n",
       "\n",
       "  Seg6Arrival Seg6Date Seg6Carrier Seg6BookingCode    From IsPublishedForNeg  \\\n",
       "0         NaN      NaN         NaN             NaN  1ASIWS                 0   \n",
       "1         NaN      NaN         NaN             NaN  1ASIWS                 0   \n",
       "2         NaN      NaN         NaN             NaN  1ASIWS                 0   \n",
       "3         NaN      NaN         NaN             NaN    1ASI                 0   \n",
       "4         NaN      NaN         NaN             NaN  1ASIWS                 0   \n",
       "\n",
       "  IsFromInternet IsFromVista                        TerminalID InternetOffice  \n",
       "0              0           0  d41d8cd98f00b204e9800998ecf8427e            FRA  \n",
       "1              0           0  d41d8cd98f00b204e9800998ecf8427e            KIV  \n",
       "2              0           0  d41d8cd98f00b204e9800998ecf8427e            NYC  \n",
       "3              0           0  d41d8cd98f00b204e9800998ecf8427e            STO  \n",
       "4              0           0  d41d8cd98f00b204e9800998ecf8427e            OSL  \n",
       "\n",
       "[5 rows x 45 columns]"
      ]
     },
     "execution_count": 34,
     "metadata": {},
     "output_type": "execute_result"
    }
   ],
   "source": [
    "search_all.head()"
   ]
  },
  {
   "cell_type": "code",
   "execution_count": 35,
   "metadata": {},
   "outputs": [],
   "source": [
    "result=search_all.merge(s_b,how='left', left_index=True, right_on='old_index_from_file')"
   ]
  },
  {
   "cell_type": "code",
   "execution_count": 36,
   "metadata": {},
   "outputs": [
    {
     "data": {
      "text/html": [
       "<div>\n",
       "<style scoped>\n",
       "    .dataframe tbody tr th:only-of-type {\n",
       "        vertical-align: middle;\n",
       "    }\n",
       "\n",
       "    .dataframe tbody tr th {\n",
       "        vertical-align: top;\n",
       "    }\n",
       "\n",
       "    .dataframe thead th {\n",
       "        text-align: right;\n",
       "    }\n",
       "</style>\n",
       "<table border=\"1\" class=\"dataframe\">\n",
       "  <thead>\n",
       "    <tr style=\"text-align: right;\">\n",
       "      <th></th>\n",
       "      <th>Date_x</th>\n",
       "      <th>Time</th>\n",
       "      <th>TxnCode</th>\n",
       "      <th>OfficeID</th>\n",
       "      <th>Country</th>\n",
       "      <th>Origin_x</th>\n",
       "      <th>Destination_x</th>\n",
       "      <th>RoundTrip</th>\n",
       "      <th>NbSegments</th>\n",
       "      <th>Seg1Departure</th>\n",
       "      <th>...</th>\n",
       "      <th>IsPublishedForNeg</th>\n",
       "      <th>IsFromInternet</th>\n",
       "      <th>IsFromVista</th>\n",
       "      <th>TerminalID</th>\n",
       "      <th>InternetOffice</th>\n",
       "      <th>old_index_from_file</th>\n",
       "      <th>Date_y</th>\n",
       "      <th>Origin_y</th>\n",
       "      <th>Destination_y</th>\n",
       "      <th>Booked</th>\n",
       "    </tr>\n",
       "  </thead>\n",
       "  <tbody>\n",
       "    <tr>\n",
       "      <th>0</th>\n",
       "      <td>2013-01-01</td>\n",
       "      <td>20:25:57</td>\n",
       "      <td>MPT</td>\n",
       "      <td>624d8c3ac0b3a7ca03e3c167e0f48327</td>\n",
       "      <td>DE</td>\n",
       "      <td>TXL</td>\n",
       "      <td>AUH</td>\n",
       "      <td>1.0</td>\n",
       "      <td>2.0</td>\n",
       "      <td>TXL</td>\n",
       "      <td>...</td>\n",
       "      <td>0</td>\n",
       "      <td>0</td>\n",
       "      <td>0</td>\n",
       "      <td>d41d8cd98f00b204e9800998ecf8427e</td>\n",
       "      <td>FRA</td>\n",
       "      <td>0</td>\n",
       "      <td>2013-01-01</td>\n",
       "      <td>TXL</td>\n",
       "      <td>AUH</td>\n",
       "      <td>0.0</td>\n",
       "    </tr>\n",
       "    <tr>\n",
       "      <th>1</th>\n",
       "      <td>2013-01-01</td>\n",
       "      <td>10:15:33</td>\n",
       "      <td>MPT</td>\n",
       "      <td>b0af35b31588dc4ab06d5cf2986e8e02</td>\n",
       "      <td>MD</td>\n",
       "      <td>ATH</td>\n",
       "      <td>MIL</td>\n",
       "      <td>0.0</td>\n",
       "      <td>1.0</td>\n",
       "      <td>ATH</td>\n",
       "      <td>...</td>\n",
       "      <td>0</td>\n",
       "      <td>0</td>\n",
       "      <td>0</td>\n",
       "      <td>d41d8cd98f00b204e9800998ecf8427e</td>\n",
       "      <td>KIV</td>\n",
       "      <td>1</td>\n",
       "      <td>2013-01-01</td>\n",
       "      <td>ATH</td>\n",
       "      <td>MIL</td>\n",
       "      <td>0.0</td>\n",
       "    </tr>\n",
       "    <tr>\n",
       "      <th>2</th>\n",
       "      <td>2013-01-01</td>\n",
       "      <td>18:04:49</td>\n",
       "      <td>MPT</td>\n",
       "      <td>3561a60621de06ab1badc8ca55699ef3</td>\n",
       "      <td>US</td>\n",
       "      <td>ICT</td>\n",
       "      <td>SFO</td>\n",
       "      <td>1.0</td>\n",
       "      <td>2.0</td>\n",
       "      <td>ICT</td>\n",
       "      <td>...</td>\n",
       "      <td>0</td>\n",
       "      <td>0</td>\n",
       "      <td>0</td>\n",
       "      <td>d41d8cd98f00b204e9800998ecf8427e</td>\n",
       "      <td>NYC</td>\n",
       "      <td>2</td>\n",
       "      <td>2013-01-01</td>\n",
       "      <td>ICT</td>\n",
       "      <td>SFO</td>\n",
       "      <td>0.0</td>\n",
       "    </tr>\n",
       "    <tr>\n",
       "      <th>3</th>\n",
       "      <td>2013-01-01</td>\n",
       "      <td>17:42:40</td>\n",
       "      <td>FXP</td>\n",
       "      <td>1864e5e8013d9414150e91d26b6a558b</td>\n",
       "      <td>SE</td>\n",
       "      <td>RNB</td>\n",
       "      <td>ARN</td>\n",
       "      <td>0.0</td>\n",
       "      <td>1.0</td>\n",
       "      <td>RNB</td>\n",
       "      <td>...</td>\n",
       "      <td>0</td>\n",
       "      <td>0</td>\n",
       "      <td>0</td>\n",
       "      <td>d41d8cd98f00b204e9800998ecf8427e</td>\n",
       "      <td>STO</td>\n",
       "      <td>3</td>\n",
       "      <td>2013-01-01</td>\n",
       "      <td>RNB</td>\n",
       "      <td>ARN</td>\n",
       "      <td>0.0</td>\n",
       "    </tr>\n",
       "    <tr>\n",
       "      <th>4</th>\n",
       "      <td>2013-01-01</td>\n",
       "      <td>17:48:29</td>\n",
       "      <td>MPT</td>\n",
       "      <td>1ec336348f44207d2e0027dc3a68c118</td>\n",
       "      <td>NO</td>\n",
       "      <td>OSL</td>\n",
       "      <td>MAD</td>\n",
       "      <td>1.0</td>\n",
       "      <td>2.0</td>\n",
       "      <td>OSL</td>\n",
       "      <td>...</td>\n",
       "      <td>0</td>\n",
       "      <td>0</td>\n",
       "      <td>0</td>\n",
       "      <td>d41d8cd98f00b204e9800998ecf8427e</td>\n",
       "      <td>OSL</td>\n",
       "      <td>4</td>\n",
       "      <td>2013-01-01</td>\n",
       "      <td>OSL</td>\n",
       "      <td>MAD</td>\n",
       "      <td>0.0</td>\n",
       "    </tr>\n",
       "  </tbody>\n",
       "</table>\n",
       "<p>5 rows × 50 columns</p>\n",
       "</div>"
      ],
      "text/plain": [
       "       Date_x      Time TxnCode                          OfficeID Country  \\\n",
       "0  2013-01-01  20:25:57     MPT  624d8c3ac0b3a7ca03e3c167e0f48327      DE   \n",
       "1  2013-01-01  10:15:33     MPT  b0af35b31588dc4ab06d5cf2986e8e02      MD   \n",
       "2  2013-01-01  18:04:49     MPT  3561a60621de06ab1badc8ca55699ef3      US   \n",
       "3  2013-01-01  17:42:40     FXP  1864e5e8013d9414150e91d26b6a558b      SE   \n",
       "4  2013-01-01  17:48:29     MPT  1ec336348f44207d2e0027dc3a68c118      NO   \n",
       "\n",
       "  Origin_x Destination_x  RoundTrip  NbSegments Seg1Departure  ...    \\\n",
       "0      TXL           AUH        1.0         2.0           TXL  ...     \n",
       "1      ATH           MIL        0.0         1.0           ATH  ...     \n",
       "2      ICT           SFO        1.0         2.0           ICT  ...     \n",
       "3      RNB           ARN        0.0         1.0           RNB  ...     \n",
       "4      OSL           MAD        1.0         2.0           OSL  ...     \n",
       "\n",
       "  IsPublishedForNeg IsFromInternet IsFromVista  \\\n",
       "0                 0              0           0   \n",
       "1                 0              0           0   \n",
       "2                 0              0           0   \n",
       "3                 0              0           0   \n",
       "4                 0              0           0   \n",
       "\n",
       "                         TerminalID InternetOffice old_index_from_file  \\\n",
       "0  d41d8cd98f00b204e9800998ecf8427e            FRA                   0   \n",
       "1  d41d8cd98f00b204e9800998ecf8427e            KIV                   1   \n",
       "2  d41d8cd98f00b204e9800998ecf8427e            NYC                   2   \n",
       "3  d41d8cd98f00b204e9800998ecf8427e            STO                   3   \n",
       "4  d41d8cd98f00b204e9800998ecf8427e            OSL                   4   \n",
       "\n",
       "       Date_y Origin_y Destination_y Booked  \n",
       "0  2013-01-01      TXL           AUH    0.0  \n",
       "1  2013-01-01      ATH           MIL    0.0  \n",
       "2  2013-01-01      ICT           SFO    0.0  \n",
       "3  2013-01-01      RNB           ARN    0.0  \n",
       "4  2013-01-01      OSL           MAD    0.0  \n",
       "\n",
       "[5 rows x 50 columns]"
      ]
     },
     "execution_count": 36,
     "metadata": {},
     "output_type": "execute_result"
    }
   ],
   "source": [
    "result.head()"
   ]
  },
  {
   "cell_type": "code",
   "execution_count": 37,
   "metadata": {},
   "outputs": [],
   "source": [
    "result.drop(['old_index_from_file', 'Date_y','Origin_y', 'Destination_y'], axis=1, inplace=True)"
   ]
  },
  {
   "cell_type": "code",
   "execution_count": 38,
   "metadata": {},
   "outputs": [],
   "source": [
    "result.rename(columns={'Date_x':'Date', 'Origin_x':'Origin', 'Destination_x':'Destination'}, inplace=True)"
   ]
  },
  {
   "cell_type": "code",
   "execution_count": 39,
   "metadata": {},
   "outputs": [],
   "source": [
    "result.to_csv('search_with_booking.csv', sep='^', index=False)"
   ]
  },
  {
   "cell_type": "code",
   "execution_count": null,
   "metadata": {},
   "outputs": [],
   "source": []
  },
  {
   "cell_type": "code",
   "execution_count": 40,
   "metadata": {},
   "outputs": [
    {
     "name": "stdout",
     "output_type": "stream",
     "text": [
      "Date^Time^TxnCode^OfficeID^Country^Origin^Destination^RoundTrip^NbSegments^Seg1Departure^Seg1Arrival^Seg1Date^Seg1Carrier^Seg1BookingCode^Seg2Departure^Seg2Arrival^Seg2Date^Seg2Carrier^Seg2BookingCode^Seg3Departure^Seg3Arrival^Seg3Date^Seg3Carrier^Seg3BookingCode^Seg4Departure^Seg4Arrival^Seg4Date^Seg4Carrier^Seg4BookingCode^Seg5Departure^Seg5Arrival^Seg5Date^Seg5Carrier^Seg5BookingCode^Seg6Departure^Seg6Arrival^Seg6Date^Seg6Carrier^Seg6BookingCode^From^IsPublishedForNeg^IsFromInternet^IsFromVista^TerminalID^InternetOffice^Booked\r\n",
      "2013-01-01^20:25:57^MPT^624d8c3ac0b3a7ca03e3c167e0f48327^DE^TXL^AUH^1.0^2.0^TXL^AUH^2013-01-26^D2^^AUH^TXL^2013-02-02^D2^^^^^^^^^^^^^^^^^^^^^^1ASIWS^0^0^0^d41d8cd98f00b204e9800998ecf8427e^FRA^0.0\r\n",
      "2013-01-01^10:15:33^MPT^b0af35b31588dc4ab06d5cf2986e8e02^MD^ATH^MIL^0.0^1.0^ATH^MIL^2013-01-04^^^^^^^^^^^^^^^^^^^^^^^^^^^^1ASIWS^0^0^0^d41d8cd98f00b204e9800998ecf8427e^KIV^0.0\r\n",
      "2013-01-01^18:04:49^MPT^3561a60621de06ab1badc8ca55699ef3^US^ICT^SFO^1.0^2.0^ICT^SFO^2013-08-02^^^SFO^ICT^2013-08-09^^^^^^^^^^^^^^^^^^^^^^^1ASIWS^0^0^0^d41d8cd98f00b204e9800998ecf8427e^NYC^0.0\r\n",
      "2013-01-01^17:42:40^FXP^1864e5e8013d9414150e91d26b6a558b^SE^RNB^ARN^0.0^1.0^RNB^ARN^2013-01-02^DU^W^^^^^^^^^^^^^^^^^^^^^^^^^^1ASI^0^0^0^d41d8cd98f00b204e9800998ecf8427e^STO^0.0\r\n",
      "2013-01-01^17:48:29^MPT^1ec336348f44207d2e0027dc3a68c118^NO^OSL^MAD^1.0^2.0^OSL^MAD^2013-03-22^^^MAD^OSL^2013-03-31^^^^^^^^^^^^^^^^^^^^^^^1ASIWS^0^0^0^d41d8cd98f00b204e9800998ecf8427e^OSL^0.0\r\n",
      "2013-01-01^22:00:28^MPT^3561a60621de06ab1badc8ca55699ef3^US^IAH^BLR^1.0^2.0^IAH^BLR^2013-02-14^^^BLR^IAH^2013-02-23^^^^^^^^^^^^^^^^^^^^^^^1ASIWS^0^0^0^d41d8cd98f00b204e9800998ecf8427e^NYC^0.0\r\n",
      "2013-01-01^10:47:14^MPT^d327ca6e35cc6732d4709828327ac7c1^DK^CPH^PAR^1.0^2.0^CPH^PAR^2013-03-02^^^PAR^CPH^2013-03-07^^^^^^^^^^^^^^^^^^^^^^^1ASI^0^0^0^d41d8cd98f00b204e9800998ecf8427e^CPH^0.0\r\n",
      "2013-01-01^23:39:49^MPT^38a3abb0a28e3f00fa79a11f552a5052^FR^PAR^DUB^1.0^2.0^PAR^DUB^2013-02-12^^^DUB^PAR^2013-02-17^^^^^^^^^^^^^^^^^^^^^^^1ASIWS^0^0^0^d41d8cd98f00b204e9800998ecf8427e^PAR^0.0\r\n",
      "2013-01-01^17:08:46^MPT^c8daef4f8bf73a61aa2c928705f7b82d^ES^DUS^ACE^1.0^2.0^DUS^ACE^2013-03-30^^^ACE^DUS^2013-04-06^^^^^^^^^^^^^^^^^^^^^^^1ASIWS^0^0^0^d41d8cd98f00b204e9800998ecf8427e^MAD^0.0\r\n"
     ]
    }
   ],
   "source": [
    "! head search_with_booking.csv"
   ]
  },
  {
   "cell_type": "code",
   "execution_count": null,
   "metadata": {},
   "outputs": [],
   "source": []
  }
 ],
 "metadata": {
  "kernelspec": {
   "display_name": "Python 3",
   "language": "python",
   "name": "python3"
  },
  "language_info": {
   "codemirror_mode": {
    "name": "ipython",
    "version": 3
   },
   "file_extension": ".py",
   "mimetype": "text/x-python",
   "name": "python",
   "nbconvert_exporter": "python",
   "pygments_lexer": "ipython3",
   "version": "3.6.4"
  }
 },
 "nbformat": 4,
 "nbformat_minor": 1
}
