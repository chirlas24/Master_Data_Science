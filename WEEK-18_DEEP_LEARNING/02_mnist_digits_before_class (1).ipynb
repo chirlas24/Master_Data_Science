{
  "nbformat": 4,
  "nbformat_minor": 0,
  "metadata": {
    "colab": {
      "name": "02_mnist_digits_before_class.ipynb",
      "version": "0.3.2",
      "provenance": []
    },
    "language_info": {
      "codemirror_mode": {
        "name": "ipython",
        "version": 3
      },
      "file_extension": ".py",
      "mimetype": "text/x-python",
      "name": "python",
      "nbconvert_exporter": "python",
      "pygments_lexer": "ipython3",
      "version": "3.6.6"
    },
    "kernelspec": {
      "name": "python3",
      "display_name": "Python 3"
    },
    "accelerator": "GPU"
  },
  "cells": [
    {
      "metadata": {
        "id": "ThVem054qxwA",
        "colab_type": "code",
        "colab": {
          "base_uri": "https://localhost:8080/",
          "height": 35
        },
        "outputId": "4925820b-52b4-4cf7-8deb-af058443ab4a"
      },
      "cell_type": "code",
      "source": [
        "%pylab inline\n",
        "plt.style.use('seaborn-talk')"
      ],
      "execution_count": 1,
      "outputs": [
        {
          "output_type": "stream",
          "text": [
            "Populating the interactive namespace from numpy and matplotlib\n"
          ],
          "name": "stdout"
        }
      ]
    },
    {
      "metadata": {
        "id": "tM0IrfDQqxwI",
        "colab_type": "text"
      },
      "cell_type": "markdown",
      "source": [
        "We will use this function to plot the metrics of our training process, to help in choosing the best model"
      ]
    },
    {
      "metadata": {
        "id": "PlUBAjqtqxwJ",
        "colab_type": "code",
        "colab": {}
      },
      "cell_type": "code",
      "source": [
        "def plot_metric(history, metric):\n",
        "    history_dict = history.history\n",
        "    values = history_dict[metric]\n",
        "    if 'val_' + metric in history_dict.keys():  \n",
        "        val_values = history_dict['val_' + metric]\n",
        "\n",
        "    epochs = range(1, len(values) + 1)\n",
        "\n",
        "    if 'val_' + metric in history_dict.keys():  \n",
        "        plt.plot(epochs, val_values, label='Validation')\n",
        "    plt.semilogy(epochs, values, label='Training')\n",
        "\n",
        "    if 'val_' + metric in history_dict.keys():  \n",
        "        plt.title('Training and validation %s' % metric)\n",
        "    else:\n",
        "        plt.title('Training %s' % metric)\n",
        "    plt.xlabel('Epochs')\n",
        "    plt.ylabel(metric.capitalize())\n",
        "    plt.legend()\n",
        "    plt.grid()\n",
        "\n",
        "    plt.show()  "
      ],
      "execution_count": 0,
      "outputs": []
    },
    {
      "metadata": {
        "id": "LSKUF3MBqxwL",
        "colab_type": "text"
      },
      "cell_type": "markdown",
      "source": [
        "We will use this function to explore the data"
      ]
    },
    {
      "metadata": {
        "id": "CKqOzIiuqxwM",
        "colab_type": "code",
        "colab": {}
      },
      "cell_type": "code",
      "source": [
        "def plot_mnist_image(N, imgs, labels):\n",
        "  print(\"The image below should show the number %d\" % labels[N])\n",
        "  plt.imshow(imgs[N,], cmap=plt.cm.binary)\n",
        "  plt.grid(True)"
      ],
      "execution_count": 0,
      "outputs": []
    },
    {
      "metadata": {
        "id": "h7ikcScfqxwO",
        "colab_type": "text"
      },
      "cell_type": "markdown",
      "source": [
        "# The problem\n",
        "\n",
        "We will recognize handwritten digits. For an image containing a number between 0 and 9, we will recognize the number and will produce an int as output"
      ]
    },
    {
      "metadata": {
        "id": "YxUhfX7AqxwP",
        "colab_type": "code",
        "colab": {
          "base_uri": "https://localhost:8080/",
          "height": 35
        },
        "outputId": "b0169ec2-94f3-44fe-f458-1cbb689ed7ae"
      },
      "cell_type": "code",
      "source": [
        "from keras.datasets import mnist"
      ],
      "execution_count": 4,
      "outputs": [
        {
          "output_type": "stream",
          "text": [
            "Using TensorFlow backend.\n"
          ],
          "name": "stderr"
        }
      ]
    },
    {
      "metadata": {
        "id": "Y2sJSyWhqxwS",
        "colab_type": "code",
        "colab": {}
      },
      "cell_type": "code",
      "source": [
        "# Run this to download the data prior to the lecture\n",
        "train_orig_data, test_orig_data = mnist.load_data()"
      ],
      "execution_count": 0,
      "outputs": []
    },
    {
      "metadata": {
        "id": "1ZF22AwPqxwU",
        "colab_type": "code",
        "colab": {}
      },
      "cell_type": "code",
      "source": [
        "train_imgs, train_labels = train_orig_data"
      ],
      "execution_count": 0,
      "outputs": []
    },
    {
      "metadata": {
        "id": "8xDdGNzQtmEF",
        "colab_type": "code",
        "colab": {}
      },
      "cell_type": "code",
      "source": [
        "test_imgs, test_labels = test_orig_data"
      ],
      "execution_count": 0,
      "outputs": []
    },
    {
      "metadata": {
        "id": "7NOuEscHtmkg",
        "colab_type": "code",
        "colab": {
          "base_uri": "https://localhost:8080/",
          "height": 35
        },
        "outputId": "ef5dfa41-4f5d-459b-f6ae-d99abf8f91e1"
      },
      "cell_type": "code",
      "source": [
        "train_imgs.shape"
      ],
      "execution_count": 8,
      "outputs": [
        {
          "output_type": "execute_result",
          "data": {
            "text/plain": [
              "(60000, 28, 28)"
            ]
          },
          "metadata": {
            "tags": []
          },
          "execution_count": 8
        }
      ]
    },
    {
      "metadata": {
        "id": "fY3WIAjeu07X",
        "colab_type": "code",
        "colab": {
          "base_uri": "https://localhost:8080/",
          "height": 35
        },
        "outputId": "55edba79-20d5-4e95-cc76-f577f0cd04d4"
      },
      "cell_type": "code",
      "source": [
        "train_labels.shape"
      ],
      "execution_count": 9,
      "outputs": [
        {
          "output_type": "execute_result",
          "data": {
            "text/plain": [
              "(60000,)"
            ]
          },
          "metadata": {
            "tags": []
          },
          "execution_count": 9
        }
      ]
    },
    {
      "metadata": {
        "id": "i23MsSjbu-fr",
        "colab_type": "code",
        "colab": {
          "base_uri": "https://localhost:8080/",
          "height": 35
        },
        "outputId": "e58ab006-a7b7-4090-8434-9a77273e1d20"
      },
      "cell_type": "code",
      "source": [
        "train_labels[:, np.newaxis].shape"
      ],
      "execution_count": 10,
      "outputs": [
        {
          "output_type": "execute_result",
          "data": {
            "text/plain": [
              "(60000, 1)"
            ]
          },
          "metadata": {
            "tags": []
          },
          "execution_count": 10
        }
      ]
    },
    {
      "metadata": {
        "id": "j3ywEX_QvFan",
        "colab_type": "code",
        "colab": {
          "base_uri": "https://localhost:8080/",
          "height": 35
        },
        "outputId": "d7dfa209-45dc-4a4b-8eb0-cf3e8b931a72"
      },
      "cell_type": "code",
      "source": [
        "test_imgs.shape"
      ],
      "execution_count": 11,
      "outputs": [
        {
          "output_type": "execute_result",
          "data": {
            "text/plain": [
              "(10000, 28, 28)"
            ]
          },
          "metadata": {
            "tags": []
          },
          "execution_count": 11
        }
      ]
    },
    {
      "metadata": {
        "id": "A57jeW03v0Q4",
        "colab_type": "code",
        "colab": {}
      },
      "cell_type": "code",
      "source": [
        ""
      ],
      "execution_count": 0,
      "outputs": []
    },
    {
      "metadata": {
        "id": "3yeiMCamvTps",
        "colab_type": "code",
        "colab": {
          "base_uri": "https://localhost:8080/",
          "height": 467
        },
        "outputId": "7adfc063-1ceb-4efa-91ec-3f8cb42917a2"
      },
      "cell_type": "code",
      "source": [
        "idx = np.random.randint(0, train_imgs.shape[0], 1)[0]\n",
        "plot_mnist_image(idx, train_imgs, train_labels)"
      ],
      "execution_count": 12,
      "outputs": [
        {
          "output_type": "stream",
          "text": [
            "The image below should show the number 8\n"
          ],
          "name": "stdout"
        },
        {
          "output_type": "display_data",
          "data": {
            "image/png": "[encoded data removed]",
            "text/plain": [
              "<Figure size 748.8x514.8 with 1 Axes>"
            ]
          },
          "metadata": {
            "tags": []
          }
        }
      ]
    },
    {
      "metadata": {
        "id": "SelpC3YpxwQe",
        "colab_type": "code",
        "colab": {
          "base_uri": "https://localhost:8080/",
          "height": 35
        },
        "outputId": "ded5a8da-7917-4e70-e03c-3db4a4926a5f"
      },
      "cell_type": "code",
      "source": [
        "train_imgs[idx].nonzero()[0].size/28.0/28.0"
      ],
      "execution_count": 13,
      "outputs": [
        {
          "output_type": "execute_result",
          "data": {
            "text/plain": [
              "0.18239795918367346"
            ]
          },
          "metadata": {
            "tags": []
          },
          "execution_count": 13
        }
      ]
    },
    {
      "metadata": {
        "id": "PaJ3E8qzy5wq",
        "colab_type": "text"
      },
      "cell_type": "markdown",
      "source": [
        "Ejercicio: sacar el histograma de distancias entre todos los vectores de las imágenes que representan un 5"
      ]
    },
    {
      "metadata": {
        "id": "g4QOGUIHzDzr",
        "colab_type": "code",
        "colab": {
          "base_uri": "https://localhost:8080/",
          "height": 35
        },
        "outputId": "7dba8df2-b900-4eb9-d1eb-d4b7054851b1"
      },
      "cell_type": "code",
      "source": [
        "five_labels = np.where(train_labels==5)[0]\n",
        "five_labels[:5]"
      ],
      "execution_count": 14,
      "outputs": [
        {
          "output_type": "execute_result",
          "data": {
            "text/plain": [
              "array([ 0, 11, 35, 47, 65])"
            ]
          },
          "metadata": {
            "tags": []
          },
          "execution_count": 14
        }
      ]
    },
    {
      "metadata": {
        "id": "_J9ZacxAzERG",
        "colab_type": "code",
        "colab": {
          "base_uri": "https://localhost:8080/",
          "height": 35
        },
        "outputId": "ce466012-b841-4e43-c3f3-bcd99d088ed5"
      },
      "cell_type": "code",
      "source": [
        "train_vector = (train_imgs/255.0).reshape((60000, 28*28))\n",
        "train_vector.shape"
      ],
      "execution_count": 15,
      "outputs": [
        {
          "output_type": "execute_result",
          "data": {
            "text/plain": [
              "(60000, 784)"
            ]
          },
          "metadata": {
            "tags": []
          },
          "execution_count": 15
        }
      ]
    },
    {
      "metadata": {
        "id": "zqwM_CXpzEhm",
        "colab_type": "code",
        "colab": {}
      },
      "cell_type": "code",
      "source": [
        "five_vectors = train_vector[five_labels]\n",
        "assert(five_vectors.shape[0] == five_labels.size)"
      ],
      "execution_count": 0,
      "outputs": []
    },
    {
      "metadata": {
        "id": "-mmyC3to1YfD",
        "colab_type": "code",
        "colab": {
          "base_uri": "https://localhost:8080/",
          "height": 35
        },
        "outputId": "d3fd0e12-7ee6-48e3-ac28-ccea9529b623"
      },
      "cell_type": "code",
      "source": [
        "sum(np.multiply(five_vectors[0], five_vectors[1]))"
      ],
      "execution_count": 17,
      "outputs": [
        {
          "output_type": "execute_result",
          "data": {
            "text/plain": [
              "5.264959630911188"
            ]
          },
          "metadata": {
            "tags": []
          },
          "execution_count": 17
        }
      ]
    },
    {
      "metadata": {
        "id": "zRWMj6Ap1Cr_",
        "colab_type": "code",
        "colab": {
          "base_uri": "https://localhost:8080/",
          "height": 35
        },
        "outputId": "07e6b444-2868-4fa0-f2a8-57e9d9ac0443"
      },
      "cell_type": "code",
      "source": [
        "five_vectors[0].dot(five_vectors[1])"
      ],
      "execution_count": 18,
      "outputs": [
        {
          "output_type": "execute_result",
          "data": {
            "text/plain": [
              "5.264959630911188"
            ]
          },
          "metadata": {
            "tags": []
          },
          "execution_count": 18
        }
      ]
    },
    {
      "metadata": {
        "id": "Ay-ZB8J9S9Qj",
        "colab_type": "code",
        "colab": {
          "base_uri": "https://localhost:8080/",
          "height": 35
        },
        "outputId": "60230d70-3d53-42e6-9f77-579c7d414114"
      },
      "cell_type": "code",
      "source": [
        "10**(-18)"
      ],
      "execution_count": 28,
      "outputs": [
        {
          "output_type": "execute_result",
          "data": {
            "text/plain": [
              "1e-18"
            ]
          },
          "metadata": {
            "tags": []
          },
          "execution_count": 28
        }
      ]
    },
    {
      "metadata": {
        "id": "YphCOS1VzE0k",
        "colab_type": "code",
        "colab": {}
      },
      "cell_type": "code",
      "source": [
        "def get_distance(imgs_vect1, imgs_vect2, eps=10**(-8)):\n",
        "  d = []\n",
        "  for i, img1 in enumerate(imgs_vect1):\n",
        "    for j, img2 in enumerate(imgs_vect2):\n",
        "      if j>i:\n",
        "        n1 = np.sqrt(img1.dot(img1)+eps)\n",
        "        n2 = np.sqrt(img2.dot(img2)+eps)\n",
        "        d.append(img1.dot(img2)/n1/n2)\n",
        "  return d"
      ],
      "execution_count": 0,
      "outputs": []
    },
    {
      "metadata": {
        "id": "HCgKi1H4P8A3",
        "colab_type": "code",
        "colab": {}
      },
      "cell_type": "code",
      "source": [
        "d55 = get_distance(five_vectors, five_vectors)"
      ],
      "execution_count": 0,
      "outputs": []
    },
    {
      "metadata": {
        "id": "9Jq4dS-4SK_f",
        "colab_type": "code",
        "colab": {}
      },
      "cell_type": "code",
      "source": [
        "eight_labels = np.where(train_labels==8)[0]\n",
        "eight_vectors = train_vector[eight_labels]\n",
        "\n",
        "d58 = get_distance(five_vectors, eight_vectors)"
      ],
      "execution_count": 0,
      "outputs": []
    },
    {
      "metadata": {
        "id": "_EjkgyKKO7gz",
        "colab_type": "code",
        "colab": {
          "base_uri": "https://localhost:8080/",
          "height": 449
        },
        "outputId": "16963425-9c19-4712-c2f3-03e56c5423f0"
      },
      "cell_type": "code",
      "source": [
        "plt.hist(d55, bins=50, alpha=0.3, color='r')\n",
        "plt.hist(d58, bins=50, alpha=0.3, color='b')\n",
        "plt.xlim([0, 1])\n",
        "plt.show()"
      ],
      "execution_count": 32,
      "outputs": [
        {
          "output_type": "display_data",
          "data": {
            "image/png": "[encoded data removed]",
            "text/plain": [
              "<Figure size 748.8x514.8 with 1 Axes>"
            ]
          },
          "metadata": {
            "tags": []
          }
        }
      ]
    },
    {
      "metadata": {
        "id": "CQB71BFvqxwW",
        "colab_type": "text"
      },
      "cell_type": "markdown",
      "source": [
        "We will design a network that will be able to recognize that the image is showing the number 7 (for all the images in the test set)"
      ]
    },
    {
      "metadata": {
        "id": "pSom83mMqxwX",
        "colab_type": "text"
      },
      "cell_type": "markdown",
      "source": [
        "## Data transform\n",
        "\n",
        "We need to change the shape of the data, so it can be fed to the network more easily"
      ]
    },
    {
      "metadata": {
        "id": "JY_Fdp18qxwX",
        "colab_type": "code",
        "colab": {}
      },
      "cell_type": "code",
      "source": [
        ""
      ],
      "execution_count": 0,
      "outputs": []
    },
    {
      "metadata": {
        "id": "SspfRUKaqxwa",
        "colab_type": "text"
      },
      "cell_type": "markdown",
      "source": [
        "All the images are 28x28 matrices, with values between 0 and 255. Let's normalize the images, to avoid problems in the numerical computations using large numbers.\n",
        "\n",
        "We will convert the matrix to a vector with 28x28 components, stacking columns on top of each other. This will make the design of the network.\n",
        "* Alternatively, we could add a `Flatten(input_shape=(28,28))` layer to the model"
      ]
    },
    {
      "metadata": {
        "id": "3z7ulfcQqxwb",
        "colab_type": "code",
        "colab": {}
      },
      "cell_type": "code",
      "source": [
        "train_imgs_nor = train_imgs/255.0\n",
        "test_imgs_nor = test_imgs/255.0"
      ],
      "execution_count": 0,
      "outputs": []
    },
    {
      "metadata": {
        "id": "CkuAYdwrqxwd",
        "colab_type": "text"
      },
      "cell_type": "markdown",
      "source": [
        "Because we want to assign a *category* to each image, we need to transform the output to categorical format"
      ]
    },
    {
      "metadata": {
        "id": "1KjA8L_fqxwd",
        "colab_type": "code",
        "colab": {}
      },
      "cell_type": "code",
      "source": [
        "from keras.utils import to_categorical"
      ],
      "execution_count": 0,
      "outputs": []
    },
    {
      "metadata": {
        "id": "wayUg59aqxwf",
        "colab_type": "text"
      },
      "cell_type": "markdown",
      "source": [
        "Initially, our target data is just a set of numbers"
      ]
    },
    {
      "metadata": {
        "id": "Db8FDt-Dqxwf",
        "colab_type": "code",
        "colab": {
          "base_uri": "https://localhost:8080/",
          "height": 35
        },
        "outputId": "16e36c66-5563-4710-e8d7-86b2d0a90652"
      },
      "cell_type": "code",
      "source": [
        "train_labels[0]"
      ],
      "execution_count": 34,
      "outputs": [
        {
          "output_type": "execute_result",
          "data": {
            "text/plain": [
              "5"
            ]
          },
          "metadata": {
            "tags": []
          },
          "execution_count": 34
        }
      ]
    },
    {
      "metadata": {
        "id": "AH-h6fiAqxwh",
        "colab_type": "text"
      },
      "cell_type": "markdown",
      "source": [
        "We are going to transform it to **1-HOT encoding format**"
      ]
    },
    {
      "metadata": {
        "id": "iwRlOJZ7qxwh",
        "colab_type": "code",
        "colab": {
          "base_uri": "https://localhost:8080/",
          "height": 35
        },
        "outputId": "72b50a96-bf08-4561-f457-ce0d9ba452cc"
      },
      "cell_type": "code",
      "source": [
        "train_labels_cat = to_categorical(train_labels, num_classes=10)\n",
        "train_labels_cat.shape"
      ],
      "execution_count": 38,
      "outputs": [
        {
          "output_type": "execute_result",
          "data": {
            "text/plain": [
              "(60000, 10)"
            ]
          },
          "metadata": {
            "tags": []
          },
          "execution_count": 38
        }
      ]
    },
    {
      "metadata": {
        "id": "4skckTmGqxwj",
        "colab_type": "text"
      },
      "cell_type": "markdown",
      "source": [
        "We have to repeat the same process with the test data"
      ]
    },
    {
      "metadata": {
        "id": "xnJa0URoqxwj",
        "colab_type": "code",
        "colab": {}
      },
      "cell_type": "code",
      "source": [
        "test_labels_cat = to_categorical(test_labels, num_classes=10)"
      ],
      "execution_count": 0,
      "outputs": []
    },
    {
      "metadata": {
        "id": "YD8LE1vEqxwl",
        "colab_type": "text"
      },
      "cell_type": "markdown",
      "source": [
        "## Let's build the model"
      ]
    },
    {
      "metadata": {
        "id": "Y3YqiqDNqxwm",
        "colab_type": "code",
        "colab": {}
      },
      "cell_type": "code",
      "source": [
        "from keras import models, layers, optimizers, metrics, losses"
      ],
      "execution_count": 0,
      "outputs": []
    },
    {
      "metadata": {
        "id": "yL5y4ojKZJBE",
        "colab_type": "code",
        "colab": {}
      },
      "cell_type": "code",
      "source": [
        "from keras.layers import Dense, Flatten\n",
        "from keras.models import Sequential\n",
        "from keras.optimizers import rmsprop\n",
        "from keras.metrics import categorical_accuracy\n",
        "from keras.losses import categorical_crossentropy\n",
        "from keras.activations import relu, softmax"
      ],
      "execution_count": 0,
      "outputs": []
    },
    {
      "metadata": {
        "id": "Wxd0fqZNZJSI",
        "colab_type": "code",
        "colab": {}
      },
      "cell_type": "code",
      "source": [
        "def build():\n",
        "  m = Sequential()\n",
        "  m.add(Flatten(input_shape=(28, 28)))\n",
        "  m.add(Dense(units=32, activation=relu))\n",
        "  m.add(Dense(units=16, activation=relu))\n",
        "  m.add(Dense(units=10, activation=softmax))\n",
        "  m.summary()\n",
        "  m.compile(loss=categorical_crossentropy, optimizer=rmsprop(), metrics=[categorical_accuracy])\n",
        "  return m"
      ],
      "execution_count": 0,
      "outputs": []
    },
    {
      "metadata": {
        "id": "kga2qCEfad-Z",
        "colab_type": "code",
        "colab": {
          "base_uri": "https://localhost:8080/",
          "height": 1405
        },
        "outputId": "5170ac05-412a-411d-e3e4-590f654a6e91"
      },
      "cell_type": "code",
      "source": [
        "m = build()\n",
        "h = m.fit(train_imgs_nor, train_labels_cat, batch_size=200, epochs=30, validation_split=0.2)"
      ],
      "execution_count": 53,
      "outputs": [
        {
          "output_type": "stream",
          "text": [
            "_________________________________________________________________\n",
            "Layer (type)                 Output Shape              Param #   \n",
            "=================================================================\n",
            "flatten_5 (Flatten)          (None, 784)               0         \n",
            "_________________________________________________________________\n",
            "dense_13 (Dense)             (None, 32)                25120     \n",
            "_________________________________________________________________\n",
            "dense_14 (Dense)             (None, 16)                528       \n",
            "_________________________________________________________________\n",
            "dense_15 (Dense)             (None, 10)                170       \n",
            "=================================================================\n",
            "Total params: 25,818\n",
            "Trainable params: 25,818\n",
            "Non-trainable params: 0\n",
            "_________________________________________________________________\n",
            "Train on 48000 samples, validate on 12000 samples\n",
            "Epoch 1/30\n",
            "48000/48000 [==============================] - 1s 26us/step - loss: 0.6656 - categorical_accuracy: 0.8119 - val_loss: 0.2953 - val_categorical_accuracy: 0.9170\n",
            "Epoch 2/30\n",
            "48000/48000 [==============================] - 1s 22us/step - loss: 0.2739 - categorical_accuracy: 0.9234 - val_loss: 0.2327 - val_categorical_accuracy: 0.9338\n",
            "Epoch 3/30\n",
            "48000/48000 [==============================] - 1s 21us/step - loss: 0.2180 - categorical_accuracy: 0.9386 - val_loss: 0.2040 - val_categorical_accuracy: 0.9422\n",
            "Epoch 4/30\n",
            "48000/48000 [==============================] - 1s 22us/step - loss: 0.1895 - categorical_accuracy: 0.9469 - val_loss: 0.1801 - val_categorical_accuracy: 0.9479\n",
            "Epoch 5/30\n",
            "48000/48000 [==============================] - 1s 22us/step - loss: 0.1693 - categorical_accuracy: 0.9519 - val_loss: 0.1663 - val_categorical_accuracy: 0.9521\n",
            "Epoch 6/30\n",
            "48000/48000 [==============================] - 1s 22us/step - loss: 0.1551 - categorical_accuracy: 0.9560 - val_loss: 0.1596 - val_categorical_accuracy: 0.9549\n",
            "Epoch 7/30\n",
            "48000/48000 [==============================] - 1s 22us/step - loss: 0.1424 - categorical_accuracy: 0.9595 - val_loss: 0.1511 - val_categorical_accuracy: 0.9585\n",
            "Epoch 8/30\n",
            "48000/48000 [==============================] - 1s 22us/step - loss: 0.1325 - categorical_accuracy: 0.9628 - val_loss: 0.1447 - val_categorical_accuracy: 0.9593\n",
            "Epoch 9/30\n",
            "48000/48000 [==============================] - 1s 22us/step - loss: 0.1236 - categorical_accuracy: 0.9646 - val_loss: 0.1416 - val_categorical_accuracy: 0.9591\n",
            "Epoch 10/30\n",
            "48000/48000 [==============================] - 1s 22us/step - loss: 0.1160 - categorical_accuracy: 0.9663 - val_loss: 0.1414 - val_categorical_accuracy: 0.9590\n",
            "Epoch 11/30\n",
            "48000/48000 [==============================] - 1s 21us/step - loss: 0.1097 - categorical_accuracy: 0.9686 - val_loss: 0.1387 - val_categorical_accuracy: 0.9602\n",
            "Epoch 12/30\n",
            "48000/48000 [==============================] - 1s 21us/step - loss: 0.1037 - categorical_accuracy: 0.9698 - val_loss: 0.1335 - val_categorical_accuracy: 0.9623\n",
            "Epoch 13/30\n",
            "48000/48000 [==============================] - 1s 22us/step - loss: 0.0990 - categorical_accuracy: 0.9711 - val_loss: 0.1341 - val_categorical_accuracy: 0.9593\n",
            "Epoch 14/30\n",
            "48000/48000 [==============================] - 1s 21us/step - loss: 0.0944 - categorical_accuracy: 0.9730 - val_loss: 0.1341 - val_categorical_accuracy: 0.9621\n",
            "Epoch 15/30\n",
            "48000/48000 [==============================] - 1s 22us/step - loss: 0.0899 - categorical_accuracy: 0.9741 - val_loss: 0.1301 - val_categorical_accuracy: 0.9620\n",
            "Epoch 16/30\n",
            "48000/48000 [==============================] - 1s 22us/step - loss: 0.0864 - categorical_accuracy: 0.9750 - val_loss: 0.1304 - val_categorical_accuracy: 0.9622\n",
            "Epoch 17/30\n",
            "48000/48000 [==============================] - 1s 22us/step - loss: 0.0819 - categorical_accuracy: 0.9764 - val_loss: 0.1272 - val_categorical_accuracy: 0.9637\n",
            "Epoch 18/30\n",
            "48000/48000 [==============================] - 1s 22us/step - loss: 0.0792 - categorical_accuracy: 0.9767 - val_loss: 0.1302 - val_categorical_accuracy: 0.9622\n",
            "Epoch 19/30\n",
            "48000/48000 [==============================] - 1s 21us/step - loss: 0.0759 - categorical_accuracy: 0.9777 - val_loss: 0.1365 - val_categorical_accuracy: 0.9618\n",
            "Epoch 20/30\n",
            "48000/48000 [==============================] - 1s 22us/step - loss: 0.0735 - categorical_accuracy: 0.9786 - val_loss: 0.1306 - val_categorical_accuracy: 0.9637\n",
            "Epoch 21/30\n",
            "48000/48000 [==============================] - 1s 21us/step - loss: 0.0701 - categorical_accuracy: 0.9794 - val_loss: 0.1309 - val_categorical_accuracy: 0.9620\n",
            "Epoch 22/30\n",
            "48000/48000 [==============================] - 1s 22us/step - loss: 0.0676 - categorical_accuracy: 0.9807 - val_loss: 0.1300 - val_categorical_accuracy: 0.9634\n",
            "Epoch 23/30\n",
            "48000/48000 [==============================] - 1s 21us/step - loss: 0.0648 - categorical_accuracy: 0.9809 - val_loss: 0.1331 - val_categorical_accuracy: 0.9630\n",
            "Epoch 24/30\n",
            "48000/48000 [==============================] - 1s 21us/step - loss: 0.0628 - categorical_accuracy: 0.9820 - val_loss: 0.1283 - val_categorical_accuracy: 0.9630\n",
            "Epoch 25/30\n",
            "48000/48000 [==============================] - 1s 21us/step - loss: 0.0610 - categorical_accuracy: 0.9818 - val_loss: 0.1263 - val_categorical_accuracy: 0.9645\n",
            "Epoch 26/30\n",
            "48000/48000 [==============================] - 1s 22us/step - loss: 0.0590 - categorical_accuracy: 0.9828 - val_loss: 0.1285 - val_categorical_accuracy: 0.9646\n",
            "Epoch 27/30\n",
            "48000/48000 [==============================] - 1s 22us/step - loss: 0.0563 - categorical_accuracy: 0.9834 - val_loss: 0.1318 - val_categorical_accuracy: 0.9623\n",
            "Epoch 28/30\n",
            "48000/48000 [==============================] - 1s 21us/step - loss: 0.0547 - categorical_accuracy: 0.9844 - val_loss: 0.1348 - val_categorical_accuracy: 0.9623\n",
            "Epoch 29/30\n",
            "48000/48000 [==============================] - 1s 21us/step - loss: 0.0529 - categorical_accuracy: 0.9850 - val_loss: 0.1298 - val_categorical_accuracy: 0.9640\n",
            "Epoch 30/30\n",
            "48000/48000 [==============================] - 1s 22us/step - loss: 0.0509 - categorical_accuracy: 0.9850 - val_loss: 0.1367 - val_categorical_accuracy: 0.9619\n"
          ],
          "name": "stdout"
        }
      ]
    },
    {
      "metadata": {
        "id": "XvRs1OGZaeWp",
        "colab_type": "code",
        "colab": {
          "base_uri": "https://localhost:8080/",
          "height": 481
        },
        "outputId": "74c5cb0b-b82d-4ced-c63c-1635558aec47"
      },
      "cell_type": "code",
      "source": [
        "plot_metric(h, 'loss')"
      ],
      "execution_count": 54,
      "outputs": [
        {
          "output_type": "display_data",
          "data": {
            "image/png": "[encoded data removed]",
            "text/plain": [
              "<Figure size 748.8x514.8 with 1 Axes>"
            ]
          },
          "metadata": {
            "tags": []
          }
        }
      ]
    },
    {
      "metadata": {
        "id": "drfmMjyFaei2",
        "colab_type": "code",
        "colab": {
          "base_uri": "https://localhost:8080/",
          "height": 481
        },
        "outputId": "b164c4ca-272d-4555-aa2d-9d85e12f277c"
      },
      "cell_type": "code",
      "source": [
        "plot_metric(h, 'categorical_accuracy')"
      ],
      "execution_count": 56,
      "outputs": [
        {
          "output_type": "display_data",
          "data": {
            "image/png": "[encoded data removed]",
            "text/plain": [
              "<Figure size 748.8x514.8 with 1 Axes>"
            ]
          },
          "metadata": {
            "tags": []
          }
        }
      ]
    },
    {
      "metadata": {
        "id": "rmMBIzDCe5PD",
        "colab_type": "code",
        "colab": {}
      },
      "cell_type": "code",
      "source": [
        "from keras.constraints import max_norm"
      ],
      "execution_count": 0,
      "outputs": []
    },
    {
      "metadata": {
        "id": "rKVj7qTVaevK",
        "colab_type": "code",
        "colab": {}
      },
      "cell_type": "code",
      "source": [
        "def build_reg(mx=1.0):\n",
        "  m = Sequential()\n",
        "  m.add(Flatten(input_shape=(28, 28)))\n",
        "  m.add(Dense(units=128, activation=relu, kernel_constraint=max_norm(mx)))\n",
        "  m.add(Dense(units=32, activation=relu, kernel_constraint=max_norm(mx)))\n",
        "  m.add(Dense(units=10, activation=softmax))\n",
        "  m.summary()\n",
        "  m.compile(loss=categorical_crossentropy, optimizer=rmsprop(), metrics=[categorical_accuracy])\n",
        "  return m"
      ],
      "execution_count": 0,
      "outputs": []
    },
    {
      "metadata": {
        "id": "zZZLY1qDae_r",
        "colab_type": "code",
        "colab": {
          "base_uri": "https://localhost:8080/",
          "height": 1405
        },
        "outputId": "4f92eb17-353f-47fc-eebb-4127542997fc"
      },
      "cell_type": "code",
      "source": [
        "m = build_reg(10.0)\n",
        "h = m.fit(train_imgs_nor, train_labels_cat, batch_size=200, epochs=30, validation_split=0.2)"
      ],
      "execution_count": 64,
      "outputs": [
        {
          "output_type": "stream",
          "text": [
            "_________________________________________________________________\n",
            "Layer (type)                 Output Shape              Param #   \n",
            "=================================================================\n",
            "flatten_8 (Flatten)          (None, 784)               0         \n",
            "_________________________________________________________________\n",
            "dense_22 (Dense)             (None, 128)               100480    \n",
            "_________________________________________________________________\n",
            "dense_23 (Dense)             (None, 32)                4128      \n",
            "_________________________________________________________________\n",
            "dense_24 (Dense)             (None, 10)                330       \n",
            "=================================================================\n",
            "Total params: 104,938\n",
            "Trainable params: 104,938\n",
            "Non-trainable params: 0\n",
            "_________________________________________________________________\n",
            "Train on 48000 samples, validate on 12000 samples\n",
            "Epoch 1/30\n",
            "48000/48000 [==============================] - 1s 30us/step - loss: 0.4273 - categorical_accuracy: 0.8816 - val_loss: 0.2288 - val_categorical_accuracy: 0.9332\n",
            "Epoch 2/30\n",
            "48000/48000 [==============================] - 1s 23us/step - loss: 0.1939 - categorical_accuracy: 0.9432 - val_loss: 0.1621 - val_categorical_accuracy: 0.9527\n",
            "Epoch 3/30\n",
            "48000/48000 [==============================] - 1s 23us/step - loss: 0.1398 - categorical_accuracy: 0.9584 - val_loss: 0.1319 - val_categorical_accuracy: 0.9627\n",
            "Epoch 4/30\n",
            "48000/48000 [==============================] - 1s 24us/step - loss: 0.1086 - categorical_accuracy: 0.9674 - val_loss: 0.1321 - val_categorical_accuracy: 0.9612\n",
            "Epoch 5/30\n",
            "48000/48000 [==============================] - 1s 23us/step - loss: 0.0883 - categorical_accuracy: 0.9735 - val_loss: 0.1149 - val_categorical_accuracy: 0.9654\n",
            "Epoch 6/30\n",
            "48000/48000 [==============================] - 1s 23us/step - loss: 0.0726 - categorical_accuracy: 0.9783 - val_loss: 0.1058 - val_categorical_accuracy: 0.9688\n",
            "Epoch 7/30\n",
            "48000/48000 [==============================] - 1s 23us/step - loss: 0.0604 - categorical_accuracy: 0.9821 - val_loss: 0.0968 - val_categorical_accuracy: 0.9720\n",
            "Epoch 8/30\n",
            "48000/48000 [==============================] - 1s 23us/step - loss: 0.0512 - categorical_accuracy: 0.9842 - val_loss: 0.0928 - val_categorical_accuracy: 0.9734\n",
            "Epoch 9/30\n",
            "48000/48000 [==============================] - 1s 23us/step - loss: 0.0437 - categorical_accuracy: 0.9868 - val_loss: 0.0934 - val_categorical_accuracy: 0.9736\n",
            "Epoch 10/30\n",
            "48000/48000 [==============================] - 1s 23us/step - loss: 0.0370 - categorical_accuracy: 0.9889 - val_loss: 0.0944 - val_categorical_accuracy: 0.9750\n",
            "Epoch 11/30\n",
            "48000/48000 [==============================] - 1s 23us/step - loss: 0.0315 - categorical_accuracy: 0.9906 - val_loss: 0.0908 - val_categorical_accuracy: 0.9749\n",
            "Epoch 12/30\n",
            "48000/48000 [==============================] - 1s 23us/step - loss: 0.0269 - categorical_accuracy: 0.9923 - val_loss: 0.0981 - val_categorical_accuracy: 0.9736\n",
            "Epoch 13/30\n",
            "48000/48000 [==============================] - 1s 23us/step - loss: 0.0233 - categorical_accuracy: 0.9933 - val_loss: 0.1001 - val_categorical_accuracy: 0.9744\n",
            "Epoch 14/30\n",
            "48000/48000 [==============================] - 1s 23us/step - loss: 0.0196 - categorical_accuracy: 0.9942 - val_loss: 0.1097 - val_categorical_accuracy: 0.9727\n",
            "Epoch 15/30\n",
            "48000/48000 [==============================] - 1s 24us/step - loss: 0.0164 - categorical_accuracy: 0.9953 - val_loss: 0.1023 - val_categorical_accuracy: 0.9755\n",
            "Epoch 16/30\n",
            "48000/48000 [==============================] - 1s 23us/step - loss: 0.0134 - categorical_accuracy: 0.9962 - val_loss: 0.1071 - val_categorical_accuracy: 0.9737\n",
            "Epoch 17/30\n",
            "48000/48000 [==============================] - 1s 23us/step - loss: 0.0119 - categorical_accuracy: 0.9968 - val_loss: 0.1036 - val_categorical_accuracy: 0.9753\n",
            "Epoch 18/30\n",
            "48000/48000 [==============================] - 1s 23us/step - loss: 0.0097 - categorical_accuracy: 0.9975 - val_loss: 0.1065 - val_categorical_accuracy: 0.9756\n",
            "Epoch 19/30\n",
            "48000/48000 [==============================] - 1s 23us/step - loss: 0.0085 - categorical_accuracy: 0.9978 - val_loss: 0.1116 - val_categorical_accuracy: 0.9765\n",
            "Epoch 20/30\n",
            "48000/48000 [==============================] - 1s 22us/step - loss: 0.0074 - categorical_accuracy: 0.9980 - val_loss: 0.1095 - val_categorical_accuracy: 0.9761\n",
            "Epoch 21/30\n",
            "48000/48000 [==============================] - 1s 23us/step - loss: 0.0063 - categorical_accuracy: 0.9984 - val_loss: 0.1205 - val_categorical_accuracy: 0.9753\n",
            "Epoch 22/30\n",
            "48000/48000 [==============================] - 1s 23us/step - loss: 0.0052 - categorical_accuracy: 0.9985 - val_loss: 0.1272 - val_categorical_accuracy: 0.9728\n",
            "Epoch 23/30\n",
            "48000/48000 [==============================] - 1s 23us/step - loss: 0.0044 - categorical_accuracy: 0.9988 - val_loss: 0.1275 - val_categorical_accuracy: 0.9762\n",
            "Epoch 24/30\n",
            "48000/48000 [==============================] - 1s 23us/step - loss: 0.0038 - categorical_accuracy: 0.9991 - val_loss: 0.1210 - val_categorical_accuracy: 0.9758\n",
            "Epoch 25/30\n",
            "48000/48000 [==============================] - 1s 23us/step - loss: 0.0035 - categorical_accuracy: 0.9993 - val_loss: 0.1262 - val_categorical_accuracy: 0.9751\n",
            "Epoch 26/30\n",
            "48000/48000 [==============================] - 1s 23us/step - loss: 0.0029 - categorical_accuracy: 0.9993 - val_loss: 0.1330 - val_categorical_accuracy: 0.9750\n",
            "Epoch 27/30\n",
            "48000/48000 [==============================] - 1s 23us/step - loss: 0.0025 - categorical_accuracy: 0.9994 - val_loss: 0.1296 - val_categorical_accuracy: 0.9756\n",
            "Epoch 28/30\n",
            "48000/48000 [==============================] - 1s 23us/step - loss: 0.0022 - categorical_accuracy: 0.9993 - val_loss: 0.1274 - val_categorical_accuracy: 0.9765\n",
            "Epoch 29/30\n",
            "48000/48000 [==============================] - 1s 26us/step - loss: 0.0021 - categorical_accuracy: 0.9996 - val_loss: 0.1400 - val_categorical_accuracy: 0.9756\n",
            "Epoch 30/30\n",
            "48000/48000 [==============================] - 1s 26us/step - loss: 0.0021 - categorical_accuracy: 0.9995 - val_loss: 0.1502 - val_categorical_accuracy: 0.9742\n"
          ],
          "name": "stdout"
        }
      ]
    },
    {
      "metadata": {
        "id": "TN7k5XT-gDCH",
        "colab_type": "code",
        "colab": {
          "base_uri": "https://localhost:8080/",
          "height": 481
        },
        "outputId": "0942cf20-5afe-4e57-9cdb-48fbbe634e39"
      },
      "cell_type": "code",
      "source": [
        "bplot_metric(h, 'loss')"
      ],
      "execution_count": 65,
      "outputs": [
        {
          "output_type": "display_data",
          "data": {
            "image/png": "[encoded data removed]",
            "text/plain": [
              "<Figure size 748.8x514.8 with 1 Axes>"
            ]
          },
          "metadata": {
            "tags": []
          }
        }
      ]
    },
    {
      "metadata": {
        "id": "wdVkCH8QmZRX",
        "colab_type": "code",
        "colab": {}
      },
      "cell_type": "code",
      "source": [
        "from keras.layers.convolutional"
      ],
      "execution_count": 0,
      "outputs": []
    },
    {
      "metadata": {
        "id": "3f_SkMf6qxwn",
        "colab_type": "text"
      },
      "cell_type": "markdown",
      "source": [
        "Here we will make some decisions about how to train our model.\n",
        "\n",
        "The **objective function**, called **loss function** in Deep Learning, will be *categorical crossentropy*. This is because we are trying to predict discrete classes. If we choose a different function, the solution will be different. This is the function that will tell us when we have found the *solution*. Different functions will point to different *solutions*.\n",
        "\n",
        "The **optimizer** is the method that we will use to find the minimum of the **loss function**. In general, we will not find the global minimum of the loss function, but a minimum that is good enough. *RMSProp* is one the variants of gradient descent. But there are many more:\n",
        " - http://ruder.io/optimizing-gradient-descent/\n",
        " \n",
        "These two settings will define what solution we will find during the training process.\n",
        "\n",
        "The other parameter, the **metrics**, is only for information purposes. In each step of the training (called **epoch**), Keras will report the value of the metrics. But whether we choose one metric or another will not influence the training process. It is only for reporting how the training is going. That information will be useful for the validation of the model, that is, for the **hyperparameters tuning**.\n"
      ]
    },
    {
      "metadata": {
        "id": "h6-nQo3dqxwo",
        "colab_type": "text"
      },
      "cell_type": "markdown",
      "source": [
        "Now let's fit the neural network. We will keep the results in a *history* object to plot some parameters after the training, and use that information for improving our model (changing layers, activation functions, etc). This process is called **hyperparameters tuning** or hypeparameters search.\n",
        "\n",
        "Here we need to set two parameters: the number of **epochs** and the **batch size**.\n",
        "\n",
        "In previous cells, I have said that the training process is an optimization problem: we try to find the minimum.\n",
        "\n",
        "That's actually not entirely true. In practice, we don't keep searching for a minimum. Instead, we train for a preset number of epochs. Then we analyze the output using the validation set. If we detect overfit, then we reduce the number of epochs. If we don't detect it, then maybe we can keep going for some more epochs to find a better model. The number of epochs is another hyperparameter. In general, we should stop the training as early as possible. Any further epoch can make our model overfit, and therefore generalize poorly.\n",
        "\n",
        "The batch size is another hyperparameter. The network is not updated item by item, vector by vector. We can actually calculate the weights for a batch of several items, forming a matrix or a tensor. The batch size will affect the granularity of the calculations and the performance. A larger batch size will probably result in a slightly worse accuracy, but in a better performance. As long as the batch size is not so huge that it cannot be kept in memory. Because we are running on a GPU, it is a good idea to use a power of 2 for the batch size. It will probably make a better use of the GPU. But again, the effect of the batch size must be tested using the validation set, and adjusted until we find a good value for that parameter.\n",
        "\n",
        "An epoch is a full pass over the training dataset. At the end of each epoch, Keras will calculate the value of the metrics for the training set, and the loss function and metrics for the validation set. The loss and metrics of the validation set are useful for the hyperparameters tuning process.\n",
        "\n"
      ]
    },
    {
      "metadata": {
        "id": "7JDncOWgqxwp",
        "colab_type": "code",
        "colab": {}
      },
      "cell_type": "code",
      "source": [
        ""
      ],
      "execution_count": 0,
      "outputs": []
    },
    {
      "metadata": {
        "id": "GrtJjptbqxwq",
        "colab_type": "text"
      },
      "cell_type": "markdown",
      "source": [
        "## Exercises\n",
        "\n",
        "* **EXERCISE 1**: Chante the activation function in the model. How does it affect accuracy? What happens if you use linear activation function? What happens if we use the $\\tanh$ function? Does it affect to overfitting?\n",
        " * https://keras.io/activations/\n",
        " \n",
        "Here we see that the accuracy keeps increasing over epochs. An overfitted model would produce a decrease of the validation accuracy at some point. This means that we have found an optimal model. The validation loss is stuck at a minimum, but the accuracy is not affected by the extra epochs.\n",
        "\n",
        "_**EXERCISE 2**_: How is the model accuracy (measured with the test set, see below) affected if we start over and fit for 40 epochs? And for 4? And for 400?\n",
        "\n",
        "_**EXERCISE 4**_: What is the most simple model that you can get that achieves a similar validation performance (accuracy)? (the loss values are not comparable, different networks will have different ranges of values for the loss functions)\n",
        "\n",
        "Now let's check how well the model works with the test dataset. Remember that we don't have used it at all during the training and tuning of the model."
      ]
    },
    {
      "metadata": {
        "id": "cswyDT3Qqxwr",
        "colab_type": "text"
      },
      "cell_type": "markdown",
      "source": [
        "## Analyze the classification performance"
      ]
    },
    {
      "metadata": {
        "id": "cQpHQ886qxws",
        "colab_type": "code",
        "colab": {}
      },
      "cell_type": "code",
      "source": [
        ""
      ],
      "execution_count": 0,
      "outputs": []
    },
    {
      "metadata": {
        "id": "4eqTESniqxwu",
        "colab_type": "text"
      },
      "cell_type": "markdown",
      "source": [
        "That's about a $98\\%$ accuracy on the test set. Not bad.\n",
        "\n",
        "With that accuracy, this is the number of images that are wrongly classified by our model:"
      ]
    },
    {
      "metadata": {
        "id": "6qRwCSamqxwv",
        "colab_type": "code",
        "colab": {}
      },
      "cell_type": "code",
      "source": [
        ""
      ],
      "execution_count": 0,
      "outputs": []
    },
    {
      "metadata": {
        "id": "MFGhzsqfqxwy",
        "colab_type": "text"
      },
      "cell_type": "markdown",
      "source": [
        "Let's see how well it predicts some random items from the test set."
      ]
    },
    {
      "metadata": {
        "id": "IejgAHc9qxwz",
        "colab_type": "code",
        "colab": {},
        "outputId": "6bd2bebf-0b81-4a11-ab74-400a0f592111"
      },
      "cell_type": "code",
      "source": [
        "plot_mnist_image(2543, test_imgs, test_labels)"
      ],
      "execution_count": 0,
      "outputs": [
        {
          "output_type": "stream",
          "text": [
            "The image below should show the number 8\n"
          ],
          "name": "stdout"
        },
        {
          "output_type": "display_data",
          "data": {
            "image/png": "[encoded data removed]",
            "text/plain": [
              "<Figure size 748.8x514.8 with 1 Axes>"
            ]
          },
          "metadata": {
            "tags": []
          }
        }
      ]
    },
    {
      "metadata": {
        "id": "Q9pVDmgkqxw1",
        "colab_type": "text"
      },
      "cell_type": "markdown",
      "source": [
        "The prediction is a 10-element vector (*1-HOT encoded vector*), with the probability of each class. The location of the max is giving us the predicted class."
      ]
    },
    {
      "metadata": {
        "id": "sJLLO1vyqxw1",
        "colab_type": "code",
        "colab": {}
      },
      "cell_type": "code",
      "source": [
        ""
      ],
      "execution_count": 0,
      "outputs": []
    },
    {
      "metadata": {
        "id": "wc1tkBXzqxw3",
        "colab_type": "text"
      },
      "cell_type": "markdown",
      "source": [
        "YES! Our model predicts 8\n",
        "\n",
        "_**EXERCISE 5**_: Can you find a test item that is predicted wrongly? How many images are predicted wrongly? Can you find all the items that are wrongly classified? For instance, the test element with index 3943 is a 3 but we predict a 5\n"
      ]
    },
    {
      "metadata": {
        "id": "sNdnVDfhqxw4",
        "colab_type": "code",
        "colab": {},
        "outputId": "5466a9fa-2d80-4ec8-b24b-7a92ec759297"
      },
      "cell_type": "code",
      "source": [
        "plot_mnist_image(3943, test_imgs, test_labels)"
      ],
      "execution_count": 0,
      "outputs": [
        {
          "output_type": "stream",
          "text": [
            "The image below should show the number 3\n"
          ],
          "name": "stdout"
        },
        {
          "output_type": "display_data",
          "data": {
            "image/png": "[encoded data removed]",
            "text/plain": [
              "<Figure size 748.8x514.8 with 1 Axes>"
            ]
          },
          "metadata": {
            "tags": []
          }
        }
      ]
    },
    {
      "metadata": {
        "id": "2C8t71nGqxw6",
        "colab_type": "code",
        "colab": {},
        "outputId": "9243a23c-823b-417d-a3b5-8d0854859665"
      },
      "cell_type": "code",
      "source": [
        "np.argmax(m.predict(test_imgs_t[3943:3944,]))"
      ],
      "execution_count": 0,
      "outputs": [
        {
          "output_type": "execute_result",
          "data": {
            "text/plain": [
              "5"
            ]
          },
          "metadata": {
            "tags": []
          },
          "execution_count": 84
        }
      ]
    },
    {
      "metadata": {
        "id": "heU3zW6Xqxw8",
        "colab_type": "code",
        "colab": {}
      },
      "cell_type": "code",
      "source": [
        ""
      ],
      "execution_count": 0,
      "outputs": []
    },
    {
      "metadata": {
        "id": "GwPo1cj0qxw9",
        "colab_type": "text"
      },
      "cell_type": "markdown",
      "source": [
        "Ok, but in which positions can we find all the misclassifications?"
      ]
    },
    {
      "metadata": {
        "id": "dkbA1792qxw-",
        "colab_type": "code",
        "colab": {}
      },
      "cell_type": "code",
      "source": [
        ""
      ],
      "execution_count": 0,
      "outputs": []
    },
    {
      "metadata": {
        "id": "6vl9jOq_qxw_",
        "colab_type": "text"
      },
      "cell_type": "markdown",
      "source": [
        "_**EXERCISE 6**_: Some digits are more difficult to recognize than others. Because we know the test labels, we can find out how many times the corresponding test images are misclassified. Could you find what are the top 3 test labels that are more often misclassified?"
      ]
    },
    {
      "metadata": {
        "id": "Z9ts1zr7qxxA",
        "colab_type": "text"
      },
      "cell_type": "markdown",
      "source": [
        "Let's check some wrong predictions"
      ]
    },
    {
      "metadata": {
        "id": "38wcrexHqxxA",
        "colab_type": "code",
        "colab": {},
        "outputId": "9a2923b3-16b9-4556-c691-039a583b130e"
      },
      "cell_type": "code",
      "source": [
        "plot_mnist_image(151, test_imgs, test_labels)"
      ],
      "execution_count": 0,
      "outputs": [
        {
          "output_type": "stream",
          "text": [
            "The image below should show the number 9\n"
          ],
          "name": "stdout"
        },
        {
          "output_type": "display_data",
          "data": {
            "image/png": "[encoded data removed]",
            "text/plain": [
              "<Figure size 748.8x514.8 with 1 Axes>"
            ]
          },
          "metadata": {
            "tags": []
          }
        }
      ]
    },
    {
      "metadata": {
        "id": "wrmKyBT5qxxD",
        "colab_type": "code",
        "colab": {},
        "outputId": "0bcb18e6-38da-48ef-8419-057d955b43c7"
      },
      "cell_type": "code",
      "source": [
        "preds_labels[151]"
      ],
      "execution_count": 0,
      "outputs": [
        {
          "output_type": "execute_result",
          "data": {
            "text/plain": [
              "8"
            ]
          },
          "metadata": {
            "tags": []
          },
          "execution_count": 82
        }
      ]
    },
    {
      "metadata": {
        "id": "3CCTDzCsqxxG",
        "colab_type": "text"
      },
      "cell_type": "markdown",
      "source": [
        "These are the items that are wrongly classified:"
      ]
    },
    {
      "metadata": {
        "id": "4WCermjkqxxG",
        "colab_type": "code",
        "colab": {}
      },
      "cell_type": "code",
      "source": [
        ""
      ],
      "execution_count": 0,
      "outputs": []
    },
    {
      "metadata": {
        "id": "kxlQb5u6qxxI",
        "colab_type": "text"
      },
      "cell_type": "markdown",
      "source": [
        "So we see that $9$ is wrongly classified more than the rest. But does it mean that our model has more difficulties recognizing 9s?"
      ]
    },
    {
      "metadata": {
        "id": "yvNSLJmgqxxI",
        "colab_type": "code",
        "colab": {}
      },
      "cell_type": "code",
      "source": [
        ""
      ],
      "execution_count": 0,
      "outputs": []
    },
    {
      "metadata": {
        "id": "ZD49mt3oqxxJ",
        "colab_type": "text"
      },
      "cell_type": "markdown",
      "source": [
        "Our model has the most difficulties recognizing 9s, 5s and 4s"
      ]
    },
    {
      "metadata": {
        "id": "8KJZ8TkPqxxJ",
        "colab_type": "code",
        "colab": {}
      },
      "cell_type": "code",
      "source": [
        ""
      ],
      "execution_count": 0,
      "outputs": []
    }
  ]
}