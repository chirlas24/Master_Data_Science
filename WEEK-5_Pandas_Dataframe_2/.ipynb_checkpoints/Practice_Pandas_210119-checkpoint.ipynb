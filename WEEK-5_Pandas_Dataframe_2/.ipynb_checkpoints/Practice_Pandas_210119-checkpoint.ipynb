{
 "cells": [
  {
   "cell_type": "markdown",
   "metadata": {},
   "source": [
    "# Open file"
   ]
  },
  {
   "cell_type": "code",
   "execution_count": 9,
   "metadata": {},
   "outputs": [],
   "source": [
    "#File path\n",
    "\n",
    "file_path = '/home/gonzalo/Data/us_dot/otp/'"
   ]
  },
  {
   "cell_type": "code",
   "execution_count": 10,
   "metadata": {},
   "outputs": [
    {
     "name": "stdout",
     "output_type": "stream",
     "text": [
      "total 190216\r\n",
      "    4 -rw-r--r-- 1 gonzalo gonzalo      146 nov 29 12:21 three_largest_file.txt\r\n",
      "    4 -rw-r--r-- 1 gonzalo gonzalo      245 nov 24 13:30 three_largest_files.txt\r\n",
      "25124 -rwxr-x--- 1 gonzalo gonzalo 25726054 mar 13  2018 On_Time_On_Time_Performance_2015_8.zip\r\n",
      "25592 -rwxr-x--- 1 gonzalo gonzalo 26204213 mar 13  2018 On_Time_On_Time_Performance_2015_7.zip\r\n",
      "25156 -rwxr-x--- 1 gonzalo gonzalo 25758350 mar 13  2018 On_Time_On_Time_Performance_2015_6.zip\r\n",
      "23764 -rwxr-x--- 1 gonzalo gonzalo 24334057 mar 13  2018 On_Time_On_Time_Performance_2015_5.zip\r\n",
      "23072 -rwxr-x--- 1 gonzalo gonzalo 23625261 mar 13  2018 On_Time_On_Time_Performance_2015_4.zip\r\n",
      "24232 -rwxr-x--- 1 gonzalo gonzalo 24811186 mar 13  2018 On_Time_On_Time_Performance_2015_3.zip\r\n",
      "20736 -rwxr-x--- 1 gonzalo gonzalo 21230105 mar 13  2018 On_Time_On_Time_Performance_2015_2.zip\r\n",
      "22524 -rwxr-x--- 1 gonzalo gonzalo 23061340 mar 13  2018 On_Time_On_Time_Performance_2015_1.zip\r\n",
      "    4 -rw-r--r-- 1 gonzalo gonzalo      413 nov 29 12:24 history_20.txt\r\n",
      "    4 -rw-r--r-- 1 gonzalo gonzalo     2914 nov 24 13:31 history_20\r\n"
     ]
    }
   ],
   "source": [
    "#Look in the path\n",
    "\n",
    "! ls -lrs  {file_path}"
   ]
  },
  {
   "cell_type": "code",
   "execution_count": 11,
   "metadata": {
    "scrolled": true
   },
   "outputs": [
    {
     "name": "stdout",
     "output_type": "stream",
     "text": [
      "Archive:  /home/gonzalo/Data/us_dot/otp/On_Time_On_Time_Performance_2015_8.zip\r\n",
      "  Length      Date    Time    Name\r\n",
      "---------  ---------- -----   ----\r\n",
      "230183662  2015-10-05 15:33   On_Time_On_Time_Performance_2015_8.csv\r\n",
      "    12054  2015-10-05 15:33   readme.html\r\n",
      "---------                     -------\r\n",
      "230195716                     2 files\r\n"
     ]
    }
   ],
   "source": [
    "! unzip -l {file_path}On_Time_On_Time_Performance_2015_8.zip"
   ]
  },
  {
   "cell_type": "code",
   "execution_count": 13,
   "metadata": {
    "scrolled": true
   },
   "outputs": [
    {
     "name": "stdout",
     "output_type": "stream",
     "text": [
      "Archive:  /home/gonzalo/Data/us_dot/otp/On_Time_On_Time_Performance_2015_8.zip\n",
      "  inflating: /home/gonzalo/Repos/Master_Data_Science/WEEK-5_Pandas_Dataframe_2/readme.html  \n"
     ]
    }
   ],
   "source": [
    "! unzip -o {file_path}On_Time_On_Time_Performance_2015_8.zip readme.html -d $(pwd)"
   ]
  },
  {
   "cell_type": "code",
   "execution_count": 14,
   "metadata": {},
   "outputs": [
    {
     "name": "stdout",
     "output_type": "stream",
     "text": [
      "total 2080\r\n",
      "  8 -rw-r--r-- 1 gonzalo gonzalo   7943 ene 18 20:45 tips.csv\r\n",
      " 12 -rw-r--r-- 1 gonzalo gonzalo  12054 oct  5  2015 readme.html\r\n",
      "  4 -rw-r--r-- 1 gonzalo gonzalo   3411 ene 21 13:15 Practice_Pandas.ipynb\r\n",
      "168 -rw-r--r-- 1 gonzalo gonzalo 171704 ene 21 12:57 06-intro_to_pandas_practical_AAF_mine.ipynb\r\n",
      "536 -rw-r--r-- 1 gonzalo gonzalo 546843 ene 19 12:11 06-intro_to_pandas_practical_AAF.ipynb\r\n",
      "472 -rw-r--r-- 1 gonzalo gonzalo 481391 ene 21 12:46 05-visualization_introduction_AAF_mine.ipynb\r\n",
      "604 -rw-r--r-- 1 gonzalo gonzalo 616886 ene 21 12:46 05-visualization_introduction_AAF.ipynb\r\n",
      " 68 -rw-r--r-- 1 gonzalo gonzalo  68362 ene 18 21:47 04-group_by_AAF_mine.ipynb\r\n",
      " 80 -rw-r--r-- 1 gonzalo gonzalo  79751 ene 18 21:30 04-group_by_AAF.ipynb\r\n",
      "112 -rw-r--r-- 1 gonzalo gonzalo 112856 ene 18 19:14 03-merge_concatenate_transform_mine.ipynb\r\n",
      " 16 -rw-r--r-- 1 gonzalo gonzalo  14025 ene 18 17:11 03-merge_concatenate_transform_clean.ipynb\r\n"
     ]
    }
   ],
   "source": [
    "! ls -lrs"
   ]
  },
  {
   "cell_type": "code",
   "execution_count": 16,
   "metadata": {
    "scrolled": true
   },
   "outputs": [
    {
     "data": {
      "text/html": [
       "\n",
       "        <iframe\n",
       "            width=\"700\"\n",
       "            height=\"700\"\n",
       "            src=\"readme.html\"\n",
       "            frameborder=\"0\"\n",
       "            allowfullscreen\n",
       "        ></iframe>\n",
       "        "
      ],
      "text/plain": [
       "<IPython.lib.display.IFrame at 0x7fcb740c5320>"
      ]
     },
     "execution_count": 16,
     "metadata": {},
     "output_type": "execute_result"
    }
   ],
   "source": [
    "# Open readme\n",
    "\n",
    "from IPython.display import IFrame\n",
    "IFrame('readme.html', width=700, height=700)"
   ]
  },
  {
   "cell_type": "code",
   "execution_count": 18,
   "metadata": {},
   "outputs": [
    {
     "name": "stdout",
     "output_type": "stream",
     "text": [
      "\"Year\",\"Quarter\",\"Month\",\"DayofMonth\",\"DayOfWeek\",\"FlightDate\",\"UniqueCarrier\",\"AirlineID\",\"Carrier\",\"TailNum\",\"FlightNum\",\"OriginAirportID\",\"OriginAirportSeqID\",\"OriginCityMarketID\",\"Origin\",\"OriginCityName\",\"OriginState\",\"OriginStateFips\",\"OriginStateName\",\"OriginWac\",\"DestAirportID\",\"DestAirportSeqID\",\"DestCityMarketID\",\"Dest\",\"DestCityName\",\"DestState\",\"DestStateFips\",\"DestStateName\",\"DestWac\",\"CRSDepTime\",\"DepTime\",\"DepDelay\",\"DepDelayMinutes\",\"DepDel15\",\"DepartureDelayGroups\",\"DepTimeBlk\",\"TaxiOut\",\"WheelsOff\",\"WheelsOn\",\"TaxiIn\",\"CRSArrTime\",\"ArrTime\",\"ArrDelay\",\"ArrDelayMinutes\",\"ArrDel15\",\"ArrivalDelayGroups\",\"ArrTimeBlk\",\"Cancelled\",\"CancellationCode\",\"Diverted\",\"CRSElapsedTime\",\"ActualElapsedTime\",\"AirTime\",\"Flights\",\"Distance\",\"DistanceGroup\",\"CarrierDelay\",\"WeatherDelay\",\"NASDelay\",\"SecurityDelay\",\"LateAircraftDelay\",\"FirstDepTime\",\"TotalAddGTime\",\"LongestAddGTime\",\"DivAirportLandings\",\"DivReachedDest\",\"DivActualElapsedTime\",\"DivArrDelay\",\"DivDistance\",\"Div1Airport\",\"Div1AirportID\",\"Div1AirportSeqID\",\"Div1WheelsOn\",\"Div1TotalGTime\",\"Div1LongestGTime\",\"Div1WheelsOff\",\"Div1TailNum\",\"Div2Airport\",\"Div2AirportID\",\"Div2AirportSeqID\",\"Div2WheelsOn\",\"Div2TotalGTime\",\"Div2LongestGTime\",\"Div2WheelsOff\",\"Div2TailNum\",\"Div3Airport\",\"Div3AirportID\",\"Div3AirportSeqID\",\"Div3WheelsOn\",\"Div3TotalGTime\",\"Div3LongestGTime\",\"Div3WheelsOff\",\"Div3TailNum\",\"Div4Airport\",\"Div4AirportID\",\"Div4AirportSeqID\",\"Div4WheelsOn\",\"Div4TotalGTime\",\"Div4LongestGTime\",\"Div4WheelsOff\",\"Div4TailNum\",\"Div5Airport\",\"Div5AirportID\",\"Div5AirportSeqID\",\"Div5WheelsOn\",\"Div5TotalGTime\",\"Div5LongestGTime\",\"Div5WheelsOff\",\"Div5TailNum\",\r\n",
      "2015,3,8,2,7,2015-08-02,\"AA\",19805,\"AA\",\"N790AA\",\"1\",12478,1247803,31703,\"JFK\",\"New York, NY\",\"NY\",\"36\",\"New York\",22,12892,1289203,32575,\"LAX\",\"Los Angeles, CA\",\"CA\",\"06\",\"California\",91,\"0900\",\"0854\",-6.00,0.00,0.00,-1,\"0900-0959\",25.00,\"0919\",\"1132\",15.00,\"1213\",\"1147\",-26.00,0.00,0.00,-2,\"1200-1259\",0.00,\"\",0.00,373.00,353.00,313.00,1.00,2475.00,10,,,,,,\"\",,,0,,,,,\"\",,,\"\",,,\"\",\"\",\"\",,,\"\",,,\"\",\"\",\"\",,,\"\",,,\"\",\"\",\"\",,,\"\",,,\"\",\"\",\"\",,,\"\",,,\"\",\"\",\r\n"
     ]
    }
   ],
   "source": [
    "! unzip -p {file_path}On_Time_On_Time_Performance_2015_8.zip | head -n 2"
   ]
  },
  {
   "cell_type": "code",
   "execution_count": 19,
   "metadata": {},
   "outputs": [],
   "source": [
    "import os\n",
    "import zipfile"
   ]
  },
  {
   "cell_type": "code",
   "execution_count": 21,
   "metadata": {},
   "outputs": [],
   "source": [
    "list_files = os.listdir(file_path)\n"
   ]
  },
  {
   "cell_type": "code",
   "execution_count": null,
   "metadata": {},
   "outputs": [],
   "source": []
  }
 ],
 "metadata": {
  "kernelspec": {
   "display_name": "Python 3",
   "language": "python",
   "name": "python3"
  },
  "language_info": {
   "codemirror_mode": {
    "name": "ipython",
    "version": 3
   },
   "file_extension": ".py",
   "mimetype": "text/x-python",
   "name": "python",
   "nbconvert_exporter": "python",
   "pygments_lexer": "ipython3",
   "version": "3.7.0"
  }
 },
 "nbformat": 4,
 "nbformat_minor": 2
}
