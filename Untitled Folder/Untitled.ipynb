{
 "cells": [
  {
   "cell_type": "code",
   "execution_count": 1,
   "metadata": {},
   "outputs": [],
   "source": [
    "import pandas as pd"
   ]
  },
  {
   "cell_type": "code",
   "execution_count": 2,
   "metadata": {},
   "outputs": [],
   "source": [
    "path = '/home/gonzalo/Data/zara_data_go_2019_initial_dataset/'"
   ]
  },
  {
   "cell_type": "code",
   "execution_count": 3,
   "metadata": {},
   "outputs": [],
   "source": [
    "import os"
   ]
  },
  {
   "cell_type": "code",
   "execution_count": 7,
   "metadata": {},
   "outputs": [
    {
     "data": {
      "text/plain": [
       "['positions_day_71.csv',\n",
       " 'stock_day_71_stock_replenishment_days_72-77.csv',\n",
       " 'stock_and_sales_day_0_day_63.csv',\n",
       " 'products.csv',\n",
       " 'positions_day_0_day_63.csv',\n",
       " 'product_blocks.csv']"
      ]
     },
     "execution_count": 7,
     "metadata": {},
     "output_type": "execute_result"
    }
   ],
   "source": [
    "csvs = os.listdir(path)\n",
    "csvs"
   ]
  },
  {
   "cell_type": "code",
   "execution_count": 8,
   "metadata": {},
   "outputs": [],
   "source": [
    "positions = pd.read_csv(path + '/' + csvs[0])\n",
    "stock_replen72_77 = pd.read_csv(path + '/' + csvs[1])\n",
    "sotck_sales0_63= pd.read_csv(path + '/' + csvs[2])\n",
    "procucts = pd.read_csv(path + '/' + csvs[3])\n",
    "psotions = pd.read_csv(path + '/' + csvs[4])\n",
    "product_blocks = pd.read_csv(path + '/' + csvs[5])"
   ]
  },
  {
   "cell_type": "code",
   "execution_count": null,
   "metadata": {},
   "outputs": [],
   "source": []
  },
  {
   "cell_type": "markdown",
   "metadata": {},
   "source": [
    "for file in csvs:\n",
    "    a = pd.read_csv(path + '/' + file)\n",
    "    print(a.head())"
   ]
  },
  {
   "cell_type": "code",
   "execution_count": null,
   "metadata": {},
   "outputs": [],
   "source": []
  }
 ],
 "metadata": {
  "kernelspec": {
   "display_name": "Python 3",
   "language": "python",
   "name": "python3"
  },
  "language_info": {
   "codemirror_mode": {
    "name": "ipython",
    "version": 3
   },
   "file_extension": ".py",
   "mimetype": "text/x-python",
   "name": "python",
   "nbconvert_exporter": "python",
   "pygments_lexer": "ipython3",
   "version": "3.6.8"
  }
 },
 "nbformat": 4,
 "nbformat_minor": 2
}
